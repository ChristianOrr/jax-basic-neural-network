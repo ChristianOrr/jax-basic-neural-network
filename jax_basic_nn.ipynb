{
 "cells": [
  {
   "cell_type": "code",
   "execution_count": 48,
   "metadata": {},
   "outputs": [],
   "source": [
    "import numpy as np\n",
    "import pandas as pd\n",
    "import matplotlib.pyplot as plt\n",
    "import jax.numpy as jnp\n",
    "from jax import random\n",
    "from jax import nn"
   ]
  },
  {
   "cell_type": "code",
   "execution_count": 28,
   "metadata": {},
   "outputs": [],
   "source": [
    "data = pd.read_csv('./digit-recognizer/train.csv')"
   ]
  },
  {
   "cell_type": "code",
   "execution_count": 47,
   "metadata": {},
   "outputs": [],
   "source": [
    "data = jnp.array(data)\n",
    "m, n = data.shape\n",
    "shuffle_key = random.PRNGKey(100)\n",
    "random.permutation(shuffle_key, data, independent=True) # shuffle before splitting into dev and training sets\n",
    "\n",
    "train_data = data[1000:m].T\n",
    "Y_train = train_data[0]\n",
    "X_train = train_data[1:n]\n",
    "X_train = X_train / 255.\n",
    "_, m_train = X_train.shape\n",
    "\n",
    "val_data = data[0:1000].T\n",
    "Y_val = val_data[0]\n",
    "X_val = val_data[1:n]\n",
    "X_val = X_val / 255."
   ]
  },
  {
   "cell_type": "code",
   "execution_count": 30,
   "metadata": {},
   "outputs": [
    {
     "data": {
      "text/plain": [
       "DeviceArray([1, 0, 1, ..., 7, 6, 9], dtype=int32)"
      ]
     },
     "execution_count": 30,
     "metadata": {},
     "output_type": "execute_result"
    }
   ],
   "source": [
    "Y_train"
   ]
  },
  {
   "cell_type": "code",
   "execution_count": 40,
   "metadata": {},
   "outputs": [],
   "source": [
    "def init_params():\n",
    "    key = random.PRNGKey(42)\n",
    "    key, *subkey = random.split(key, 5)\n",
    "    W1 = random.uniform(subkey[0], (10, 784), jnp.float32, -0.5, 0.5)\n",
    "    b1 = random.uniform(subkey[1], (10, 1), jnp.float32, -0.5, 0.5)\n",
    "    W2 = random.uniform(subkey[2], (10, 10), jnp.float32, -0.5, 0.5)\n",
    "    b2 = random.uniform(subkey[3], (10, 1), jnp.float32, -0.5, 0.5)\n",
    "    return W1, b1, W2, b2\n",
    "\n",
    "def ReLU(Z):\n",
    "    return jnp.maximum(Z, 0)\n",
    "\n",
    "def softmax(Z):\n",
    "    A = jnp.exp(Z) / sum(jnp.exp(Z))\n",
    "    return A   \n",
    "\n",
    "def forward_prop(W1, b1, W2, b2, X):\n",
    "    Z1 = W1.dot(X) + b1\n",
    "    A1 = ReLU(Z1)\n",
    "    Z2 = W2.dot(A1) + b2\n",
    "    A2 = softmax(Z2)\n",
    "    return Z1, A1, Z2, A2\n",
    "\n",
    "def ReLU_deriv(Z):\n",
    "    return Z > 0\n",
    "\n",
    "def one_hot(Y):\n",
    "    one_hot_Y = nn.one_hot(Y, Y.max() + 1)\n",
    "    one_hot_Y = one_hot_Y.T\n",
    "    return one_hot_Y\n",
    "\n",
    "def backward_prop(Z1, A1, Z2, A2, W1, W2, X, Y):\n",
    "    one_hot_Y = one_hot(Y)\n",
    "    dZ2 = A2 - one_hot_Y\n",
    "    dW2 = 1 / m * dZ2.dot(A1.T)\n",
    "    db2 = 1 / m * jnp.sum(dZ2)\n",
    "    dZ1 = W2.T.dot(dZ2) * ReLU_deriv(Z1)\n",
    "    dW1 = 1 / m * dZ1.dot(X.T)\n",
    "    db1 = 1 / m * jnp.sum(dZ1)\n",
    "    return dW1, db1, dW2, db2\n",
    "\n",
    "def update_params(W1, b1, W2, b2, dW1, db1, dW2, db2, alpha):\n",
    "    W1 = W1 - alpha * dW1\n",
    "    b1 = b1 - alpha * db1    \n",
    "    W2 = W2 - alpha * dW2  \n",
    "    b2 = b2 - alpha * db2    \n",
    "    return W1, b1, W2, b2\n"
   ]
  },
  {
   "cell_type": "code",
   "execution_count": 41,
   "metadata": {},
   "outputs": [],
   "source": [
    "def get_predictions(A2):\n",
    "    return jnp.argmax(A2, 0)\n",
    "\n",
    "def get_accuracy(predictions, Y):\n",
    "    print(predictions, Y)\n",
    "    return jnp.sum(predictions == Y) / Y.size\n",
    "\n",
    "def gradient_descent(X, Y, alpha, iterations):\n",
    "    W1, b1, W2, b2 = init_params()\n",
    "    for i in range(iterations):\n",
    "        Z1, A1, Z2, A2 = forward_prop(W1, b1, W2, b2, X)\n",
    "        dW1, db1, dW2, db2 = backward_prop(Z1, A1, Z2, A2, W1, W2, X, Y)\n",
    "        W1, b1, W2, b2 = update_params(W1, b1, W2, b2, dW1, db1, dW2, db2, alpha)\n",
    "        if i % 10 == 0:\n",
    "            print(\"Iteration: \", i)\n",
    "            predictions = get_predictions(A2)\n",
    "            print(get_accuracy(predictions, Y))\n",
    "    return W1, b1, W2, b2"
   ]
  },
  {
   "cell_type": "code",
   "execution_count": 44,
   "metadata": {},
   "outputs": [
    {
     "name": "stdout",
     "output_type": "stream",
     "text": [
      "Iteration:  0\n",
      "[3 3 3 ... 9 9 3] [1 0 1 ... 7 6 9]\n",
      "0.10959524\n",
      "Iteration:  10\n",
      "[8 0 1 ... 1 6 6] [1 0 1 ... 7 6 9]\n",
      "0.2405238\n",
      "Iteration:  20\n",
      "[8 0 1 ... 1 6 8] [1 0 1 ... 7 6 9]\n",
      "0.3342619\n",
      "Iteration:  30\n",
      "[7 0 1 ... 7 6 8] [1 0 1 ... 7 6 9]\n",
      "0.39069048\n",
      "Iteration:  40\n",
      "[7 0 1 ... 7 6 8] [1 0 1 ... 7 6 9]\n",
      "0.4410476\n",
      "Iteration:  50\n",
      "[4 0 1 ... 7 6 7] [1 0 1 ... 7 6 9]\n",
      "0.49369046\n",
      "Iteration:  60\n",
      "[8 0 1 ... 7 6 4] [1 0 1 ... 7 6 9]\n",
      "0.53742856\n",
      "Iteration:  70\n",
      "[8 0 1 ... 7 6 4] [1 0 1 ... 7 6 9]\n",
      "0.5740476\n",
      "Iteration:  80\n",
      "[1 0 1 ... 7 6 4] [1 0 1 ... 7 6 9]\n",
      "0.60540473\n",
      "Iteration:  90\n",
      "[1 0 1 ... 7 6 4] [1 0 1 ... 7 6 9]\n",
      "0.62819046\n",
      "Iteration:  100\n",
      "[1 0 1 ... 7 6 4] [1 0 1 ... 7 6 9]\n",
      "0.64857143\n",
      "Iteration:  110\n",
      "[1 0 1 ... 7 6 4] [1 0 1 ... 7 6 9]\n",
      "0.66578573\n",
      "Iteration:  120\n",
      "[1 0 1 ... 7 6 4] [1 0 1 ... 7 6 9]\n",
      "0.68061906\n",
      "Iteration:  130\n",
      "[1 0 1 ... 7 6 4] [1 0 1 ... 7 6 9]\n",
      "0.6927381\n",
      "Iteration:  140\n",
      "[1 0 1 ... 7 6 4] [1 0 1 ... 7 6 9]\n",
      "0.7040476\n",
      "Iteration:  150\n",
      "[1 0 1 ... 7 6 4] [1 0 1 ... 7 6 9]\n",
      "0.7147619\n",
      "Iteration:  160\n",
      "[1 0 1 ... 7 6 4] [1 0 1 ... 7 6 9]\n",
      "0.72395235\n",
      "Iteration:  170\n",
      "[1 0 1 ... 7 6 4] [1 0 1 ... 7 6 9]\n",
      "0.7320714\n",
      "Iteration:  180\n",
      "[1 0 1 ... 7 6 4] [1 0 1 ... 7 6 9]\n",
      "0.739619\n",
      "Iteration:  190\n",
      "[1 0 1 ... 7 6 4] [1 0 1 ... 7 6 9]\n",
      "0.7470476\n",
      "Iteration:  200\n",
      "[1 0 1 ... 7 6 4] [1 0 1 ... 7 6 9]\n",
      "0.7536905\n",
      "Iteration:  210\n",
      "[1 0 1 ... 7 6 4] [1 0 1 ... 7 6 9]\n",
      "0.758881\n",
      "Iteration:  220\n",
      "[1 0 1 ... 7 6 4] [1 0 1 ... 7 6 9]\n",
      "0.7645714\n",
      "Iteration:  230\n",
      "[1 0 1 ... 7 6 4] [1 0 1 ... 7 6 9]\n",
      "0.77069044\n",
      "Iteration:  240\n",
      "[1 0 1 ... 7 6 4] [1 0 1 ... 7 6 9]\n",
      "0.7755\n",
      "Iteration:  250\n",
      "[1 0 1 ... 7 6 4] [1 0 1 ... 7 6 9]\n",
      "0.78090477\n",
      "Iteration:  260\n",
      "[1 0 1 ... 7 6 4] [1 0 1 ... 7 6 9]\n",
      "0.7850476\n",
      "Iteration:  270\n",
      "[1 0 1 ... 7 6 4] [1 0 1 ... 7 6 9]\n",
      "0.7896429\n",
      "Iteration:  280\n",
      "[1 0 1 ... 7 6 4] [1 0 1 ... 7 6 9]\n",
      "0.79347616\n",
      "Iteration:  290\n",
      "[1 0 1 ... 7 6 4] [1 0 1 ... 7 6 9]\n",
      "0.7974524\n",
      "Iteration:  300\n",
      "[1 0 1 ... 7 6 4] [1 0 1 ... 7 6 9]\n",
      "0.80066663\n",
      "Iteration:  310\n",
      "[1 0 1 ... 7 6 4] [1 0 1 ... 7 6 9]\n",
      "0.8038095\n",
      "Iteration:  320\n",
      "[1 0 1 ... 7 6 4] [1 0 1 ... 7 6 9]\n",
      "0.8065952\n",
      "Iteration:  330\n",
      "[1 0 1 ... 7 6 4] [1 0 1 ... 7 6 9]\n",
      "0.80945235\n",
      "Iteration:  340\n",
      "[1 0 1 ... 7 6 4] [1 0 1 ... 7 6 9]\n",
      "0.8123095\n",
      "Iteration:  350\n",
      "[1 0 1 ... 7 6 4] [1 0 1 ... 7 6 9]\n",
      "0.81516665\n",
      "Iteration:  360\n",
      "[1 0 1 ... 7 6 4] [1 0 1 ... 7 6 9]\n",
      "0.81740475\n",
      "Iteration:  370\n",
      "[1 0 1 ... 7 6 4] [1 0 1 ... 7 6 9]\n",
      "0.8198571\n",
      "Iteration:  380\n",
      "[1 0 1 ... 7 6 4] [1 0 1 ... 7 6 9]\n",
      "0.82199997\n",
      "Iteration:  390\n",
      "[1 0 1 ... 7 6 4] [1 0 1 ... 7 6 9]\n",
      "0.82423806\n",
      "Iteration:  400\n",
      "[1 0 1 ... 7 6 4] [1 0 1 ... 7 6 9]\n",
      "0.8270952\n",
      "Iteration:  410\n",
      "[1 0 1 ... 7 6 4] [1 0 1 ... 7 6 9]\n",
      "0.82897615\n",
      "Iteration:  420\n",
      "[1 0 1 ... 7 6 4] [1 0 1 ... 7 6 9]\n",
      "0.8312619\n",
      "Iteration:  430\n",
      "[1 0 1 ... 7 6 9] [1 0 1 ... 7 6 9]\n",
      "0.8332857\n",
      "Iteration:  440\n",
      "[1 0 1 ... 7 6 9] [1 0 1 ... 7 6 9]\n",
      "0.83507144\n",
      "Iteration:  450\n",
      "[1 0 1 ... 7 6 9] [1 0 1 ... 7 6 9]\n",
      "0.83711904\n",
      "Iteration:  460\n",
      "[1 0 1 ... 7 6 9] [1 0 1 ... 7 6 9]\n",
      "0.8387143\n",
      "Iteration:  470\n",
      "[1 0 1 ... 7 6 9] [1 0 1 ... 7 6 9]\n",
      "0.8403571\n",
      "Iteration:  480\n",
      "[1 0 1 ... 7 6 9] [1 0 1 ... 7 6 9]\n",
      "0.8419524\n",
      "Iteration:  490\n",
      "[1 0 1 ... 7 6 9] [1 0 1 ... 7 6 9]\n",
      "0.84340477\n"
     ]
    }
   ],
   "source": [
    "W1, b1, W2, b2 = gradient_descent(X_train, Y_train, 0.10, 500)"
   ]
  },
  {
   "cell_type": "code",
   "execution_count": 49,
   "metadata": {},
   "outputs": [],
   "source": [
    "def make_predictions(X, W1, b1, W2, b2):\n",
    "    _, _, _, A2 = forward_prop(W1, b1, W2, b2, X)\n",
    "    predictions = get_predictions(A2)\n",
    "    return predictions\n",
    "\n",
    "def test_prediction(index, W1, b1, W2, b2):\n",
    "    current_image = X_train[:, index, None]\n",
    "    prediction = make_predictions(X_train[:, index, None], W1, b1, W2, b2)\n",
    "    label = Y_train[index]\n",
    "    print(\"Prediction: \", prediction)\n",
    "    print(\"Label: \", label)\n",
    "    \n",
    "    current_image = current_image.reshape((28, 28)) * 255\n",
    "    plt.gray()\n",
    "    plt.imshow(current_image, interpolation='nearest')\n",
    "    plt.show()"
   ]
  },
  {
   "cell_type": "code",
   "execution_count": 50,
   "metadata": {},
   "outputs": [
    {
     "name": "stdout",
     "output_type": "stream",
     "text": [
      "Prediction:  [1]\n",
      "Label:  1\n"
     ]
    },
    {
     "data": {
      "image/png": "[encoded data removed]",
      "text/plain": [
       "<Figure size 432x288 with 1 Axes>"
      ]
     },
     "metadata": {
      "needs_background": "light"
     },
     "output_type": "display_data"
    },
    {
     "name": "stdout",
     "output_type": "stream",
     "text": [
      "Prediction:  [8]\n",
      "Label:  5\n"
     ]
    },
    {
     "data": {
      "image/png": "[encoded data removed]",
      "text/plain": [
       "<Figure size 432x288 with 1 Axes>"
      ]
     },
     "metadata": {
      "needs_background": "light"
     },
     "output_type": "display_data"
    },
    {
     "name": "stdout",
     "output_type": "stream",
     "text": [
      "Prediction:  [1]\n",
      "Label:  1\n"
     ]
    },
    {
     "data": {
      "image/png": "[encoded data removed]",
      "text/plain": [
       "<Figure size 432x288 with 1 Axes>"
      ]
     },
     "metadata": {
      "needs_background": "light"
     },
     "output_type": "display_data"
    },
    {
     "name": "stdout",
     "output_type": "stream",
     "text": [
      "Prediction:  [7]\n",
      "Label:  7\n"
     ]
    },
    {
     "data": {
      "image/png": "[encoded data removed]",
      "text/plain": [
       "<Figure size 432x288 with 1 Axes>"
      ]
     },
     "metadata": {
      "needs_background": "light"
     },
     "output_type": "display_data"
    }
   ],
   "source": [
    "test_prediction(0, W1, b1, W2, b2)\n",
    "test_prediction(1, W1, b1, W2, b2)\n",
    "test_prediction(2, W1, b1, W2, b2)\n",
    "test_prediction(3, W1, b1, W2, b2)"
   ]
  },
  {
   "cell_type": "code",
   "execution_count": 51,
   "metadata": {},
   "outputs": [
    {
     "name": "stdout",
     "output_type": "stream",
     "text": [
      "[1 0 1 2 0 0 7 3 5 3 8 9 1 3 3 1 8 0 7 6 8 6 2 0 3 3 6 9 9 7 8 9 4 9 6 1 3\n",
      " 1 1 4 3 1 4 4 8 6 5 7 7 4 7 5 1 9 0 6 2 3 9 1 6 8 5 0 6 3 4 8 1 0 3 9 6 3\n",
      " 2 4 9 1 4 1 8 4 8 9 2 3 9 8 9 6 8 6 4 6 9 7 1 2 0 5 9 2 7 7 4 8 8 5 0 6 0\n",
      " 0 2 9 0 4 7 3 1 5 7 9 4 4 1 6 7 6 6 0 4 9 8 8 1 1 7 3 7 2 1 0 3 4 5 4 0 5\n",
      " 4 0 3 5 1 0 8 3 7 0 9 6 6 9 8 9 6 9 3 5 4 2 4 8 7 4 5 8 8 8 2 6 9 3 1 0 4\n",
      " 1 5 4 0 6 2 6 7 0 8 0 0 5 3 2 0 5 6 0 0 4 7 2 7 1 9 9 3 9 8 9 1 6 1 3 8 1\n",
      " 8 7 1 3 7 6 3 2 3 4 3 2 3 6 2 7 9 2 2 2 7 3 6 8 9 2 0 1 4 8 6 3 7 1 1 1 4\n",
      " 7 0 2 9 8 0 5 6 0 8 9 6 3 0 0 7 2 0 4 2 0 9 1 6 4 3 0 0 2 0 6 8 4 0 7 2 1\n",
      " 9 5 2 4 8 5 2 9 7 9 2 9 7 4 9 3 2 1 3 6 3 6 8 8 3 7 0 9 2 7 4 0 9 4 6 8 4\n",
      " 3 3 1 7 8 9 7 6 2 1 7 0 5 6 5 3 9 5 4 6 6 2 2 9 0 7 7 1 2 6 3 4 3 0 5 9 6\n",
      " 2 1 9 0 6 0 9 5 4 3 1 5 4 2 9 5 7 3 1 5 9 5 3 7 3 8 6 4 4 6 1 1 4 0 0 5 8\n",
      " 6 7 4 2 8 0 2 5 9 8 3 0 4 4 3 6 4 1 8 1 5 4 7 4 3 2 0 6 0 7 9 2 9 8 9 6 8\n",
      " 2 4 4 6 4 8 4 1 7 5 8 4 5 9 9 3 5 8 2 2 7 2 8 9 1 9 3 6 0 2 2 9 1 2 7 2 1\n",
      " 3 4 9 1 8 0 2 2 3 4 1 3 7 4 1 4 1 5 0 6 9 0 5 7 6 8 2 0 7 8 5 8 2 8 2 5 5\n",
      " 5 8 4 7 1 2 4 3 9 1 7 1 9 4 6 5 8 9 2 3 0 5 1 4 0 5 1 2 9 2 6 1 6 8 0 4 9\n",
      " 0 0 5 9 8 3 5 9 4 4 3 9 9 3 5 6 8 2 9 2 4 2 4 3 2 5 3 7 6 1 0 7 5 4 5 1 6\n",
      " 9 7 1 6 3 3 1 2 2 0 3 0 6 3 3 6 2 7 3 8 1 7 9 3 9 2 8 3 7 4 2 2 3 6 6 0 1\n",
      " 8 6 9 1 1 6 0 2 8 0 8 8 9 1 2 7 8 4 3 1 4 2 5 1 8 7 7 9 7 0 6 9 4 3 6 2 5\n",
      " 9 4 9 2 3 0 8 4 8 0 0 9 7 8 9 5 2 1 6 5 5 1 1 9 1 7 8 6 4 7 5 3 1 6 6 3 7\n",
      " 4 1 8 3 5 1 7 1 1 8 6 6 2 9 3 1 2 8 9 0 9 2 2 3 3 0 3 0 2 0 3 3 8 3 5 7 0\n",
      " 5 4 0 5 7 1 5 1 1 2 6 5 0 4 5 1 6 0 2 2 8 0 7 1 0 8 5 0 3 2 9 4 3 6 0 3 9\n",
      " 1 5 9 3 0 8 0 6 2 7 6 6 6 8 6 7 8 2 0 6 0 8 0 6 3 6 7 4 3 9 7 7 0 4 7 2 2\n",
      " 5 2 7 0 4 0 5 5 8 7 7 9 1 4 0 1 1 2 3 6 2 0 6 6 1 9 4 5 2 7 7 8 9 0 8 3 5\n",
      " 5 6 2 0 9 7 1 8 2 6 9 5 4 4 4 1 3 4 4 0 7 7 3 7 6 6 8 8 2 7 0 4 3 2 7 0 8\n",
      " 4 9 4 0 6 7 8 6 0 8 6 8 5 2 7 3 6 2 2 9 6 7 4 8 7 2 4 8 1 4 8 0 4 9 2 5 6\n",
      " 1 2 2 8 4 0 7 8 0 6 8 7 1 7 9 2 6 3 9 9 1 0 4 2 5 4 4 9 2 2 7 2 8 3 3 2 7\n",
      " 0 4 7 0 7 7 8 1 7 3 7 8 0 1 0 2 9 7 6 2 2 6 9 0 6 8 3 8 6 3 0 0 2 2 5 9 6\n",
      " 9] [1 0 1 4 0 0 7 3 5 3 8 9 1 3 3 1 2 0 7 5 8 6 2 0 2 3 6 9 9 7 8 9 4 9 2 1 3\n",
      " 1 1 4 9 1 4 4 2 6 3 7 7 4 7 5 1 9 0 2 2 3 9 1 1 1 5 0 6 3 4 8 1 0 3 9 6 2\n",
      " 6 4 7 1 4 1 5 4 8 9 2 9 9 8 9 6 3 6 4 6 2 9 1 2 0 5 9 2 7 7 2 8 8 5 0 6 0\n",
      " 0 2 9 0 4 7 7 1 5 7 9 4 6 1 5 7 6 5 0 4 8 7 6 1 8 7 3 7 3 1 0 3 4 5 4 0 5\n",
      " 4 0 3 5 1 0 8 3 7 0 9 6 6 9 5 4 6 9 3 5 4 2 4 8 7 7 5 8 8 8 2 6 9 3 1 0 4\n",
      " 1 5 9 0 6 2 1 3 0 6 0 0 8 3 2 0 0 6 0 0 4 7 2 7 1 9 9 3 9 8 4 6 6 5 3 8 1\n",
      " 8 7 1 3 7 6 3 6 3 6 3 2 3 2 2 7 9 2 3 2 7 5 5 8 8 2 0 1 4 0 6 3 7 1 1 1 4\n",
      " 7 0 2 9 2 0 5 6 0 8 9 6 2 0 0 7 2 0 4 2 0 9 1 6 9 3 0 0 2 0 6 8 4 0 7 2 1\n",
      " 9 5 2 4 8 5 2 9 7 9 2 9 7 4 9 3 2 7 3 6 3 6 8 8 3 7 0 9 2 7 9 0 5 4 5 8 4\n",
      " 3 3 1 7 8 9 7 6 2 1 7 0 5 6 5 2 9 5 4 6 2 2 2 9 0 7 7 2 2 6 3 4 2 0 5 9 6\n",
      " 2 1 9 0 6 0 4 8 4 3 1 5 4 2 9 5 7 3 1 5 4 5 3 7 3 8 6 2 4 6 1 1 4 0 0 5 8\n",
      " 6 7 4 2 8 0 2 5 4 8 3 0 6 4 8 6 4 1 8 1 5 4 9 4 3 2 0 5 0 7 9 2 9 8 9 6 5\n",
      " 2 4 4 6 4 8 4 1 7 5 8 9 5 9 3 2 5 8 2 2 7 2 8 4 1 9 3 6 0 2 2 9 1 2 7 2 1\n",
      " 3 4 9 1 8 0 2 2 3 4 1 3 7 4 1 4 1 5 9 6 9 0 5 7 6 8 2 0 7 3 5 8 2 8 2 4 8\n",
      " 5 8 9 7 1 2 4 5 5 1 8 1 4 4 6 5 8 9 2 3 0 5 1 4 0 5 1 2 9 2 4 1 6 8 0 4 9\n",
      " 0 0 5 9 2 3 5 9 4 4 3 9 2 3 5 6 5 2 7 2 4 2 4 7 2 5 3 7 6 1 0 7 5 4 5 1 6\n",
      " 9 7 1 6 3 3 1 2 2 0 5 0 6 8 3 6 7 7 3 8 1 7 9 3 9 2 8 3 7 4 1 2 3 6 5 0 1\n",
      " 8 6 9 2 1 6 0 2 8 0 8 8 9 1 2 2 1 4 8 1 4 4 5 1 8 7 7 9 7 0 6 9 4 5 6 2 5\n",
      " 7 4 7 2 3 0 8 4 8 0 0 9 7 7 9 8 2 1 6 5 5 1 1 9 7 7 8 6 4 7 5 3 1 6 4 5 7\n",
      " 4 1 8 3 5 1 7 1 1 8 6 4 3 8 3 1 2 8 9 0 9 1 2 3 3 0 3 0 2 0 3 3 8 3 5 7 0\n",
      " 5 9 0 5 9 1 5 1 1 2 6 5 5 4 5 1 6 0 2 2 8 0 7 1 0 8 5 6 3 2 9 4 3 6 0 3 4\n",
      " 1 5 9 3 0 5 0 6 2 7 6 6 6 9 6 7 8 2 0 6 0 8 9 5 3 6 7 4 3 9 7 2 0 4 7 2 2\n",
      " 8 2 7 0 4 0 5 2 8 7 7 9 1 4 0 1 1 2 3 6 2 0 6 6 1 9 4 5 2 7 7 8 9 5 8 3 8\n",
      " 5 6 2 0 9 7 1 8 2 6 9 8 4 9 4 1 3 8 4 0 7 7 3 7 6 6 8 8 2 7 0 4 3 7 7 0 8\n",
      " 4 7 4 0 6 9 8 6 0 1 6 4 5 2 7 3 6 2 2 9 2 7 4 8 7 2 9 5 3 4 8 0 4 4 6 5 6\n",
      " 1 2 2 8 4 5 7 8 0 6 8 9 1 7 7 2 6 3 9 9 1 0 4 2 5 4 4 9 2 6 7 2 8 3 3 2 7\n",
      " 0 4 7 0 7 7 8 1 7 3 7 8 0 1 0 2 9 7 6 2 2 6 9 0 6 8 8 9 6 3 5 0 2 2 5 9 6\n",
      " 4]\n"
     ]
    },
    {
     "data": {
      "text/plain": [
       "DeviceArray(0.85300004, dtype=float32)"
      ]
     },
     "execution_count": 51,
     "metadata": {},
     "output_type": "execute_result"
    }
   ],
   "source": [
    "val_predictions = make_predictions(X_val, W1, b1, W2, b2)\n",
    "get_accuracy(val_predictions, Y_val)"
   ]
  }
 ],
 "metadata": {
  "kernelspec": {
   "display_name": "Python 3.8.10 ('jax0.3')",
   "language": "python",
   "name": "python3"
  },
  "language_info": {
   "codemirror_mode": {
    "name": "ipython",
    "version": 3
   },
   "file_extension": ".py",
   "mimetype": "text/x-python",
   "name": "python",
   "nbconvert_exporter": "python",
   "pygments_lexer": "ipython3",
   "version": "3.8.10"
  },
  "orig_nbformat": 4,
  "vscode": {
   "interpreter": {
    "hash": "9b55b4f1ed0ab49d1b0af7b4581ff82338a5e4e950fefc3b23f0187ed730cfd3"
   }
  }
 },
 "nbformat": 4,
 "nbformat_minor": 2
}
