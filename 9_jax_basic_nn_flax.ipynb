{
 "cells": [
  {
   "cell_type": "markdown",
   "metadata": {},
   "source": [
    "# Simple Jax (Flax) NN from Scratch\n",
    "\n",
    "Flax is a deep learning library designed for Jax. It provides a set of tools that make defining models and handling initialization and paramater updates much easier. In this notebook we show how to use Flax to train a simple neural network.\n"
   ]
  },
  {
   "cell_type": "code",
   "execution_count": 35,
   "metadata": {},
   "outputs": [],
   "source": [
    "import numpy as np\n",
    "import pandas as pd\n",
    "import matplotlib.pyplot as plt\n",
    "import jax.numpy as jnp\n",
    "import flax\n",
    "import flax.linen as nn\n",
    "import jax\n",
    "from jax import random\n",
    "from jax import vmap\n",
    "from jax import grad"
   ]
  },
  {
   "cell_type": "code",
   "execution_count": 36,
   "metadata": {},
   "outputs": [],
   "source": [
    "data_df = pd.read_csv('./digit-recognizer/train.csv')"
   ]
  },
  {
   "cell_type": "code",
   "execution_count": 37,
   "metadata": {},
   "outputs": [],
   "source": [
    "np.random.shuffle(data_df.values)\n",
    "m, n = data_df.shape\n",
    "Y = jnp.array(data_df[\"label\"])\n",
    "data_df = data_df.drop(\"label\", axis=1)\n",
    "X = jnp.array(data_df)\n",
    "\n",
    "\n",
    "X_train = X[1000:]\n",
    "X_train = X_train / 255.\n",
    "Y_train = Y[1000:]\n",
    "\n",
    "X_val = X[:1000]\n",
    "X_val = X_val / 255.\n",
    "Y_val = Y[:1000]"
   ]
  },
  {
   "cell_type": "markdown",
   "metadata": {},
   "source": [
    "Our NN will have a simple two-layer architecture. Input layer $A^{[0]}$ will have 784 units corresponding to the 784 pixels in each 28x28 input image. A hidden layer $A^{[1]}$ will have 10 units with ReLU activation, and finally our output layer $A^{[2]}$ will have 10 units corresponding to the ten digit classes with softmax activation.\n",
    "\n",
    "\n",
    "**Forward propagation**\n",
    "\n",
    "Input Layer:    \n",
    "$$X = A^{[0]}$$\n",
    "\n",
    "First Hidden Layer:\n",
    "$$Z^{[1]} = W^{[1]} X + b^{[1]}$$\n",
    "$$A^{[1]} = g_{\\text{ReLU}}(Z^{[1]})$$\n",
    "\n",
    "Second Hidden Layer:\n",
    "$$Z^{[2]} = W^{[2]} A^{[1]} + b^{[2]}$$\n",
    "$$A^{[2]} = g_{\\text{softmax}}(Z^{[2]})$$\n",
    "\n",
    "**Backward propagation**\n",
    "\n",
    "Loss Function (Categorical Cross Entropy):  \n",
    "$$L(y, a^{[2]}) = -\\sum_{j = 1}^{C}y_{j} \\cdot\\ log(a^{[2]})$$ \n",
    "C is the number of classes, which is 10 in this case. \n",
    "\n",
    "Cost Function:\n",
    "$$J(W, b) = -\\frac{1}{m} \\sum_{i = 1}^{m} L(y^{i}, a^{[2](i)})$$ \n",
    "$$J(W, b) = -\\frac{1}{m} \\sum_{i = 1}^{m} \\sum_{j = 1}^{C}y^{i}_{j}\\cdot\\log(a^{[2](i)})$$ \n",
    "The cost function is the average of the losses over all the samples.\n",
    "\n",
    "Derivatives:    \n",
    "For detailed derivation of $dZ^{[2]}$ see: [derivation-of-categorical-cross-entropy-loss](https://towardsdatascience.com/derivative-of-the-softmax-function-and-the-categorical-cross-entropy-loss-ffceefc081d1)    \n",
    "For more details on the rest of the derivations see: [backpropagation-intuition](https://www.youtube.com/watch?v=yXcQ4B-YSjQ&list=PLkDaE6sCZn6Ec-XTbcX1uRg2_u4xOEky0&index=34&ab_channel=DeepLearningAI)\n",
    "$$dZ^{[2]} = A^{[2]} - Y$$\n",
    "$$dW^{[2]} = \\frac{1}{m} dZ^{[2]} A^{[1]T}$$\n",
    "$$dB^{[2]} = \\frac{1}{m} \\sum_{i = 1}^{m} {dZ^{[2]}}$$\n",
    "$$dZ^{[1]} = W^{[2]T} dZ^{[2]} .* g^{[1]\\prime} (z^{[1]})$$\n",
    "$$dW^{[1]} = \\frac{1}{m} dZ^{[1]} A^{[0]T}$$\n",
    "$$dB^{[1]} = \\frac{1}{m} \\sum_{i = 1}^{m} {dZ^{[1]}}$$\n",
    "\n",
    "**Gradient Descent (parameter updates)**\n",
    "\n",
    "$$W^{[2]} := W^{[2]} - \\alpha dW^{[2]}$$\n",
    "$$b^{[2]} := b^{[2]} - \\alpha db^{[2]}$$\n",
    "$$W^{[1]} := W^{[1]} - \\alpha dW^{[1]}$$\n",
    "$$b^{[1]} := b^{[1]} - \\alpha db^{[1]}$$\n",
    "\n",
    "**Vars and shapes**\n",
    "\n",
    "Forward prop\n",
    "\n",
    "- $A^{[0]} = X$: 784 x m\n",
    "- $Z^{[1]} \\sim A^{[1]}$: 10 x m\n",
    "- $W^{[1]}$: 10 x 784 (as $W^{[1]} A^{[0]} \\sim Z^{[1]}$)\n",
    "- $B^{[1]}$: 10 x 1\n",
    "- $Z^{[2]} \\sim A^{[2]}$: 10 x m\n",
    "- $W^{[1]}$: 10 x 10 (as $W^{[2]} A^{[1]} \\sim Z^{[2]}$)\n",
    "- $B^{[2]}$: 10 x 1\n",
    "\n",
    "Backprop\n",
    "\n",
    "- $dZ^{[2]}$: 10 x m ($~A^{[2]}$)\n",
    "- $dW^{[2]}$: 10 x 10\n",
    "- $dB^{[2]}$: 10 x 1\n",
    "- $dZ^{[1]}$: 10 x m ($~A^{[1]}$)\n",
    "- $dW^{[1]}$: 10 x 10\n",
    "- $dB^{[1]}$: 10 x 1"
   ]
  },
  {
   "cell_type": "markdown",
   "metadata": {},
   "source": [
    "The layers and activation functions can now be defined using Flax's Module class. No need to explicitly specify the weights and biases of each layer."
   ]
  },
  {
   "cell_type": "code",
   "execution_count": 38,
   "metadata": {},
   "outputs": [],
   "source": [
    "class _forward_fn(nn.Module):\n",
    "\n",
    "    @nn.compact\n",
    "    def __call__(self, x):\n",
    "        mlp = nn.Sequential([\n",
    "            nn.Dense(10), jax.nn.relu,\n",
    "            nn.Dense(10), jax.nn.softmax        \n",
    "        ])\n",
    "        return mlp(x)"
   ]
  },
  {
   "cell_type": "markdown",
   "metadata": {},
   "source": [
    "An instance of the Module object is created, which then will provide access to the .init and .apply methods needed for initializing the weights and performing a forward pass."
   ]
  },
  {
   "cell_type": "code",
   "execution_count": 39,
   "metadata": {},
   "outputs": [],
   "source": [
    "forward_fn = _forward_fn()"
   ]
  },
  {
   "cell_type": "markdown",
   "metadata": {},
   "source": [
    "The models layers shown below, are the same as used in previous notebooks."
   ]
  },
  {
   "cell_type": "code",
   "execution_count": 40,
   "metadata": {},
   "outputs": [
    {
     "name": "stdout",
     "output_type": "stream",
     "text": [
      "\n",
      "\u001b[3m                              _forward_fn Summary                               \u001b[0m\n",
      "┏━━━━━━━━━━━━━━┳━━━━━━━━━━━━━┳━━━━━━━━━━━━━━━━┳━━━━━━━━━━━━━━━┳━━━━━━━━━━━━━━━━┓\n",
      "┃\u001b[1m \u001b[0m\u001b[1mpath        \u001b[0m\u001b[1m \u001b[0m┃\u001b[1m \u001b[0m\u001b[1mmodule     \u001b[0m\u001b[1m \u001b[0m┃\u001b[1m \u001b[0m\u001b[1minputs        \u001b[0m\u001b[1m \u001b[0m┃\u001b[1m \u001b[0m\u001b[1moutputs      \u001b[0m\u001b[1m \u001b[0m┃\u001b[1m \u001b[0m\u001b[1mparams        \u001b[0m\u001b[1m \u001b[0m┃\n",
      "┡━━━━━━━━━━━━━━╇━━━━━━━━━━━━━╇━━━━━━━━━━━━━━━━╇━━━━━━━━━━━━━━━╇━━━━━━━━━━━━━━━━┩\n",
      "│              │ _forward_fn │ \u001b[2mfloat32\u001b[0m[5,784] │ \u001b[2mfloat32\u001b[0m[5,10] │                │\n",
      "├──────────────┼─────────────┼────────────────┼───────────────┼────────────────┤\n",
      "│ Sequential_0 │ Sequential  │ \u001b[2mfloat32\u001b[0m[5,784] │ \u001b[2mfloat32\u001b[0m[5,10] │                │\n",
      "├──────────────┼─────────────┼────────────────┼───────────────┼────────────────┤\n",
      "│ Dense_0      │ Dense       │ \u001b[2mfloat32\u001b[0m[5,784] │ \u001b[2mfloat32\u001b[0m[5,10] │ bias:          │\n",
      "│              │             │                │               │ \u001b[2mfloat32\u001b[0m[10]    │\n",
      "│              │             │                │               │ kernel:        │\n",
      "│              │             │                │               │ \u001b[2mfloat32\u001b[0m[784,1… │\n",
      "│              │             │                │               │                │\n",
      "│              │             │                │               │ \u001b[1m7,850 \u001b[0m\u001b[1;2m(31.4 \u001b[0m   │\n",
      "│              │             │                │               │ \u001b[1;2mKB)\u001b[0m            │\n",
      "├──────────────┼─────────────┼────────────────┼───────────────┼────────────────┤\n",
      "│ Dense_1      │ Dense       │ \u001b[2mfloat32\u001b[0m[5,10]  │ \u001b[2mfloat32\u001b[0m[5,10] │ bias:          │\n",
      "│              │             │                │               │ \u001b[2mfloat32\u001b[0m[10]    │\n",
      "│              │             │                │               │ kernel:        │\n",
      "│              │             │                │               │ \u001b[2mfloat32\u001b[0m[10,10] │\n",
      "│              │             │                │               │                │\n",
      "│              │             │                │               │ \u001b[1m110 \u001b[0m\u001b[1;2m(440 B)\u001b[0m    │\n",
      "├──────────────┼─────────────┼────────────────┼───────────────┼────────────────┤\n",
      "│\u001b[1m \u001b[0m\u001b[1m            \u001b[0m\u001b[1m \u001b[0m│\u001b[1m \u001b[0m\u001b[1m           \u001b[0m\u001b[1m \u001b[0m│\u001b[1m \u001b[0m\u001b[1m              \u001b[0m\u001b[1m \u001b[0m│\u001b[1m \u001b[0m\u001b[1m        Total\u001b[0m\u001b[1m \u001b[0m│\u001b[1m \u001b[0m\u001b[1m7,960 \u001b[0m\u001b[1;2m(31.8 \u001b[0m\u001b[1m  \u001b[0m\u001b[1m \u001b[0m│\n",
      "│\u001b[1m              \u001b[0m│\u001b[1m             \u001b[0m│\u001b[1m                \u001b[0m│\u001b[1m               \u001b[0m│\u001b[1m \u001b[0m\u001b[1;2mKB)\u001b[0m\u001b[1m           \u001b[0m\u001b[1m \u001b[0m│\n",
      "└──────────────┴─────────────┴────────────────┴───────────────┴────────────────┘\n",
      "\u001b[1m                                                                                \u001b[0m\n",
      "\u001b[1m                       Total Parameters: 7,960 \u001b[0m\u001b[1;2m(31.8 KB)\u001b[0m\u001b[1m                        \u001b[0m\n",
      "\n",
      "\n"
     ]
    }
   ],
   "source": [
    "dummy_x = X_train[:5]\n",
    "rng_key = random.PRNGKey(64)\n",
    "\n",
    "initial_params = forward_fn.init(rng_key, dummy_x)\n",
    "\n",
    "print(forward_fn.tabulate(rng_key, dummy_x))"
   ]
  },
  {
   "cell_type": "markdown",
   "metadata": {},
   "source": [
    "The model can process a batch of any size."
   ]
  },
  {
   "cell_type": "code",
   "execution_count": 41,
   "metadata": {},
   "outputs": [
    {
     "name": "stdout",
     "output_type": "stream",
     "text": [
      "[[0.10030214 0.10537831 0.08858463 0.10541832 0.10143708 0.10518872\n",
      "  0.09409714 0.09923813 0.10003395 0.10032155]\n",
      " [0.0991649  0.10622651 0.09852392 0.09719839 0.09627932 0.10907576\n",
      "  0.09923974 0.09643156 0.09323804 0.1046218 ]\n",
      " [0.10084233 0.09057501 0.10379352 0.10544842 0.10453036 0.10527998\n",
      "  0.08602746 0.10307699 0.1001559  0.10027014]\n",
      " [0.09923845 0.08956067 0.11629339 0.11504055 0.09972727 0.13689978\n",
      "  0.0800038  0.09305066 0.08010798 0.09007746]\n",
      " [0.09335489 0.12094128 0.08262277 0.089471   0.09674408 0.11873088\n",
      "  0.07608679 0.08502708 0.0870592  0.14996204]]\n"
     ]
    }
   ],
   "source": [
    "preds = forward_fn.apply(initial_params, X_train[:5])\n",
    "print(preds)"
   ]
  },
  {
   "cell_type": "markdown",
   "metadata": {},
   "source": [
    "The forward pass performed in the loss function now needs the .apply method. The explicit weights, biases and gradients have been replaced by params and grads in the update_params function. This saves a lot of code on more complex models."
   ]
  },
  {
   "cell_type": "code",
   "execution_count": 42,
   "metadata": {},
   "outputs": [],
   "source": [
    "def one_hot(x, k, dtype=jnp.float32):\n",
    "    \"\"\"Create a one-hot encoding of x of size k.\"\"\"\n",
    "    return jnp.array(x[:, None] == jnp.arange(k), dtype)\n",
    "\n",
    "def loss_fn(params, X, Y):\n",
    "    A2 = forward_fn.apply(params, X)\n",
    "    one_hot_Y = one_hot(Y, 10)\n",
    "    loss = -jnp.sum(one_hot_Y * jnp.log(A2)) / m\n",
    "    return loss\n",
    "\n",
    "\n",
    "def update_rule(param, update):\n",
    "    return param - 0.1 * update\n",
    "\n",
    "def update_params(params, alpha, X, Y):\n",
    "    grads = grad(loss_fn, argnums=0)(params, X, Y)\n",
    "    params = jax.tree_util.tree_map(update_rule, params, grads)\n",
    "    return params\n"
   ]
  },
  {
   "cell_type": "markdown",
   "metadata": {},
   "source": [
    "The initialization function has been removed since Flax handles the initialization using the .init method."
   ]
  },
  {
   "cell_type": "code",
   "execution_count": 43,
   "metadata": {},
   "outputs": [],
   "source": [
    "def get_predictions(A2):\n",
    "    return jnp.argmax(A2, axis=1)\n",
    "\n",
    "def get_accuracy(predictions, Y):\n",
    "    print(predictions, Y)\n",
    "    return jnp.mean(predictions == Y)\n",
    "\n",
    "def gradient_descent(X, Y, alpha, iterations):\n",
    "    rng = jax.random.PRNGKey(42)\n",
    "    params = forward_fn.init(rng, X)\n",
    "    for i in range(iterations):\n",
    "        params = update_params(params, alpha, X, Y)\n",
    "        if i % 10 == 0:\n",
    "            print(\"Iteration: \", i)\n",
    "            A2 = forward_fn.apply(params, X)\n",
    "            predictions = get_predictions(A2)\n",
    "            print(get_accuracy(predictions, Y))\n",
    "    return params"
   ]
  },
  {
   "cell_type": "code",
   "execution_count": 44,
   "metadata": {},
   "outputs": [
    {
     "name": "stdout",
     "output_type": "stream",
     "text": [
      "Iteration:  0\n",
      "[7 7 8 ... 6 2 8] [6 1 6 ... 0 3 8]\n",
      "0.10356097\n",
      "Iteration:  10\n",
      "[6 7 6 ... 3 3 8] [6 1 6 ... 0 3 8]\n",
      "0.36341462\n",
      "Iteration:  20\n",
      "[6 7 6 ... 3 3 8] [6 1 6 ... 0 3 8]\n",
      "0.45492682\n",
      "Iteration:  30\n",
      "[6 1 6 ... 3 3 8] [6 1 6 ... 0 3 8]\n",
      "0.5245122\n",
      "Iteration:  40\n",
      "[6 1 6 ... 3 3 8] [6 1 6 ... 0 3 8]\n",
      "0.553561\n",
      "Iteration:  50\n",
      "[6 1 6 ... 3 3 8] [6 1 6 ... 0 3 8]\n",
      "0.59165853\n",
      "Iteration:  60\n",
      "[6 1 6 ... 3 3 8] [6 1 6 ... 0 3 8]\n",
      "0.63231707\n",
      "Iteration:  70\n",
      "[6 1 6 ... 3 3 8] [6 1 6 ... 0 3 8]\n",
      "0.6631707\n",
      "Iteration:  80\n",
      "[6 1 6 ... 3 3 8] [6 1 6 ... 0 3 8]\n",
      "0.6844634\n",
      "Iteration:  90\n",
      "[6 1 6 ... 3 3 8] [6 1 6 ... 0 3 8]\n",
      "0.70258534\n",
      "Iteration:  100\n",
      "[6 1 6 ... 3 3 8] [6 1 6 ... 0 3 8]\n",
      "0.71812195\n",
      "Iteration:  110\n",
      "[6 1 6 ... 3 3 8] [6 1 6 ... 0 3 8]\n",
      "0.73312193\n",
      "Iteration:  120\n",
      "[6 1 6 ... 3 3 8] [6 1 6 ... 0 3 8]\n",
      "0.7464634\n",
      "Iteration:  130\n",
      "[6 1 6 ... 3 3 8] [6 1 6 ... 0 3 8]\n",
      "0.7621219\n",
      "Iteration:  140\n",
      "[6 1 6 ... 3 3 8] [6 1 6 ... 0 3 8]\n",
      "0.77560973\n",
      "Iteration:  150\n",
      "[6 1 6 ... 0 3 8] [6 1 6 ... 0 3 8]\n",
      "0.788\n",
      "Iteration:  160\n",
      "[6 1 6 ... 0 3 8] [6 1 6 ... 0 3 8]\n",
      "0.7959268\n",
      "Iteration:  170\n",
      "[6 1 6 ... 0 3 8] [6 1 6 ... 0 3 8]\n",
      "0.80253655\n",
      "Iteration:  180\n",
      "[6 1 6 ... 0 3 8] [6 1 6 ... 0 3 8]\n",
      "0.8086829\n",
      "Iteration:  190\n",
      "[6 1 6 ... 0 3 8] [6 1 6 ... 0 3 8]\n",
      "0.8144146\n",
      "Iteration:  200\n",
      "[6 1 6 ... 0 3 8] [6 1 6 ... 0 3 8]\n",
      "0.8198292\n",
      "Iteration:  210\n",
      "[6 1 6 ... 0 3 8] [6 1 6 ... 0 3 8]\n",
      "0.82414633\n",
      "Iteration:  220\n",
      "[6 1 6 ... 0 3 8] [6 1 6 ... 0 3 8]\n",
      "0.8283658\n",
      "Iteration:  230\n",
      "[6 1 6 ... 0 3 8] [6 1 6 ... 0 3 8]\n",
      "0.83199996\n",
      "Iteration:  240\n",
      "[6 1 6 ... 0 3 8] [6 1 6 ... 0 3 8]\n",
      "0.8352439\n",
      "Iteration:  250\n",
      "[6 1 6 ... 0 3 8] [6 1 6 ... 0 3 8]\n",
      "0.83863413\n",
      "Iteration:  260\n",
      "[6 1 6 ... 0 3 8] [6 1 6 ... 0 3 8]\n",
      "0.8422195\n",
      "Iteration:  270\n",
      "[6 1 6 ... 0 3 8] [6 1 6 ... 0 3 8]\n",
      "0.84502435\n",
      "Iteration:  280\n",
      "[6 1 6 ... 0 3 8] [6 1 6 ... 0 3 8]\n",
      "0.8477073\n",
      "Iteration:  290\n",
      "[6 1 6 ... 0 3 8] [6 1 6 ... 0 3 8]\n",
      "0.8501219\n",
      "Iteration:  300\n",
      "[6 1 6 ... 0 3 8] [6 1 6 ... 0 3 8]\n",
      "0.8520244\n",
      "Iteration:  310\n",
      "[6 1 6 ... 0 3 8] [6 1 6 ... 0 3 8]\n",
      "0.8539512\n",
      "Iteration:  320\n",
      "[6 1 6 ... 0 3 8] [6 1 6 ... 0 3 8]\n",
      "0.8562195\n",
      "Iteration:  330\n",
      "[6 1 6 ... 0 3 8] [6 1 6 ... 0 3 8]\n",
      "0.8586341\n",
      "Iteration:  340\n",
      "[6 1 6 ... 0 3 8] [6 1 6 ... 0 3 8]\n",
      "0.86087805\n",
      "Iteration:  350\n",
      "[6 1 6 ... 0 3 8] [6 1 6 ... 0 3 8]\n",
      "0.86278045\n",
      "Iteration:  360\n",
      "[6 1 6 ... 0 3 8] [6 1 6 ... 0 3 8]\n",
      "0.8649756\n",
      "Iteration:  370\n",
      "[6 1 6 ... 0 3 8] [6 1 6 ... 0 3 8]\n",
      "0.86653656\n",
      "Iteration:  380\n",
      "[6 1 6 ... 0 3 8] [6 1 6 ... 0 3 8]\n",
      "0.8682926\n",
      "Iteration:  390\n",
      "[6 1 6 ... 0 3 8] [6 1 6 ... 0 3 8]\n",
      "0.87021947\n",
      "Iteration:  400\n",
      "[6 1 6 ... 0 3 8] [6 1 6 ... 0 3 8]\n",
      "0.87212193\n",
      "Iteration:  410\n",
      "[6 1 6 ... 0 3 8] [6 1 6 ... 0 3 8]\n",
      "0.87341464\n",
      "Iteration:  420\n",
      "[6 1 6 ... 0 3 8] [6 1 6 ... 0 3 8]\n",
      "0.874439\n",
      "Iteration:  430\n",
      "[6 1 6 ... 0 3 8] [6 1 6 ... 0 3 8]\n",
      "0.8759024\n",
      "Iteration:  440\n",
      "[6 1 6 ... 0 3 8] [6 1 6 ... 0 3 8]\n",
      "0.87709755\n",
      "Iteration:  450\n",
      "[6 1 6 ... 0 3 8] [6 1 6 ... 0 3 8]\n",
      "0.8780488\n",
      "Iteration:  460\n",
      "[6 1 6 ... 0 3 8] [6 1 6 ... 0 3 8]\n",
      "0.8792683\n",
      "Iteration:  470\n",
      "[6 1 6 ... 0 3 8] [6 1 6 ... 0 3 8]\n",
      "0.88031703\n",
      "Iteration:  480\n",
      "[6 1 6 ... 0 3 8] [6 1 6 ... 0 3 8]\n",
      "0.8812439\n",
      "Iteration:  490\n",
      "[6 1 6 ... 0 3 8] [6 1 6 ... 0 3 8]\n",
      "0.8821219\n"
     ]
    }
   ],
   "source": [
    "params = gradient_descent(X_train, Y_train, 0.10, 500)"
   ]
  },
  {
   "cell_type": "code",
   "execution_count": 45,
   "metadata": {},
   "outputs": [],
   "source": [
    "def make_predictions(X, params):\n",
    "    rng = jax.random.PRNGKey(42)\n",
    "    A2 = forward_fn.apply(params, X)\n",
    "    predictions = get_predictions(A2)\n",
    "    return predictions\n",
    "\n",
    "def test_prediction(index, params):\n",
    "    current_image = X_train[None, index]\n",
    "    prediction = make_predictions(X_train[None, index], params)\n",
    "    label = Y_train[index]\n",
    "    print(\"Prediction: \", prediction)\n",
    "    print(\"Label: \", label)\n",
    "    \n",
    "    current_image = current_image.reshape((28, 28)) * 255\n",
    "    plt.gray()\n",
    "    plt.imshow(current_image, interpolation='nearest')\n",
    "    plt.show()"
   ]
  },
  {
   "cell_type": "code",
   "execution_count": 46,
   "metadata": {},
   "outputs": [
    {
     "name": "stdout",
     "output_type": "stream",
     "text": [
      "Prediction:  [6]\n",
      "Label:  6\n"
     ]
    },
    {
     "data": {
      "image/png": "[encoded data removed]",
      "text/plain": [
       "<Figure size 640x480 with 1 Axes>"
      ]
     },
     "metadata": {},
     "output_type": "display_data"
    },
    {
     "name": "stdout",
     "output_type": "stream",
     "text": [
      "Prediction:  [1]\n",
      "Label:  1\n"
     ]
    },
    {
     "data": {
      "image/png": "[encoded data removed]",
      "text/plain": [
       "<Figure size 640x480 with 1 Axes>"
      ]
     },
     "metadata": {},
     "output_type": "display_data"
    },
    {
     "name": "stdout",
     "output_type": "stream",
     "text": [
      "Prediction:  [6]\n",
      "Label:  6\n"
     ]
    },
    {
     "data": {
      "image/png": "[encoded data removed]",
      "text/plain": [
       "<Figure size 640x480 with 1 Axes>"
      ]
     },
     "metadata": {},
     "output_type": "display_data"
    },
    {
     "name": "stdout",
     "output_type": "stream",
     "text": [
      "Prediction:  [3]\n",
      "Label:  3\n"
     ]
    },
    {
     "data": {
      "image/png": "[encoded data removed]",
      "text/plain": [
       "<Figure size 640x480 with 1 Axes>"
      ]
     },
     "metadata": {},
     "output_type": "display_data"
    }
   ],
   "source": [
    "test_prediction(0, params)\n",
    "test_prediction(1, params)\n",
    "test_prediction(2, params)\n",
    "test_prediction(3, params)"
   ]
  },
  {
   "cell_type": "code",
   "execution_count": 47,
   "metadata": {},
   "outputs": [
    {
     "name": "stdout",
     "output_type": "stream",
     "text": [
      "[5 4 5 8 7 2 0 9 3 5 4 4 7 9 8 1 8 6 9 9 1 5 7 7 2 6 6 4 9 0 2 9 5 7 2 1 4\n",
      " 1 5 3 1 4 7 1 1 1 1 1 9 7 4 1 4 1 1 8 3 6 1 7 1 3 9 4 3 6 0 0 3 6 3 2 1 4\n",
      " 7 2 2 5 9 8 3 9 1 8 7 4 9 2 1 5 1 4 3 9 8 5 8 4 7 7 9 6 5 7 7 1 8 1 8 7 2\n",
      " 3 8 2 1 6 4 5 7 6 2 6 5 6 4 1 1 1 4 7 1 7 7 6 7 9 9 8 8 4 2 7 4 9 9 2 1 9\n",
      " 1 4 3 4 6 8 7 8 9 0 5 0 4 2 3 1 3 1 4 9 5 4 0 3 7 9 6 9 6 9 7 3 3 0 1 8 0\n",
      " 5 8 0 4 4 0 6 8 7 1 8 0 0 1 7 9 1 5 7 5 9 6 0 7 9 0 3 7 6 9 9 4 1 7 1 8 5\n",
      " 3 7 7 9 6 7 4 2 2 2 8 5 7 1 3 8 3 2 8 0 2 8 9 4 9 0 6 7 9 6 9 0 3 8 8 3 5\n",
      " 5 0 2 4 9 4 9 5 8 1 6 3 6 9 4 5 3 3 7 1 1 5 8 3 4 2 1 8 9 4 9 2 2 7 2 1 2\n",
      " 8 5 2 5 2 8 5 5 7 9 3 2 7 9 3 8 4 6 4 4 4 1 7 5 0 4 9 3 3 0 2 2 6 6 9 8 1\n",
      " 2 6 6 3 9 2 8 0 1 7 0 4 7 3 2 9 4 9 4 5 3 2 8 7 6 6 7 7 8 8 2 0 7 8 0 5 2\n",
      " 7 7 1 5 7 2 3 4 1 4 7 8 4 2 0 9 3 8 0 6 1 8 9 9 0 0 0 8 9 2 7 9 3 8 8 0 0\n",
      " 4 5 7 8 2 1 3 5 9 4 2 9 9 1 3 0 3 7 3 0 2 8 2 4 0 1 6 9 9 9 3 1 1 8 6 7 0\n",
      " 1 9 7 8 1 7 9 7 9 9 7 4 5 8 2 4 7 0 6 3 7 6 7 4 1 3 8 1 8 8 6 4 0 3 1 8 1\n",
      " 1 6 8 2 7 4 7 6 1 6 3 8 1 2 9 4 4 4 7 9 1 2 8 0 1 2 4 0 3 7 9 2 5 9 9 4 6\n",
      " 1 0 7 0 6 2 7 6 2 2 3 9 0 2 4 7 4 3 7 3 3 3 2 1 9 9 9 7 1 7 6 7 3 3 4 0 5\n",
      " 1 3 3 5 1 2 9 7 9 3 5 7 2 1 5 2 4 2 0 1 7 5 2 1 6 5 4 7 5 7 5 6 1 3 2 0 6\n",
      " 2 3 1 7 4 3 3 1 4 0 1 6 3 7 9 2 4 0 5 5 0 7 7 1 4 6 4 3 1 4 8 8 8 9 3 3 6\n",
      " 4 4 1 4 1 9 0 6 1 9 0 8 4 5 6 7 9 9 2 8 5 2 6 3 2 7 7 1 0 2 6 5 4 1 6 7 9\n",
      " 1 7 3 8 4 0 4 9 2 3 5 4 4 7 6 3 3 5 6 8 7 2 4 2 9 1 6 5 7 6 7 0 9 4 6 4 5\n",
      " 7 4 1 2 6 3 8 3 2 1 7 9 7 2 2 2 2 2 1 0 3 5 5 9 7 2 0 4 2 9 3 7 3 3 4 1 6\n",
      " 2 4 4 3 4 7 9 9 2 3 6 7 6 6 6 2 0 1 1 7 6 2 1 0 0 8 6 4 8 8 3 0 3 8 7 9 2\n",
      " 7 1 4 2 1 6 5 5 7 5 7 2 0 5 0 0 6 4 4 9 7 3 1 1 8 5 3 9 4 3 2 6 2 9 8 9 7\n",
      " 6 0 3 9 7 4 8 7 6 1 8 9 8 9 8 8 2 1 3 2 6 6 3 8 7 2 2 1 6 1 3 7 4 9 3 8 1\n",
      " 4 5 2 2 5 1 8 9 5 0 8 8 7 3 7 9 7 5 1 6 4 4 2 1 8 9 4 7 9 1 4 7 4 6 4 8 2\n",
      " 0 9 8 3 8 9 8 9 1 2 4 5 7 2 1 3 2 9 1 3 0 1 7 2 4 6 7 8 5 4 8 9 4 6 5 5 0\n",
      " 2 5 0 3 4 4 8 7 7 9 6 6 9 6 6 1 4 7 3 6 8 6 1 9 3 1 3 6 2 1 3 3 7 5 6 2 2\n",
      " 3 6 0 8 9 6 7 4 1 9 4 8 7 2 6 1 9 6 6 4 9 3 7 0 7 2 3 0 0 1 4 3 5 9 7 8 7\n",
      " 0] [5 4 5 1 7 2 0 9 5 5 4 6 7 9 8 1 5 6 9 9 1 5 7 1 2 0 6 8 9 0 2 4 5 7 6 7 4\n",
      " 1 5 3 1 4 7 1 1 1 1 1 9 7 4 8 4 5 1 8 5 6 1 7 1 3 7 5 3 6 0 0 3 6 3 0 5 4\n",
      " 7 2 7 5 9 8 3 9 1 2 7 4 7 2 1 5 7 4 3 9 8 5 8 4 7 7 9 6 8 7 7 1 3 1 8 7 2\n",
      " 3 7 2 1 6 4 5 7 6 2 6 1 6 4 1 1 1 4 7 1 9 7 6 7 9 9 8 8 9 2 7 4 9 9 2 1 7\n",
      " 8 4 3 4 6 8 7 8 9 0 3 3 4 2 3 1 5 1 6 9 5 9 0 3 2 9 6 9 6 9 7 5 3 2 1 8 0\n",
      " 5 8 0 4 9 0 6 8 7 1 5 0 0 7 7 9 1 5 7 5 9 6 0 7 9 0 5 7 6 9 9 4 1 7 1 5 5\n",
      " 3 7 7 9 6 7 4 2 2 2 8 5 7 1 3 8 3 2 8 0 2 8 9 9 9 0 6 7 9 6 9 0 3 8 8 5 0\n",
      " 5 0 2 4 9 4 9 5 8 1 2 3 6 9 4 5 3 3 9 1 1 5 8 3 4 2 1 8 9 4 9 2 2 7 2 1 2\n",
      " 8 5 2 5 2 8 5 5 7 9 7 2 7 9 5 8 4 2 4 4 2 2 7 5 0 4 9 3 3 0 2 2 6 6 9 8 1\n",
      " 2 6 6 3 7 3 8 0 1 7 0 4 7 3 2 9 4 9 4 5 3 2 8 7 6 6 7 9 8 8 2 0 7 2 0 5 2\n",
      " 7 7 1 5 7 2 3 4 1 4 7 8 4 2 3 9 3 8 0 6 1 8 4 9 0 6 0 5 9 3 7 9 8 8 2 0 0\n",
      " 9 8 7 8 2 1 8 8 9 4 2 4 4 1 5 0 5 7 3 0 0 8 4 4 0 1 6 9 9 9 3 1 1 8 6 7 0\n",
      " 1 9 7 8 1 7 9 7 9 9 7 8 5 8 2 4 7 0 6 3 3 6 7 4 1 3 8 1 8 5 6 4 0 3 1 8 1\n",
      " 1 6 8 2 7 4 7 6 1 6 5 8 1 2 9 4 4 4 7 9 1 2 8 0 1 2 6 0 3 7 9 9 5 9 9 4 6\n",
      " 1 0 7 0 6 2 7 6 2 2 3 7 0 2 6 7 4 3 7 3 2 3 2 1 9 9 9 7 7 7 6 7 0 3 4 0 5\n",
      " 1 3 0 5 1 2 9 9 9 3 3 7 2 1 5 2 4 2 0 1 7 5 2 1 6 5 4 7 3 7 5 6 1 3 2 0 6\n",
      " 2 3 1 7 4 3 3 1 4 0 1 6 3 7 9 2 4 0 5 5 0 7 7 1 4 6 4 3 1 4 8 8 8 9 3 3 6\n",
      " 4 4 1 4 1 9 0 6 1 9 0 8 4 5 6 7 9 9 2 8 5 2 5 3 2 7 7 1 0 2 8 5 4 1 6 7 9\n",
      " 1 7 9 8 4 0 4 9 6 3 3 4 4 7 6 3 3 5 4 8 7 8 4 2 9 6 6 5 7 6 7 0 9 4 6 4 5\n",
      " 7 4 1 2 6 3 8 3 3 1 9 9 7 2 2 2 2 2 1 5 3 5 5 9 7 2 0 4 2 5 3 7 5 3 4 1 6\n",
      " 2 4 4 5 4 7 9 9 2 3 6 7 6 6 6 4 0 1 1 7 6 2 1 0 0 8 6 4 8 2 3 0 3 8 7 9 3\n",
      " 7 1 4 2 4 6 5 5 7 5 7 2 2 6 0 0 6 4 4 9 7 3 1 1 8 5 5 9 4 8 2 6 2 8 8 9 7\n",
      " 6 0 3 9 7 4 8 7 6 1 8 9 8 9 8 1 2 1 3 2 6 6 3 1 7 2 2 1 5 1 3 7 4 0 8 2 1\n",
      " 4 8 2 2 5 1 8 9 5 0 8 8 7 3 7 8 7 5 1 6 4 6 2 1 8 9 4 7 9 1 4 7 4 6 5 8 2\n",
      " 0 9 8 3 8 9 8 9 1 2 4 5 3 3 1 3 2 9 1 3 8 1 7 2 4 6 7 8 5 4 8 9 4 6 3 5 0\n",
      " 2 5 0 3 4 4 8 7 7 9 6 6 9 6 6 1 4 7 3 6 8 6 1 9 3 1 3 6 2 1 3 3 7 3 6 2 2\n",
      " 3 6 0 8 9 6 7 4 1 9 4 8 7 2 6 9 7 6 6 4 9 3 7 0 7 2 3 0 0 1 4 3 5 9 7 0 7\n",
      " 0]\n"
     ]
    },
    {
     "data": {
      "text/plain": [
       "DeviceArray(0.87100005, dtype=float32)"
      ]
     },
     "execution_count": 47,
     "metadata": {},
     "output_type": "execute_result"
    }
   ],
   "source": [
    "val_predictions = make_predictions(X_val, params)\n",
    "get_accuracy(val_predictions, Y_val)"
   ]
  },
  {
   "cell_type": "markdown",
   "metadata": {},
   "source": [
    "No loss in accuracy during training or inferencing compared to other methods."
   ]
  },
  {
   "cell_type": "markdown",
   "metadata": {},
   "source": [
    "### Conclusion\n",
    "\n",
    "Flax provides powerful tools that make defining model architecture and intialization simple. As shown in this notebook, this saves a lot of time and complexity in the code. Although very similar to the Haiku version, there are some minor differences in how the model is defined."
   ]
  }
 ],
 "metadata": {
  "kernelspec": {
   "display_name": "Python 3.9.13 ('flax')",
   "language": "python",
   "name": "python3"
  },
  "language_info": {
   "codemirror_mode": {
    "name": "ipython",
    "version": 3
   },
   "file_extension": ".py",
   "mimetype": "text/x-python",
   "name": "python",
   "nbconvert_exporter": "python",
   "pygments_lexer": "ipython3",
   "version": "3.9.13"
  },
  "orig_nbformat": 4,
  "vscode": {
   "interpreter": {
    "hash": "0a8d1f2580cdfde5c5829808ec6fccc81a351d243fb8b1925f7928e44ccf575b"
   }
  }
 },
 "nbformat": 4,
 "nbformat_minor": 2
}
