{
 "cells": [
  {
   "cell_type": "markdown",
   "metadata": {},
   "source": [
    "# Simple Jax (haiku optimized) NN from Scratch\n",
    "\n",
    "Haiku is a deep learning library designed for Jax. It provides a set of tools that make defining models and handling initialization and paramater updates much easier. In this notebook we show how to optimize a simple Haiku model using jax.jit to achieve optimal performance.\n"
   ]
  },
  {
   "cell_type": "code",
   "execution_count": 8,
   "metadata": {},
   "outputs": [],
   "source": [
    "import numpy as np\n",
    "import pandas as pd\n",
    "import matplotlib.pyplot as plt\n",
    "import jax.numpy as jnp\n",
    "import haiku as hk\n",
    "from functools import partial\n",
    "import jax\n",
    "from jax import random\n",
    "from jax import nn\n",
    "from jax import vmap\n",
    "from jax import grad"
   ]
  },
  {
   "cell_type": "code",
   "execution_count": 2,
   "metadata": {},
   "outputs": [],
   "source": [
    "data_df = pd.read_csv('./digit-recognizer/train.csv')"
   ]
  },
  {
   "cell_type": "code",
   "execution_count": 3,
   "metadata": {},
   "outputs": [],
   "source": [
    "np.random.shuffle(data_df.values)\n",
    "m, n = data_df.shape\n",
    "Y = jnp.array(data_df[\"label\"])\n",
    "data_df = data_df.drop(\"label\", axis=1)\n",
    "X = jnp.array(data_df)\n",
    "\n",
    "\n",
    "X_train = X[1000:]\n",
    "X_train = X_train / 255.\n",
    "Y_train = Y[1000:]\n",
    "\n",
    "X_val = X[:1000]\n",
    "X_val = X_val / 255.\n",
    "Y_val = Y[:1000]"
   ]
  },
  {
   "cell_type": "markdown",
   "metadata": {},
   "source": [
    "Our NN will have a simple two-layer architecture. Input layer $A^{[0]}$ will have 784 units corresponding to the 784 pixels in each 28x28 input image. A hidden layer $A^{[1]}$ will have 10 units with ReLU activation, and finally our output layer $A^{[2]}$ will have 10 units corresponding to the ten digit classes with softmax activation.\n",
    "\n",
    "\n",
    "**Forward propagation**\n",
    "\n",
    "Input Layer:    \n",
    "$$X = A^{[0]}$$\n",
    "\n",
    "First Hidden Layer:\n",
    "$$Z^{[1]} = W^{[1]} X + b^{[1]}$$\n",
    "$$A^{[1]} = g_{\\text{ReLU}}(Z^{[1]})$$\n",
    "\n",
    "Second Hidden Layer:\n",
    "$$Z^{[2]} = W^{[2]} A^{[1]} + b^{[2]}$$\n",
    "$$A^{[2]} = g_{\\text{softmax}}(Z^{[2]})$$\n",
    "\n",
    "**Backward propagation**\n",
    "\n",
    "Loss Function (Categorical Cross Entropy):  \n",
    "$$L(y, a^{[2]}) = -\\sum_{j = 1}^{C}y_{j} \\cdot\\ log(a^{[2]})$$ \n",
    "C is the number of classes, which is 10 in this case. \n",
    "\n",
    "Cost Function:\n",
    "$$J(W, b) = -\\frac{1}{m} \\sum_{i = 1}^{m} L(y^{i}, a^{[2](i)})$$ \n",
    "$$J(W, b) = -\\frac{1}{m} \\sum_{i = 1}^{m} \\sum_{j = 1}^{C}y^{i}_{j}\\cdot\\log(a^{[2](i)})$$ \n",
    "The cost function is the average of the losses over all the samples.\n",
    "\n",
    "Derivatives:    \n",
    "For detailed derivation of $dZ^{[2]}$ see: [derivation-of-categorical-cross-entropy-loss](https://towardsdatascience.com/derivative-of-the-softmax-function-and-the-categorical-cross-entropy-loss-ffceefc081d1)    \n",
    "For more details on the rest of the derivations see: [backpropagation-intuition](https://www.youtube.com/watch?v=yXcQ4B-YSjQ&list=PLkDaE6sCZn6Ec-XTbcX1uRg2_u4xOEky0&index=34&ab_channel=DeepLearningAI)\n",
    "$$dZ^{[2]} = A^{[2]} - Y$$\n",
    "$$dW^{[2]} = \\frac{1}{m} dZ^{[2]} A^{[1]T}$$\n",
    "$$dB^{[2]} = \\frac{1}{m} \\sum_{i = 1}^{m} {dZ^{[2]}}$$\n",
    "$$dZ^{[1]} = W^{[2]T} dZ^{[2]} .* g^{[1]\\prime} (z^{[1]})$$\n",
    "$$dW^{[1]} = \\frac{1}{m} dZ^{[1]} A^{[0]T}$$\n",
    "$$dB^{[1]} = \\frac{1}{m} \\sum_{i = 1}^{m} {dZ^{[1]}}$$\n",
    "\n",
    "**Gradient Descent (parameter updates)**\n",
    "\n",
    "$$W^{[2]} := W^{[2]} - \\alpha dW^{[2]}$$\n",
    "$$b^{[2]} := b^{[2]} - \\alpha db^{[2]}$$\n",
    "$$W^{[1]} := W^{[1]} - \\alpha dW^{[1]}$$\n",
    "$$b^{[1]} := b^{[1]} - \\alpha db^{[1]}$$\n",
    "\n",
    "**Vars and shapes**\n",
    "\n",
    "Forward prop\n",
    "\n",
    "- $A^{[0]} = X$: 784 x m\n",
    "- $Z^{[1]} \\sim A^{[1]}$: 10 x m\n",
    "- $W^{[1]}$: 10 x 784 (as $W^{[1]} A^{[0]} \\sim Z^{[1]}$)\n",
    "- $B^{[1]}$: 10 x 1\n",
    "- $Z^{[2]} \\sim A^{[2]}$: 10 x m\n",
    "- $W^{[1]}$: 10 x 10 (as $W^{[2]} A^{[1]} \\sim Z^{[2]}$)\n",
    "- $B^{[2]}$: 10 x 1\n",
    "\n",
    "Backprop\n",
    "\n",
    "- $dZ^{[2]}$: 10 x m ($~A^{[2]}$)\n",
    "- $dW^{[2]}$: 10 x 10\n",
    "- $dB^{[2]}$: 10 x 1\n",
    "- $dZ^{[1]}$: 10 x m ($~A^{[1]}$)\n",
    "- $dW^{[1]}$: 10 x 10\n",
    "- $dB^{[1]}$: 10 x 1"
   ]
  },
  {
   "cell_type": "markdown",
   "metadata": {},
   "source": [
    "The layers and activation functions can now be defined using Haiku's functions. No need to explicitly specify the weights and biases of each layer."
   ]
  },
  {
   "cell_type": "code",
   "execution_count": 4,
   "metadata": {},
   "outputs": [],
   "source": [
    "def _forward_fn(x):\n",
    "    mlp = hk.Sequential([\n",
    "        hk.Linear(10), jax.nn.relu,\n",
    "        hk.Linear(10), jax.nn.softmax\n",
    "    ])\n",
    "    return mlp(x)"
   ]
  },
  {
   "cell_type": "markdown",
   "metadata": {},
   "source": [
    "The Haiku model above is an object, not a pure function, which is required for Jax's. So the model is first transformed using the hk.transform method."
   ]
  },
  {
   "cell_type": "code",
   "execution_count": 28,
   "metadata": {},
   "outputs": [],
   "source": [
    "forward_fn = hk.transform(_forward_fn)"
   ]
  },
  {
   "cell_type": "markdown",
   "metadata": {},
   "source": [
    "The models layers shown below, are the same as used in previous notebooks."
   ]
  },
  {
   "cell_type": "code",
   "execution_count": 6,
   "metadata": {},
   "outputs": [
    {
     "name": "stdout",
     "output_type": "stream",
     "text": [
      "linear\n",
      "Weights : (784, 10), Biases : (10,)\n",
      "\n",
      "linear_1\n",
      "Weights : (10, 10), Biases : (10,)\n",
      "\n"
     ]
    }
   ],
   "source": [
    "dummy_x = X_train[:5]\n",
    "rng_key = random.PRNGKey(64)\n",
    "\n",
    "initial_params = forward_fn.init(rng=rng_key, x=dummy_x)\n",
    "\n",
    "for layer_name, weights in initial_params.items():\n",
    "    print(layer_name)\n",
    "    print(\"Weights : {}, Biases : {}\\n\".format(initial_params[layer_name][\"w\"].shape, initial_params[layer_name][\"b\"].shape))"
   ]
  },
  {
   "cell_type": "markdown",
   "metadata": {},
   "source": [
    "The model can process a batch of any size."
   ]
  },
  {
   "cell_type": "code",
   "execution_count": 7,
   "metadata": {},
   "outputs": [
    {
     "name": "stdout",
     "output_type": "stream",
     "text": [
      "[[0.10903449 0.08148836 0.11404355 0.11746839 0.08617248 0.1121618\n",
      "  0.07521552 0.11107448 0.10700246 0.08633839]\n",
      " [0.1184034  0.0760287  0.12359262 0.10440519 0.07472834 0.09813596\n",
      "  0.06421445 0.12048039 0.12889716 0.09111377]\n",
      " [0.11008009 0.07168338 0.11888898 0.09912661 0.07042118 0.09882687\n",
      "  0.06582631 0.13413298 0.12996739 0.10104617]\n",
      " [0.11240921 0.07807808 0.11019351 0.09632948 0.08014824 0.09616168\n",
      "  0.08019723 0.12127028 0.12024726 0.10496502]\n",
      " [0.1098324  0.09535951 0.12875696 0.10512744 0.09696282 0.09774043\n",
      "  0.08459642 0.10147075 0.10227625 0.07787712]]\n"
     ]
    }
   ],
   "source": [
    "preds = forward_fn.apply(initial_params, rng_key, X_train[:5])\n",
    "print(preds)"
   ]
  },
  {
   "cell_type": "markdown",
   "metadata": {},
   "source": [
    "The forward pass performed in the loss function now needs the .apply method. The explicit weights, biases and gradients have been replaced by params and grads in the update_params function. This saves a lot of code on more complex models."
   ]
  },
  {
   "cell_type": "code",
   "execution_count": 9,
   "metadata": {},
   "outputs": [],
   "source": [
    "@partial(jax.jit, static_argnames=['k'])\n",
    "def one_hot(x, k, dtype=jnp.float32):\n",
    "    \"\"\"Create a one-hot encoding of x of size k.\"\"\"\n",
    "    return jnp.array(x[:, None] == jnp.arange(k), dtype)\n",
    "\n",
    "@jax.jit\n",
    "def loss_fn(params, X, Y):\n",
    "    A2 = forward_fn.apply(params, rng_key, X)\n",
    "    one_hot_Y = one_hot(Y, 10)\n",
    "    loss = -jnp.sum(one_hot_Y * jnp.log(A2)) / m\n",
    "    return loss\n",
    "\n",
    "@jax.jit\n",
    "def update_rule(param, update):\n",
    "    return param - 0.1 * update\n",
    "\n",
    "@jax.jit\n",
    "def update_params(params, alpha, X, Y):\n",
    "    grads = grad(loss_fn, argnums=0)(params, X, Y)\n",
    "    params = jax.tree_util.tree_map(update_rule, params, grads)\n",
    "    return params\n"
   ]
  },
  {
   "cell_type": "markdown",
   "metadata": {},
   "source": [
    "The initialization function has been removed since Haiku handles the initialization using the .init method."
   ]
  },
  {
   "cell_type": "code",
   "execution_count": 10,
   "metadata": {},
   "outputs": [],
   "source": [
    "@jax.jit\n",
    "def get_predictions(A2):\n",
    "    return jnp.argmax(A2, axis=1)\n",
    "\n",
    "def get_accuracy(predictions, Y):\n",
    "    print(predictions, Y)\n",
    "    return jnp.mean(predictions == Y)\n",
    "\n",
    "def gradient_descent(X, Y, alpha, iterations):\n",
    "    rng = jax.random.PRNGKey(42)\n",
    "    params = forward_fn.init(rng=rng, x=X)\n",
    "    for i in range(iterations):\n",
    "        params = update_params(params, alpha, X, Y)\n",
    "        if i % 10 == 0:\n",
    "            print(\"Iteration: \", i)\n",
    "            A2 = forward_fn.apply(params, rng, X)\n",
    "            predictions = get_predictions(A2)\n",
    "            print(get_accuracy(predictions, Y))\n",
    "    return params"
   ]
  },
  {
   "cell_type": "code",
   "execution_count": 15,
   "metadata": {},
   "outputs": [
    {
     "name": "stdout",
     "output_type": "stream",
     "text": [
      "Iteration:  0\n",
      "[8 1 1 ... 8 1 8] [2 4 8 ... 5 5 4]\n",
      "0.16009755\n",
      "Iteration:  10\n",
      "[1 4 1 ... 8 8 5] [2 4 8 ... 5 5 4]\n",
      "0.3594878\n",
      "Iteration:  20\n",
      "[1 4 3 ... 8 8 4] [2 4 8 ... 5 5 4]\n",
      "0.59985363\n",
      "Iteration:  30\n",
      "[1 4 3 ... 9 0 9] [2 4 8 ... 5 5 4]\n",
      "0.6919756\n",
      "Iteration:  40\n",
      "[2 4 3 ... 9 0 4] [2 4 8 ... 5 5 4]\n",
      "0.7266829\n",
      "Iteration:  50\n",
      "[2 4 3 ... 9 6 4] [2 4 8 ... 5 5 4]\n",
      "0.7523171\n",
      "Iteration:  60\n",
      "[2 4 8 ... 9 6 4] [2 4 8 ... 5 5 4]\n",
      "0.7767073\n",
      "Iteration:  70\n",
      "[2 4 8 ... 5 6 4] [2 4 8 ... 5 5 4]\n",
      "0.79614633\n",
      "Iteration:  80\n",
      "[2 4 8 ... 5 6 4] [2 4 8 ... 5 5 4]\n",
      "0.8119268\n",
      "Iteration:  90\n",
      "[2 4 8 ... 5 6 4] [2 4 8 ... 5 5 4]\n",
      "0.82387805\n",
      "Iteration:  100\n",
      "[2 4 8 ... 5 6 4] [2 4 8 ... 5 5 4]\n",
      "0.83412194\n",
      "Iteration:  110\n",
      "[2 4 8 ... 5 6 4] [2 4 8 ... 5 5 4]\n",
      "0.84156096\n",
      "Iteration:  120\n",
      "[2 4 8 ... 5 6 4] [2 4 8 ... 5 5 4]\n",
      "0.8484146\n",
      "Iteration:  130\n",
      "[2 4 8 ... 5 6 4] [2 4 8 ... 5 5 4]\n",
      "0.8546097\n",
      "Iteration:  140\n",
      "[2 4 8 ... 5 6 4] [2 4 8 ... 5 5 4]\n",
      "0.8593658\n",
      "Iteration:  150\n",
      "[2 4 8 ... 5 6 4] [2 4 8 ... 5 5 4]\n",
      "0.8631707\n",
      "Iteration:  160\n",
      "[2 4 8 ... 5 6 4] [2 4 8 ... 5 5 4]\n",
      "0.86687803\n",
      "Iteration:  170\n",
      "[2 4 8 ... 5 6 4] [2 4 8 ... 5 5 4]\n",
      "0.8700244\n",
      "Iteration:  180\n",
      "[2 4 8 ... 5 6 4] [2 4 8 ... 5 5 4]\n",
      "0.87341464\n",
      "Iteration:  190\n",
      "[2 4 3 ... 5 6 4] [2 4 8 ... 5 5 4]\n",
      "0.8764634\n",
      "Iteration:  200\n",
      "[2 4 3 ... 5 6 4] [2 4 8 ... 5 5 4]\n",
      "0.87914634\n",
      "Iteration:  210\n",
      "[2 4 3 ... 5 6 4] [2 4 8 ... 5 5 4]\n",
      "0.8821463\n",
      "Iteration:  220\n",
      "[2 4 3 ... 5 6 4] [2 4 8 ... 5 5 4]\n",
      "0.88412195\n",
      "Iteration:  230\n",
      "[2 4 3 ... 5 6 4] [2 4 8 ... 5 5 4]\n",
      "0.88602436\n",
      "Iteration:  240\n",
      "[2 4 3 ... 5 6 4] [2 4 8 ... 5 5 4]\n",
      "0.8876829\n",
      "Iteration:  250\n",
      "[2 4 3 ... 5 6 4] [2 4 8 ... 5 5 4]\n",
      "0.889\n",
      "Iteration:  260\n",
      "[2 4 3 ... 5 5 4] [2 4 8 ... 5 5 4]\n",
      "0.89053655\n",
      "Iteration:  270\n",
      "[2 4 3 ... 5 5 4] [2 4 8 ... 5 5 4]\n",
      "0.89224386\n",
      "Iteration:  280\n",
      "[2 4 3 ... 5 5 4] [2 4 8 ... 5 5 4]\n",
      "0.89348775\n",
      "Iteration:  290\n",
      "[2 4 3 ... 5 5 4] [2 4 8 ... 5 5 4]\n",
      "0.8949756\n",
      "Iteration:  300\n",
      "[2 4 3 ... 5 5 4] [2 4 8 ... 5 5 4]\n",
      "0.8962439\n",
      "Iteration:  310\n",
      "[2 4 3 ... 5 5 4] [2 4 8 ... 5 5 4]\n",
      "0.8971219\n",
      "Iteration:  320\n",
      "[2 4 3 ... 5 5 4] [2 4 8 ... 5 5 4]\n",
      "0.8980975\n",
      "Iteration:  330\n",
      "[2 4 3 ... 5 5 4] [2 4 8 ... 5 5 4]\n",
      "0.89863414\n",
      "Iteration:  340\n",
      "[2 4 3 ... 5 5 4] [2 4 8 ... 5 5 4]\n",
      "0.8996585\n",
      "Iteration:  350\n",
      "[2 4 3 ... 5 5 4] [2 4 8 ... 5 5 4]\n",
      "0.90060973\n",
      "Iteration:  360\n",
      "[2 4 3 ... 5 5 4] [2 4 8 ... 5 5 4]\n",
      "0.90107316\n",
      "Iteration:  370\n",
      "[2 4 3 ... 5 5 4] [2 4 8 ... 5 5 4]\n",
      "0.90165854\n",
      "Iteration:  380\n",
      "[2 4 3 ... 5 5 4] [2 4 8 ... 5 5 4]\n",
      "0.9025122\n",
      "Iteration:  390\n",
      "[2 4 3 ... 5 5 4] [2 4 8 ... 5 5 4]\n",
      "0.90363413\n",
      "Iteration:  400\n",
      "[2 4 3 ... 5 5 4] [2 4 8 ... 5 5 4]\n",
      "0.90426826\n",
      "Iteration:  410\n",
      "[2 4 3 ... 5 5 4] [2 4 8 ... 5 5 4]\n",
      "0.90478045\n",
      "Iteration:  420\n",
      "[2 4 3 ... 5 5 4] [2 4 8 ... 5 5 4]\n",
      "0.9052195\n",
      "Iteration:  430\n",
      "[2 4 3 ... 5 5 4] [2 4 8 ... 5 5 4]\n",
      "0.9059268\n",
      "Iteration:  440\n",
      "[2 4 3 ... 5 5 4] [2 4 8 ... 5 5 4]\n",
      "0.9064146\n",
      "Iteration:  450\n",
      "[2 4 3 ... 5 5 4] [2 4 8 ... 5 5 4]\n",
      "0.9071707\n",
      "Iteration:  460\n",
      "[2 4 3 ... 5 5 4] [2 4 8 ... 5 5 4]\n",
      "0.9078292\n",
      "Iteration:  470\n",
      "[2 4 3 ... 5 5 4] [2 4 8 ... 5 5 4]\n",
      "0.9084146\n",
      "Iteration:  480\n",
      "[2 4 3 ... 5 5 4] [2 4 8 ... 5 5 4]\n",
      "0.90880483\n",
      "Iteration:  490\n",
      "[2 4 3 ... 5 5 4] [2 4 8 ... 5 5 4]\n",
      "0.9091707\n"
     ]
    }
   ],
   "source": [
    "params = gradient_descent(X_train, Y_train, 0.10, 500)"
   ]
  },
  {
   "cell_type": "code",
   "execution_count": 16,
   "metadata": {},
   "outputs": [],
   "source": [
    "def make_predictions(X, params):\n",
    "    rng = jax.random.PRNGKey(42)\n",
    "    A2 = forward_fn.apply(params, rng, X)\n",
    "    predictions = get_predictions(A2)\n",
    "    return predictions\n",
    "\n",
    "def test_prediction(index, params):\n",
    "    current_image = X_train[None, index]\n",
    "    prediction = make_predictions(X_train[None, index], params)\n",
    "    label = Y_train[index]\n",
    "    print(\"Prediction: \", prediction)\n",
    "    print(\"Label: \", label)\n",
    "    \n",
    "    current_image = current_image.reshape((28, 28)) * 255\n",
    "    plt.gray()\n",
    "    plt.imshow(current_image, interpolation='nearest')\n",
    "    plt.show()"
   ]
  },
  {
   "cell_type": "code",
   "execution_count": 17,
   "metadata": {},
   "outputs": [
    {
     "name": "stdout",
     "output_type": "stream",
     "text": [
      "Prediction:  [2]\n",
      "Label:  2\n"
     ]
    },
    {
     "data": {
      "image/png": "[encoded data removed]",
      "text/plain": [
       "<Figure size 432x288 with 1 Axes>"
      ]
     },
     "metadata": {
      "needs_background": "light"
     },
     "output_type": "display_data"
    },
    {
     "name": "stdout",
     "output_type": "stream",
     "text": [
      "Prediction:  [4]\n",
      "Label:  4\n"
     ]
    },
    {
     "data": {
      "image/png": "[encoded data removed]",
      "text/plain": [
       "<Figure size 432x288 with 1 Axes>"
      ]
     },
     "metadata": {
      "needs_background": "light"
     },
     "output_type": "display_data"
    },
    {
     "name": "stdout",
     "output_type": "stream",
     "text": [
      "Prediction:  [3]\n",
      "Label:  8\n"
     ]
    },
    {
     "data": {
      "image/png": "[encoded data removed]",
      "text/plain": [
       "<Figure size 432x288 with 1 Axes>"
      ]
     },
     "metadata": {
      "needs_background": "light"
     },
     "output_type": "display_data"
    },
    {
     "name": "stdout",
     "output_type": "stream",
     "text": [
      "Prediction:  [7]\n",
      "Label:  7\n"
     ]
    },
    {
     "data": {
      "image/png": "[encoded data removed]",
      "text/plain": [
       "<Figure size 432x288 with 1 Axes>"
      ]
     },
     "metadata": {
      "needs_background": "light"
     },
     "output_type": "display_data"
    }
   ],
   "source": [
    "test_prediction(0, params)\n",
    "test_prediction(1, params)\n",
    "test_prediction(2, params)\n",
    "test_prediction(3, params)"
   ]
  },
  {
   "cell_type": "code",
   "execution_count": 18,
   "metadata": {},
   "outputs": [
    {
     "name": "stdout",
     "output_type": "stream",
     "text": [
      "[6 7 1 9 8 4 5 7 7 8 4 0 4 9 7 1 8 3 6 4 7 4 2 5 7 1 0 5 2 1 6 1 1 4 9 0 4\n",
      " 1 0 7 7 6 6 7 6 2 5 0 5 0 9 0 7 4 0 6 8 8 9 5 3 5 5 7 9 0 3 9 4 3 9 6 9 0\n",
      " 1 3 5 2 5 7 1 8 6 8 4 7 6 9 6 7 8 6 3 3 4 4 2 3 4 2 6 1 7 0 4 9 6 7 5 6 8\n",
      " 8 4 1 7 4 4 5 9 4 9 1 3 1 9 7 9 5 2 1 6 1 6 1 1 6 3 0 8 8 3 8 3 7 1 3 5 4\n",
      " 2 7 3 7 5 3 9 2 5 8 4 4 6 4 2 6 1 4 8 5 6 4 1 7 2 9 6 1 8 0 3 1 9 3 6 6 6\n",
      " 6 9 4 9 5 9 8 0 8 5 7 6 4 7 8 4 7 2 2 8 9 4 1 9 8 0 5 0 2 6 5 3 0 4 7 2 0\n",
      " 5 2 5 0 0 1 0 8 4 5 1 6 3 0 6 1 1 6 7 1 4 6 4 8 9 4 9 7 8 4 4 7 5 6 0 1 6\n",
      " 4 4 9 3 7 4 8 6 5 1 6 4 3 7 3 8 1 4 2 9 6 0 1 4 8 7 1 7 5 0 4 2 1 5 1 9 7\n",
      " 9 3 6 4 3 4 2 3 1 4 8 5 3 9 3 3 8 7 4 4 3 8 5 5 8 1 6 6 3 5 5 6 4 8 7 1 4\n",
      " 3 0 3 1 2 7 6 7 8 3 7 1 0 4 9 3 3 0 5 9 3 6 1 1 9 4 7 1 1 2 3 7 8 1 4 0 0\n",
      " 5 9 0 7 4 8 0 9 0 2 2 4 8 3 7 0 6 6 9 4 3 4 6 9 6 1 4 6 5 8 2 0 5 3 7 1 7\n",
      " 7 0 3 3 6 0 0 0 6 9 0 1 5 6 8 1 0 4 3 2 6 6 4 0 3 9 8 9 1 7 9 1 7 4 0 1 8\n",
      " 6 0 6 9 8 6 6 1 3 8 3 9 6 9 5 1 0 3 4 6 1 0 6 7 0 1 7 4 8 1 7 3 2 8 4 9 1\n",
      " 6 9 8 2 2 7 9 1 9 8 4 1 8 5 6 0 0 3 2 0 6 6 2 3 6 5 1 5 1 5 9 2 0 4 4 8 1\n",
      " 4 3 4 0 5 9 2 3 2 3 9 6 4 7 8 1 4 6 5 1 1 8 4 5 0 1 3 9 1 4 1 8 5 5 1 7 3\n",
      " 9 2 1 5 3 6 4 2 5 8 2 1 9 4 8 8 6 1 0 5 8 6 5 2 5 2 7 7 6 8 6 3 2 2 4 3 4\n",
      " 8 0 1 5 3 1 8 3 1 1 6 3 6 7 0 1 2 9 0 1 0 3 1 2 6 9 7 6 7 5 2 1 8 9 6 8 8\n",
      " 6 5 7 1 9 7 5 2 0 2 9 6 8 1 2 5 8 2 3 9 2 0 6 0 1 1 2 8 7 3 3 3 3 0 8 3 2\n",
      " 3 5 2 7 5 8 2 6 5 3 4 9 7 1 6 2 9 6 9 8 7 1 2 9 6 7 7 3 5 0 6 9 9 0 2 4 7\n",
      " 8 1 1 8 0 6 0 7 6 7 5 0 0 9 0 6 5 4 4 3 1 0 4 8 6 5 9 2 0 1 5 6 0 2 3 8 4\n",
      " 4 5 8 3 9 3 4 8 5 4 0 2 3 9 3 1 4 0 8 2 1 7 5 3 0 5 3 5 2 0 1 1 5 1 0 0 6\n",
      " 0 1 5 0 9 5 3 6 4 7 6 6 7 6 0 0 6 4 7 2 5 9 7 4 5 4 7 7 0 2 2 6 9 5 9 7 2\n",
      " 1 6 1 4 2 8 1 0 1 0 8 4 0 4 0 0 3 1 7 7 5 9 7 0 4 1 4 5 2 0 3 3 5 8 2 9 4\n",
      " 1 3 6 0 6 4 6 8 4 3 2 8 8 9 2 2 7 9 9 4 0 2 5 1 2 9 2 3 7 7 4 0 4 2 1 9 9\n",
      " 4 4 3 3 0 8 1 8 8 3 3 3 6 8 8 7 0 5 5 1 6 6 3 4 9 8 5 6 6 3 5 1 2 7 1 7 1\n",
      " 6 6 9 0 0 9 4 8 7 6 9 3 9 1 3 9 3 1 3 0 6 9 7 4 6 2 4 5 9 4 4 3 0 8 3 2 0\n",
      " 2 4 8 5 6 4 8 0 5 9 6 1 8 0 6 5 8 5 0 0 4 8 7 9 9 7 7 5 9 6 7 4 0 3 4 7 2\n",
      " 6] [6 7 1 9 8 4 5 7 7 9 4 0 4 9 7 1 8 3 6 4 7 4 2 5 9 1 0 5 7 1 6 1 1 4 9 0 4\n",
      " 1 0 7 7 6 6 7 6 2 5 0 5 0 9 0 7 4 0 6 8 8 9 5 3 5 3 7 7 0 3 9 4 5 9 6 9 0\n",
      " 1 3 1 2 5 7 1 8 6 8 9 7 6 9 6 7 8 6 3 3 4 4 2 3 4 2 6 1 7 0 4 7 6 7 5 6 8\n",
      " 8 4 1 7 4 4 5 9 4 9 1 3 1 9 7 9 5 4 1 6 1 6 1 1 6 3 0 8 8 3 8 3 7 1 3 5 4\n",
      " 2 7 3 7 5 3 9 5 5 8 2 4 6 4 2 6 1 4 8 5 6 4 1 7 2 9 6 8 8 0 3 1 9 9 6 6 6\n",
      " 6 9 4 9 5 9 8 0 8 5 7 6 9 7 8 4 7 2 2 8 5 4 1 9 8 0 5 0 2 6 5 3 0 4 7 2 0\n",
      " 5 2 3 0 0 1 0 8 4 6 1 6 8 0 6 1 1 9 9 1 4 6 4 8 9 4 9 7 8 4 4 1 5 6 0 1 6\n",
      " 4 4 9 3 7 4 8 6 5 1 6 4 3 7 3 8 6 4 2 9 8 0 1 4 8 9 1 7 5 0 4 2 1 5 1 9 7\n",
      " 9 3 6 5 3 4 2 3 1 4 8 5 3 9 3 3 8 7 4 4 3 8 5 2 8 1 6 6 3 5 5 6 4 8 7 1 4\n",
      " 3 0 3 1 2 9 6 7 8 3 7 1 0 4 9 3 3 0 5 9 3 6 1 1 9 4 7 1 1 2 2 7 8 1 4 0 0\n",
      " 5 4 0 7 4 8 0 9 0 2 2 4 8 3 7 0 6 6 9 0 3 4 6 9 6 1 4 6 5 8 2 9 5 3 7 1 7\n",
      " 7 4 5 3 6 0 0 0 6 9 0 1 5 6 8 1 0 4 3 2 6 6 6 0 3 9 8 9 1 7 9 8 7 4 0 1 8\n",
      " 6 0 6 9 8 6 6 2 3 8 3 0 6 9 9 1 0 3 4 6 1 0 6 7 0 1 7 4 0 1 7 3 2 8 4 9 1\n",
      " 6 9 3 2 2 7 8 1 3 8 4 1 8 5 6 0 0 3 2 0 6 6 2 3 6 5 9 3 1 5 9 2 0 4 4 8 1\n",
      " 4 3 4 0 5 9 2 3 2 3 9 6 4 7 4 1 4 6 8 1 1 8 2 5 0 1 3 9 1 4 1 8 5 5 1 7 3\n",
      " 9 2 1 5 3 6 4 2 5 8 2 1 9 4 8 8 5 1 8 5 8 3 7 2 9 2 7 7 6 5 6 3 7 4 4 3 4\n",
      " 8 0 1 5 3 1 8 3 1 1 6 3 6 7 0 1 2 4 0 3 0 3 1 7 6 9 7 6 7 5 2 1 8 9 6 8 8\n",
      " 5 5 7 1 9 7 5 2 0 2 9 6 8 1 7 5 8 2 3 9 2 0 6 0 1 1 3 8 7 3 3 3 3 0 8 3 2\n",
      " 3 5 2 7 5 8 2 6 6 3 4 9 7 1 6 3 9 6 9 8 7 1 2 9 6 7 7 3 8 0 5 9 9 0 2 4 7\n",
      " 8 1 1 8 0 6 0 7 0 7 5 0 0 9 0 6 5 4 4 3 1 0 4 8 6 5 9 2 0 1 5 6 0 2 3 8 4\n",
      " 4 5 5 3 9 3 4 8 5 4 0 2 5 9 3 1 8 0 8 2 1 7 8 2 0 5 3 5 2 0 1 9 5 1 0 0 6\n",
      " 0 1 5 0 9 5 3 6 4 7 6 6 7 6 0 0 6 4 7 2 5 9 7 4 5 5 7 7 0 2 2 5 9 5 7 7 2\n",
      " 1 6 1 4 2 8 1 0 1 0 8 4 0 4 0 0 3 1 7 7 5 9 7 0 4 1 4 8 2 0 3 3 5 8 2 9 4\n",
      " 1 3 8 0 6 4 6 8 4 3 2 8 8 9 2 2 7 9 9 5 0 2 5 1 2 9 2 2 7 7 4 0 4 2 1 9 5\n",
      " 4 4 3 3 0 8 1 8 8 3 3 3 6 8 8 7 0 5 5 1 6 6 3 4 9 5 5 6 2 3 5 1 2 7 1 7 1\n",
      " 6 6 9 0 0 9 4 8 7 6 9 3 9 1 1 9 3 1 3 0 6 4 7 4 6 2 4 6 9 4 4 3 0 8 3 2 0\n",
      " 2 4 8 5 6 4 8 0 5 4 6 1 8 0 6 5 8 5 0 0 4 8 7 9 9 7 7 5 9 6 7 4 0 3 4 7 2\n",
      " 6]\n"
     ]
    },
    {
     "data": {
      "text/plain": [
       "DeviceArray(0.91300005, dtype=float32)"
      ]
     },
     "execution_count": 18,
     "metadata": {},
     "output_type": "execute_result"
    }
   ],
   "source": [
    "val_predictions = make_predictions(X_val, params)\n",
    "get_accuracy(val_predictions, Y_val)"
   ]
  },
  {
   "cell_type": "markdown",
   "metadata": {},
   "source": [
    "No loss in accuracy during training or inferencing compared to other methods."
   ]
  },
  {
   "cell_type": "code",
   "execution_count": 19,
   "metadata": {},
   "outputs": [],
   "source": [
    "large_X_input = X_val.copy()\n",
    "\n",
    "for i in range(6):\n",
    "    large_X_input = jnp.concatenate((large_X_input, large_X_input), axis=0)"
   ]
  },
  {
   "cell_type": "code",
   "execution_count": 20,
   "metadata": {},
   "outputs": [
    {
     "data": {
      "text/plain": [
       "(64000, 784)"
      ]
     },
     "execution_count": 20,
     "metadata": {},
     "output_type": "execute_result"
    }
   ],
   "source": [
    "large_X_input.shape"
   ]
  },
  {
   "cell_type": "code",
   "execution_count": 31,
   "metadata": {},
   "outputs": [
    {
     "name": "stdout",
     "output_type": "stream",
     "text": [
      "1.38 ms ± 729 ns per loop (mean ± std. dev. of 7 runs, 1,000 loops each)\n"
     ]
    }
   ],
   "source": [
    "rng = jax.random.PRNGKey(42)\n",
    "forward_opt = jax.jit(forward_fn.apply)\n",
    "%timeit forward_opt(params, rng, large_X_input)"
   ]
  },
  {
   "cell_type": "markdown",
   "metadata": {},
   "source": [
    "### Conclusion\n",
    "\n",
    "Training time for Haiku optimized vs autograd optimized was the same (1.3s vs 1.3s). Inferencing time was also the same (1.36s vs 1.38s), showing that no performance was lost by using Haiku."
   ]
  }
 ],
 "metadata": {
  "kernelspec": {
   "display_name": "Python 3.8.10 ('jax0.3')",
   "language": "python",
   "name": "python3"
  },
  "language_info": {
   "codemirror_mode": {
    "name": "ipython",
    "version": 3
   },
   "file_extension": ".py",
   "mimetype": "text/x-python",
   "name": "python",
   "nbconvert_exporter": "python",
   "pygments_lexer": "ipython3",
   "version": "3.8.10"
  },
  "orig_nbformat": 4,
  "vscode": {
   "interpreter": {
    "hash": "9b55b4f1ed0ab49d1b0af7b4581ff82338a5e4e950fefc3b23f0187ed730cfd3"
   }
  }
 },
 "nbformat": 4,
 "nbformat_minor": 2
}
