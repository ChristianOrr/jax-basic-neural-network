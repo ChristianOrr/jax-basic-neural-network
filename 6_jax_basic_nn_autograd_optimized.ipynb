{
 "cells": [
  {
   "cell_type": "markdown",
   "metadata": {},
   "source": [
    "# Simple Jax (autograd optimized) NN from Scratch\n",
    "\n",
    "This notebook combines all the jax features used so far (jit, autograd and vmap). This notebook demonstrates how clean and fast Jax can become by using all its features together, whilst not losing control over the low level functionality of the model.\n"
   ]
  },
  {
   "cell_type": "code",
   "execution_count": 58,
   "metadata": {},
   "outputs": [],
   "source": [
    "import os\n",
    "import numpy as np\n",
    "import pandas as pd\n",
    "import matplotlib.pyplot as plt\n",
    "from functools import partial\n",
    "import jax\n",
    "import jax.numpy as jnp\n",
    "from jax import random\n",
    "from jax import nn\n",
    "from jax import vmap\n",
    "from jax import grad\n",
    "from keras.utils import data_utils"
   ]
  },
  {
   "cell_type": "markdown",
   "metadata": {},
   "source": [
    "Check if the training data exists. If not, automatically download it."
   ]
  },
  {
   "cell_type": "code",
   "execution_count": 59,
   "metadata": {},
   "outputs": [],
   "source": [
    "data_dir = os.path.abspath(\"./digit-recognizer\")\n",
    "os.makedirs(data_dir, exist_ok=True)\n",
    "train_data_path = f\"{data_dir}/train.csv\"\n",
    "train_data_url = \"https://huggingface.co/datasets/ChristianOrr/mnist/resolve/main/train.csv\"\n",
    "\n",
    "if not os.path.exists(train_data_path):\n",
    "    print(\"Downloading training data...\")\n",
    "    data_utils.get_file(train_data_path, train_data_url)\n",
    "\n",
    "data_df = pd.read_csv('./digit-recognizer/train.csv')"
   ]
  },
  {
   "cell_type": "code",
   "execution_count": 60,
   "metadata": {},
   "outputs": [],
   "source": [
    "np.random.shuffle(data_df.values)\n",
    "m, n = data_df.shape\n",
    "Y = jnp.array(data_df[\"label\"])\n",
    "data_df = data_df.drop(\"label\", axis=1)\n",
    "X = jnp.array(data_df)\n",
    "\n",
    "\n",
    "X_train = X[1000:]\n",
    "X_train = X_train / 255.\n",
    "Y_train = Y[1000:]\n",
    "\n",
    "X_val = X[:1000]\n",
    "X_val = X_val / 255.\n",
    "Y_val = Y[:1000]"
   ]
  },
  {
   "cell_type": "markdown",
   "metadata": {},
   "source": [
    "Our NN will have a simple two-layer architecture. Input layer $A^{[0]}$ will have 784 units corresponding to the 784 pixels in each 28x28 input image. A hidden layer $A^{[1]}$ will have 10 units with ReLU activation, and finally our output layer $A^{[2]}$ will have 10 units corresponding to the ten digit classes with softmax activation.\n",
    "\n",
    "\n",
    "**Forward propagation**\n",
    "\n",
    "Input Layer:    \n",
    "$$X = A^{[0]}$$\n",
    "\n",
    "First Hidden Layer:\n",
    "$$Z^{[1]} = W^{[1]} X + b^{[1]}$$\n",
    "$$A^{[1]} = g_{\\text{ReLU}}(Z^{[1]})$$\n",
    "\n",
    "Second Hidden Layer:\n",
    "$$Z^{[2]} = W^{[2]} A^{[1]} + b^{[2]}$$\n",
    "$$A^{[2]} = g_{\\text{softmax}}(Z^{[2]})$$\n",
    "\n",
    "**Backward propagation**\n",
    "\n",
    "Loss Function (Categorical Cross Entropy):  \n",
    "$$L(y, a^{[2]}) = -\\sum_{j = 1}^{C}y_{j} \\cdot\\ log(a^{[2]})$$ \n",
    "C is the number of classes, which is 10 in this case. \n",
    "\n",
    "Cost Function:\n",
    "$$J(W, b) = -\\frac{1}{m} \\sum_{i = 1}^{m} L(y^{i}, a^{[2](i)})$$ \n",
    "$$J(W, b) = -\\frac{1}{m} \\sum_{i = 1}^{m} \\sum_{j = 1}^{C}y^{i}_{j}\\cdot\\log(a^{[2](i)})$$ \n",
    "The cost function is the average of the losses over all the samples.\n",
    "\n",
    "Derivatives:    \n",
    "For detailed derivation of $dZ^{[2]}$ see: [derivation-of-categorical-cross-entropy-loss](https://towardsdatascience.com/derivative-of-the-softmax-function-and-the-categorical-cross-entropy-loss-ffceefc081d1)    \n",
    "For more details on the rest of the derivations see: [backpropagation-intuition](https://www.youtube.com/watch?v=yXcQ4B-YSjQ&list=PLkDaE6sCZn6Ec-XTbcX1uRg2_u4xOEky0&index=34&ab_channel=DeepLearningAI)\n",
    "$$dZ^{[2]} = A^{[2]} - Y$$\n",
    "$$dW^{[2]} = \\frac{1}{m} dZ^{[2]} A^{[1]T}$$\n",
    "$$dB^{[2]} = \\frac{1}{m} \\sum_{i = 1}^{m} {dZ^{[2]}}$$\n",
    "$$dZ^{[1]} = W^{[2]T} dZ^{[2]} .* g^{[1]\\prime} (z^{[1]})$$\n",
    "$$dW^{[1]} = \\frac{1}{m} dZ^{[1]} A^{[0]T}$$\n",
    "$$dB^{[1]} = \\frac{1}{m} \\sum_{i = 1}^{m} {dZ^{[1]}}$$\n",
    "\n",
    "**Gradient Descent (parameter updates)**\n",
    "\n",
    "$$W^{[2]} := W^{[2]} - \\alpha dW^{[2]}$$\n",
    "$$b^{[2]} := b^{[2]} - \\alpha db^{[2]}$$\n",
    "$$W^{[1]} := W^{[1]} - \\alpha dW^{[1]}$$\n",
    "$$b^{[1]} := b^{[1]} - \\alpha db^{[1]}$$\n",
    "\n",
    "**Vars and shapes**\n",
    "\n",
    "Forward prop\n",
    "\n",
    "- $A^{[0]} = X$: 784 x m\n",
    "- $Z^{[1]} \\sim A^{[1]}$: 10 x m\n",
    "- $W^{[1]}$: 10 x 784 (as $W^{[1]} A^{[0]} \\sim Z^{[1]}$)\n",
    "- $B^{[1]}$: 10 x 1\n",
    "- $Z^{[2]} \\sim A^{[2]}$: 10 x m\n",
    "- $W^{[1]}$: 10 x 10 (as $W^{[2]} A^{[1]} \\sim Z^{[2]}$)\n",
    "- $B^{[2]}$: 10 x 1\n",
    "\n",
    "Backprop\n",
    "\n",
    "- $dZ^{[2]}$: 10 x m ($~A^{[2]}$)\n",
    "- $dW^{[2]}$: 10 x 10\n",
    "- $dB^{[2]}$: 10 x 1\n",
    "- $dZ^{[1]}$: 10 x m ($~A^{[1]}$)\n",
    "- $dW^{[1]}$: 10 x 10\n",
    "- $dB^{[1]}$: 10 x 1"
   ]
  },
  {
   "cell_type": "code",
   "execution_count": 61,
   "metadata": {},
   "outputs": [],
   "source": [
    "@jax.jit\n",
    "def init_params():\n",
    "    key = random.PRNGKey(42)\n",
    "    key, *subkey = random.split(key, 5)\n",
    "    W1 = random.uniform(subkey[0], (10, 784), jnp.float32, -0.5, 0.5)\n",
    "    b1 = random.uniform(subkey[1], (10,), jnp.float32, -0.5, 0.5)\n",
    "    W2 = random.uniform(subkey[2], (10, 10), jnp.float32, -0.5, 0.5)\n",
    "    b2 = random.uniform(subkey[3], (10,), jnp.float32, -0.5, 0.5)\n",
    "    return W1, b1, W2, b2\n",
    "\n",
    "@jax.jit\n",
    "def ReLU(Z):\n",
    "    return jnp.maximum(Z, 0)\n",
    "\n",
    "@jax.jit\n",
    "def softmax(Z):\n",
    "    A = jnp.exp(Z) / sum(jnp.exp(Z))\n",
    "    return A   \n",
    "\n",
    "@jax.jit\n",
    "def forward(W1, b1, W2, b2, x):\n",
    "    # single example forward pass\n",
    "    z1 = W1.dot(x) + b1\n",
    "    a1 = ReLU(z1)\n",
    "    z2 = W2.dot(a1) + b2\n",
    "    a2 = softmax(z2)\n",
    "    return a2\n",
    "\n",
    "batched_forward = jax.jit(vmap(forward, in_axes=(None, None, None, None, 0)))\n"
   ]
  },
  {
   "cell_type": "markdown",
   "metadata": {},
   "source": [
    "Only the one_hot function needed to have a static argument since the value of k was used in the function. All the rest could be jitted exactly as they were. "
   ]
  },
  {
   "cell_type": "code",
   "execution_count": 62,
   "metadata": {},
   "outputs": [],
   "source": [
    "@partial(jax.jit, static_argnames=['k'])\n",
    "def one_hot(x, k, dtype=jnp.float32):\n",
    "    \"\"\"Create a one-hot encoding of x of size k.\"\"\"\n",
    "    return jnp.array(x[:, None] == jnp.arange(k), dtype)\n",
    "\n",
    "@jax.jit\n",
    "def loss_fn(W1, b1, W2, b2, X, Y):\n",
    "    A2 = batched_forward(W1, b1, W2, b2, X)\n",
    "    one_hot_Y = one_hot(Y, 10)\n",
    "    loss = -jnp.sum(one_hot_Y * jnp.log(A2)) / m\n",
    "    return loss\n",
    "\n",
    "@jax.jit\n",
    "def update_params(W1, b1, W2, b2, alpha, X, Y):\n",
    "    dW1, db1, dW2, db2 = grad(loss_fn, argnums=(0, 1, 2, 3))(W1, b1, W2, b2, X, Y)\n",
    "    W1 = W1 - alpha * dW1\n",
    "    b1 = b1 - alpha * db1    \n",
    "    W2 = W2 - alpha * dW2  \n",
    "    b2 = b2 - alpha * db2    \n",
    "    return W1, b1, W2, b2\n"
   ]
  },
  {
   "cell_type": "code",
   "execution_count": 63,
   "metadata": {},
   "outputs": [],
   "source": [
    "@jax.jit\n",
    "def get_predictions(A2):\n",
    "    return jnp.argmax(A2, axis=1)\n",
    "\n",
    "def get_accuracy(predictions, Y):\n",
    "    print(predictions, Y)\n",
    "    return jnp.mean(predictions == Y)\n",
    "\n",
    "def gradient_descent(X, Y, alpha, iterations):\n",
    "    W1, b1, W2, b2 = init_params()\n",
    "    for i in range(iterations):\n",
    "        W1, b1, W2, b2 = update_params(W1, b1, W2, b2, alpha, X, Y)\n",
    "        if i % 10 == 0:\n",
    "            print(\"Iteration: \", i)\n",
    "            A2 = batched_forward(W1, b1, W2, b2, X)\n",
    "            predictions = get_predictions(A2)\n",
    "            print(get_accuracy(predictions, Y))\n",
    "    return W1, b1, W2, b2"
   ]
  },
  {
   "cell_type": "code",
   "execution_count": 64,
   "metadata": {},
   "outputs": [
    {
     "name": "stdout",
     "output_type": "stream",
     "text": [
      "Iteration:  0\n",
      "[6 3 8 ... 6 6 6] [2 6 8 ... 4 2 3]\n",
      "0.12307317\n",
      "Iteration:  10\n",
      "[1 6 8 ... 6 3 0] [2 6 8 ... 4 2 3]\n",
      "0.25336584\n",
      "Iteration:  20\n",
      "[1 6 8 ... 1 3 0] [2 6 8 ... 4 2 3]\n",
      "0.34129268\n",
      "Iteration:  30\n",
      "[1 1 8 ... 1 3 0] [2 6 8 ... 4 2 3]\n",
      "0.39712194\n",
      "Iteration:  40\n",
      "[2 1 8 ... 1 3 0] [2 6 8 ... 4 2 3]\n",
      "0.44929266\n",
      "Iteration:  50\n",
      "[3 1 8 ... 4 3 0] [2 6 8 ... 4 2 3]\n",
      "0.5004634\n",
      "Iteration:  60\n",
      "[3 1 8 ... 4 3 3] [2 6 8 ... 4 2 3]\n",
      "0.5437317\n",
      "Iteration:  70\n",
      "[3 1 8 ... 4 3 3] [2 6 8 ... 4 2 3]\n",
      "0.5816829\n",
      "Iteration:  80\n",
      "[3 1 8 ... 4 3 3] [2 6 8 ... 4 2 3]\n",
      "0.60802436\n",
      "Iteration:  90\n",
      "[3 1 8 ... 4 3 3] [2 6 8 ... 4 2 3]\n",
      "0.62985367\n",
      "Iteration:  100\n",
      "[3 1 8 ... 4 3 3] [2 6 8 ... 4 2 3]\n",
      "0.64982927\n",
      "Iteration:  110\n",
      "[3 1 8 ... 4 3 3] [2 6 8 ... 4 2 3]\n",
      "0.6669024\n",
      "Iteration:  120\n",
      "[2 1 8 ... 4 3 3] [2 6 8 ... 4 2 3]\n",
      "0.68109757\n",
      "Iteration:  130\n",
      "[2 2 8 ... 4 3 3] [2 6 8 ... 4 2 3]\n",
      "0.69382924\n",
      "Iteration:  140\n",
      "[2 2 8 ... 4 3 3] [2 6 8 ... 4 2 3]\n",
      "0.7034878\n",
      "Iteration:  150\n",
      "[2 2 8 ... 4 3 3] [2 6 8 ... 4 2 3]\n",
      "0.7142439\n",
      "Iteration:  160\n",
      "[2 2 8 ... 4 3 3] [2 6 8 ... 4 2 3]\n",
      "0.7237073\n",
      "Iteration:  170\n",
      "[2 2 8 ... 4 3 3] [2 6 8 ... 4 2 3]\n",
      "0.73204875\n",
      "Iteration:  180\n",
      "[2 2 8 ... 4 3 3] [2 6 8 ... 4 2 3]\n",
      "0.7387073\n",
      "Iteration:  190\n",
      "[2 2 8 ... 4 3 3] [2 6 8 ... 4 2 3]\n",
      "0.7459512\n",
      "Iteration:  200\n",
      "[2 2 8 ... 4 3 3] [2 6 8 ... 4 2 3]\n",
      "0.7522439\n",
      "Iteration:  210\n",
      "[2 2 8 ... 4 3 3] [2 6 8 ... 4 2 3]\n",
      "0.758439\n",
      "Iteration:  220\n",
      "[2 2 8 ... 4 3 3] [2 6 8 ... 4 2 3]\n",
      "0.76421946\n",
      "Iteration:  230\n",
      "[2 2 8 ... 4 3 3] [2 6 8 ... 4 2 3]\n",
      "0.77075607\n",
      "Iteration:  240\n",
      "[2 2 8 ... 4 3 3] [2 6 8 ... 4 2 3]\n",
      "0.7751951\n",
      "Iteration:  250\n",
      "[2 2 8 ... 4 3 3] [2 6 8 ... 4 2 3]\n",
      "0.7801219\n",
      "Iteration:  260\n",
      "[2 2 8 ... 4 3 3] [2 6 8 ... 4 2 3]\n",
      "0.7842195\n",
      "Iteration:  270\n",
      "[2 2 8 ... 4 3 3] [2 6 8 ... 4 2 3]\n",
      "0.78860974\n",
      "Iteration:  280\n",
      "[2 2 8 ... 4 3 3] [2 6 8 ... 4 2 3]\n",
      "0.79278046\n",
      "Iteration:  290\n",
      "[2 2 8 ... 4 3 3] [2 6 8 ... 4 2 3]\n",
      "0.79663414\n",
      "Iteration:  300\n",
      "[2 6 8 ... 4 3 3] [2 6 8 ... 4 2 3]\n",
      "0.8001951\n",
      "Iteration:  310\n",
      "[2 6 8 ... 4 3 3] [2 6 8 ... 4 2 3]\n",
      "0.8039268\n",
      "Iteration:  320\n",
      "[2 6 8 ... 4 3 3] [2 6 8 ... 4 2 3]\n",
      "0.807\n",
      "Iteration:  330\n",
      "[2 6 8 ... 4 3 3] [2 6 8 ... 4 2 3]\n",
      "0.8096829\n",
      "Iteration:  340\n",
      "[2 6 8 ... 4 3 3] [2 6 8 ... 4 2 3]\n",
      "0.81185365\n",
      "Iteration:  350\n",
      "[2 6 8 ... 4 3 3] [2 6 8 ... 4 2 3]\n",
      "0.81448776\n",
      "Iteration:  360\n",
      "[2 6 8 ... 4 3 3] [2 6 8 ... 4 2 3]\n",
      "0.8169756\n",
      "Iteration:  370\n",
      "[2 6 8 ... 4 2 3] [2 6 8 ... 4 2 3]\n",
      "0.81939024\n",
      "Iteration:  380\n",
      "[2 6 8 ... 4 2 3] [2 6 8 ... 4 2 3]\n",
      "0.821439\n",
      "Iteration:  390\n",
      "[2 6 8 ... 4 2 3] [2 6 8 ... 4 2 3]\n",
      "0.82382923\n",
      "Iteration:  400\n",
      "[2 6 8 ... 4 2 3] [2 6 8 ... 4 2 3]\n",
      "0.8261463\n",
      "Iteration:  410\n",
      "[2 6 8 ... 4 2 3] [2 6 8 ... 4 2 3]\n",
      "0.8285853\n",
      "Iteration:  420\n",
      "[2 6 8 ... 4 2 3] [2 6 8 ... 4 2 3]\n",
      "0.831\n",
      "Iteration:  430\n",
      "[2 6 8 ... 4 2 3] [2 6 8 ... 4 2 3]\n",
      "0.8326585\n",
      "Iteration:  440\n",
      "[2 6 8 ... 4 2 3] [2 6 8 ... 4 2 3]\n",
      "0.83478045\n",
      "Iteration:  450\n",
      "[2 6 8 ... 4 2 3] [2 6 8 ... 4 2 3]\n",
      "0.8360488\n",
      "Iteration:  460\n",
      "[2 6 8 ... 4 2 3] [2 6 8 ... 4 2 3]\n",
      "0.83807313\n",
      "Iteration:  470\n",
      "[2 6 8 ... 4 2 3] [2 6 8 ... 4 2 3]\n",
      "0.839878\n",
      "Iteration:  480\n",
      "[2 6 8 ... 4 2 3] [2 6 8 ... 4 2 3]\n",
      "0.8412927\n",
      "Iteration:  490\n",
      "[2 6 8 ... 4 2 3] [2 6 8 ... 4 2 3]\n",
      "0.8430731\n"
     ]
    }
   ],
   "source": [
    "W1, b1, W2, b2 = gradient_descent(X_train, Y_train, 0.10, 500)"
   ]
  },
  {
   "cell_type": "code",
   "execution_count": 65,
   "metadata": {},
   "outputs": [],
   "source": [
    "def make_predictions(X, W1, b1, W2, b2):\n",
    "    A2 = batched_forward(W1, b1, W2, b2, X)\n",
    "    predictions = get_predictions(A2)\n",
    "    return predictions\n",
    "\n",
    "def test_prediction(index, W1, b1, W2, b2):\n",
    "    current_image = X_train[None, index]\n",
    "    prediction = make_predictions(X_train[None, index], W1, b1, W2, b2)\n",
    "    label = Y_train[index]\n",
    "    print(\"Prediction: \", prediction)\n",
    "    print(\"Label: \", label)\n",
    "    \n",
    "    current_image = current_image.reshape((28, 28)) * 255\n",
    "    plt.gray()\n",
    "    plt.imshow(current_image, interpolation='nearest')\n",
    "    plt.show()"
   ]
  },
  {
   "cell_type": "code",
   "execution_count": 66,
   "metadata": {},
   "outputs": [
    {
     "name": "stdout",
     "output_type": "stream",
     "text": [
      "Prediction:  [2]\n",
      "Label:  2\n"
     ]
    },
    {
     "data": {
      "image/png": "[encoded data removed]",
      "text/plain": [
       "<Figure size 432x288 with 1 Axes>"
      ]
     },
     "metadata": {
      "needs_background": "light"
     },
     "output_type": "display_data"
    },
    {
     "name": "stdout",
     "output_type": "stream",
     "text": [
      "Prediction:  [6]\n",
      "Label:  6\n"
     ]
    },
    {
     "data": {
      "image/png": "[encoded data removed]",
      "text/plain": [
       "<Figure size 432x288 with 1 Axes>"
      ]
     },
     "metadata": {
      "needs_background": "light"
     },
     "output_type": "display_data"
    },
    {
     "name": "stdout",
     "output_type": "stream",
     "text": [
      "Prediction:  [8]\n",
      "Label:  8\n"
     ]
    },
    {
     "data": {
      "image/png": "[encoded data removed]",
      "text/plain": [
       "<Figure size 432x288 with 1 Axes>"
      ]
     },
     "metadata": {
      "needs_background": "light"
     },
     "output_type": "display_data"
    },
    {
     "name": "stdout",
     "output_type": "stream",
     "text": [
      "Prediction:  [6]\n",
      "Label:  6\n"
     ]
    },
    {
     "data": {
      "image/png": "[encoded data removed]",
      "text/plain": [
       "<Figure size 432x288 with 1 Axes>"
      ]
     },
     "metadata": {
      "needs_background": "light"
     },
     "output_type": "display_data"
    }
   ],
   "source": [
    "test_prediction(0, W1, b1, W2, b2)\n",
    "test_prediction(1, W1, b1, W2, b2)\n",
    "test_prediction(2, W1, b1, W2, b2)\n",
    "test_prediction(3, W1, b1, W2, b2)"
   ]
  },
  {
   "cell_type": "code",
   "execution_count": 67,
   "metadata": {},
   "outputs": [
    {
     "name": "stdout",
     "output_type": "stream",
     "text": [
      "[5 4 6 9 9 2 6 7 2 6 6 6 8 5 4 7 9 7 1 0 6 2 3 4 2 8 0 7 1 7 9 8 9 0 7 1 7\n",
      " 8 6 7 2 8 2 6 8 5 1 0 0 2 6 7 2 2 3 4 2 3 8 3 8 2 0 7 5 6 0 4 1 7 1 8 1 1\n",
      " 1 7 5 3 3 2 6 4 1 9 6 4 1 0 5 9 8 6 4 8 1 5 2 4 2 1 7 4 6 1 6 6 3 6 3 4 1\n",
      " 3 0 7 6 7 4 7 1 4 4 6 2 9 2 9 2 8 9 3 6 3 2 7 6 9 5 0 1 8 6 1 6 1 7 8 0 0\n",
      " 3 7 0 3 9 6 1 1 3 1 1 6 1 5 2 6 8 0 3 2 2 8 8 6 6 3 8 8 1 9 6 7 7 9 0 6 1\n",
      " 0 6 1 9 0 3 9 1 6 3 1 3 0 0 8 8 5 8 0 7 3 6 3 9 3 4 4 4 4 5 3 4 5 1 8 1 5\n",
      " 8 2 8 6 0 8 1 0 0 4 4 5 0 6 4 4 1 0 8 8 1 8 3 3 9 9 1 7 8 4 1 1 2 0 3 6 2\n",
      " 8 2 9 2 5 1 1 2 7 2 1 9 0 7 8 7 3 6 7 2 4 4 7 6 0 3 0 9 2 5 2 6 8 4 6 1 2\n",
      " 1 0 5 1 4 4 9 0 5 5 1 8 3 3 1 4 1 0 0 4 1 8 8 9 0 4 5 5 7 9 3 7 2 6 4 5 4\n",
      " 5 1 8 6 3 6 0 1 3 3 0 2 2 7 5 8 9 9 0 4 5 7 3 8 1 0 4 9 9 1 9 2 3 0 1 1 0\n",
      " 4 5 0 3 1 1 5 2 3 9 4 3 9 7 4 3 4 1 7 1 1 1 1 6 3 1 6 1 3 2 4 4 2 9 6 2 6\n",
      " 3 3 6 2 0 8 9 2 3 4 0 9 1 4 9 3 7 1 9 3 6 8 4 1 1 3 2 9 7 4 4 7 0 7 4 6 3\n",
      " 1 7 7 3 3 6 0 1 8 7 1 6 3 4 2 7 7 3 3 5 2 0 4 0 0 6 9 9 3 6 7 9 4 6 2 8 1\n",
      " 3 1 1 0 3 5 9 7 6 9 2 7 6 5 7 1 1 5 6 0 7 3 9 6 8 5 1 0 5 8 6 8 8 1 5 2 7\n",
      " 7 6 1 4 8 7 6 7 9 2 8 9 7 1 3 0 0 9 3 3 8 7 1 6 4 7 1 4 1 9 9 8 2 0 0 0 4\n",
      " 0 1 9 1 3 4 8 7 3 5 8 1 6 9 5 9 5 7 4 2 4 3 0 7 7 6 1 6 4 9 0 0 3 2 7 4 5\n",
      " 3 9 9 0 4 0 3 7 9 5 4 4 5 1 0 4 4 6 2 9 7 4 6 6 6 7 6 9 4 4 0 0 5 8 4 7 0\n",
      " 0 7 8 8 4 3 2 6 4 1 5 1 6 3 6 7 3 2 1 2 9 8 4 9 0 4 7 8 4 2 7 0 6 3 3 3 7\n",
      " 3 2 3 8 4 8 8 2 9 9 4 4 9 0 1 0 6 8 0 7 8 3 9 3 4 4 7 4 1 6 6 6 5 0 1 5 0\n",
      " 8 1 9 3 8 7 9 3 7 4 4 6 3 6 1 0 7 1 6 1 5 5 0 7 7 0 7 1 1 0 6 1 9 0 3 4 5\n",
      " 9 0 9 0 4 1 1 8 8 8 9 0 7 4 7 0 6 0 6 7 5 3 1 0 4 5 1 1 3 0 3 9 9 6 9 7 7\n",
      " 3 1 7 2 9 8 7 8 7 1 8 6 6 9 8 3 0 1 0 0 4 9 1 7 4 5 2 8 0 3 8 0 1 7 4 6 2\n",
      " 7 2 6 8 5 0 3 7 5 3 6 3 8 5 9 0 4 1 7 6 0 7 0 1 0 4 6 4 6 2 3 3 3 7 5 3 5\n",
      " 1 7 7 9 2 9 7 1 6 3 4 7 2 6 9 2 8 3 8 8 4 0 3 2 5 0 4 4 3 1 5 3 2 6 9 3 9\n",
      " 9 6 7 8 8 8 0 3 4 8 1 9 4 5 2 6 1 8 7 7 8 0 1 2 7 2 7 4 7 1 3 5 8 1 9 1 9\n",
      " 4 8 8 9 0 9 4 0 0 4 8 3 5 3 5 7 5 7 9 2 6 5 7 4 6 6 0 8 0 9 9 8 1 1 0 7 4\n",
      " 4 9 5 3 4 4 3 8 5 0 9 6 5 4 7 8 8 5 3 7 2 3 9 1 8 5 2 0 4 8 6 1 2 5 5 9 8\n",
      " 6] [5 4 6 9 3 2 5 7 7 6 6 6 8 5 4 7 9 7 1 0 6 2 3 4 2 8 0 7 1 7 9 8 9 0 7 1 7\n",
      " 0 6 7 2 8 7 6 8 8 1 0 0 2 6 7 2 6 3 4 2 3 8 3 8 2 0 7 5 6 0 6 1 7 1 8 1 1\n",
      " 1 7 5 3 2 2 6 4 1 8 6 4 1 0 5 9 2 6 6 5 1 5 2 4 2 1 7 4 6 1 6 6 3 6 3 4 1\n",
      " 3 0 7 6 7 4 3 1 4 4 6 2 9 2 9 2 8 9 3 6 3 2 7 6 9 8 0 6 8 6 2 6 1 7 1 0 0\n",
      " 3 7 0 3 9 6 1 1 3 1 5 6 5 5 7 6 5 0 2 2 5 8 3 6 5 3 8 8 1 9 6 7 7 9 0 6 1\n",
      " 0 6 1 3 0 3 9 1 6 3 1 3 0 0 8 8 0 8 0 7 3 6 3 9 3 4 4 4 7 5 3 4 5 1 8 1 5\n",
      " 8 3 8 6 0 8 1 0 0 4 4 5 0 6 4 4 1 0 8 8 1 8 3 3 7 9 1 7 8 4 1 1 2 0 2 6 8\n",
      " 8 2 9 2 5 1 1 2 7 2 1 9 0 7 5 7 3 6 7 2 4 4 7 6 0 3 5 4 2 5 2 6 8 9 6 1 2\n",
      " 1 0 5 1 4 4 9 0 5 5 1 8 3 3 2 4 1 0 0 7 1 8 2 4 0 4 5 5 7 4 3 7 2 6 4 8 9\n",
      " 5 1 8 6 3 6 0 1 3 3 0 2 2 7 0 8 9 9 0 4 5 7 3 8 1 0 4 9 9 1 9 0 3 0 1 1 2\n",
      " 4 5 0 3 1 1 5 3 3 9 4 3 9 7 4 3 4 1 7 1 1 1 1 6 3 1 6 1 3 2 4 4 2 9 6 2 6\n",
      " 3 3 6 2 0 8 9 2 3 4 0 9 1 4 4 3 7 1 4 3 6 8 9 1 1 3 6 9 7 4 4 5 0 7 4 6 3\n",
      " 1 7 7 3 3 6 0 1 8 9 1 6 3 4 2 7 7 3 3 5 7 0 4 0 0 6 9 5 5 6 7 7 4 6 2 9 1\n",
      " 5 1 1 0 3 5 9 7 6 9 2 7 6 5 7 1 1 5 2 0 7 3 9 6 8 5 1 0 5 5 2 8 8 1 5 3 7\n",
      " 7 6 1 4 8 7 6 7 9 2 8 9 9 1 3 0 0 9 3 3 8 3 1 6 4 7 1 2 1 9 9 8 2 0 0 0 4\n",
      " 0 1 9 1 3 4 8 9 3 5 8 1 6 9 5 9 5 7 4 2 4 3 0 7 7 6 1 4 4 9 0 0 3 2 7 8 0\n",
      " 3 4 9 0 2 0 5 2 9 5 4 4 3 1 0 4 4 6 2 4 7 4 6 6 6 7 6 9 4 4 0 0 5 8 4 7 8\n",
      " 0 7 3 8 4 3 2 2 4 1 1 1 6 5 6 7 3 2 1 2 9 8 4 9 0 4 7 8 4 2 7 0 6 3 3 9 7\n",
      " 5 2 3 8 8 8 8 2 4 9 4 4 9 0 1 0 6 3 0 7 8 3 9 3 4 4 7 4 1 6 0 6 5 0 8 3 0\n",
      " 8 1 9 3 8 7 9 3 7 4 4 6 5 6 1 0 7 1 2 1 5 5 0 7 7 0 7 1 1 0 8 9 9 6 3 4 5\n",
      " 9 0 9 0 4 1 3 8 8 8 9 0 7 4 7 0 6 0 6 9 5 3 1 0 4 5 8 1 3 0 3 9 9 6 4 7 7\n",
      " 3 1 7 3 9 8 7 8 7 1 8 6 6 9 8 3 0 9 0 0 2 9 7 7 4 5 2 8 0 3 5 6 1 5 4 6 2\n",
      " 7 2 6 8 5 0 3 7 5 3 6 3 8 5 9 0 4 1 7 6 0 7 8 1 0 4 6 4 6 2 3 3 8 7 5 8 5\n",
      " 1 7 7 9 2 3 7 1 6 3 9 7 2 6 9 2 5 3 8 8 4 0 5 2 5 0 4 4 3 1 5 3 2 8 9 3 4\n",
      " 9 5 7 8 8 8 0 3 4 3 1 9 4 5 2 6 1 8 7 7 8 0 8 8 8 2 7 4 8 1 5 5 8 1 9 1 9\n",
      " 4 8 8 9 8 9 4 0 0 4 8 3 5 3 8 7 5 7 9 5 6 3 7 4 6 6 0 5 0 9 9 8 1 7 0 7 4\n",
      " 4 9 5 3 4 5 3 8 5 0 9 6 5 4 7 8 8 5 3 9 2 3 9 1 8 5 2 0 9 8 1 1 2 5 5 9 8\n",
      " 6]\n"
     ]
    },
    {
     "data": {
      "text/plain": [
       "DeviceArray(0.86800003, dtype=float32)"
      ]
     },
     "execution_count": 67,
     "metadata": {},
     "output_type": "execute_result"
    }
   ],
   "source": [
    "val_predictions = make_predictions(X_val, W1, b1, W2, b2)\n",
    "get_accuracy(val_predictions, Y_val)"
   ]
  },
  {
   "cell_type": "markdown",
   "metadata": {},
   "source": [
    "No loss in accuracy during training or inferencing compared to all other methods."
   ]
  },
  {
   "cell_type": "code",
   "execution_count": 71,
   "metadata": {},
   "outputs": [],
   "source": [
    "large_X_input = X_val.copy()\n",
    "\n",
    "for i in range(6):\n",
    "    large_X_input = jnp.concatenate((large_X_input, large_X_input), axis=0)"
   ]
  },
  {
   "cell_type": "code",
   "execution_count": 72,
   "metadata": {},
   "outputs": [
    {
     "data": {
      "text/plain": [
       "(64000, 784)"
      ]
     },
     "execution_count": 72,
     "metadata": {},
     "output_type": "execute_result"
    }
   ],
   "source": [
    "large_X_input.shape"
   ]
  },
  {
   "cell_type": "code",
   "execution_count": 83,
   "metadata": {},
   "outputs": [
    {
     "name": "stdout",
     "output_type": "stream",
     "text": [
      "1.36 ms ± 1.22 µs per loop (mean ± std. dev. of 7 runs, 1,000 loops each)\n"
     ]
    }
   ],
   "source": [
    "%timeit batched_forward(W1, b1, W2, b2, large_X_input)"
   ]
  },
  {
   "cell_type": "markdown",
   "metadata": {},
   "source": [
    "### Conclusion\n",
    "\n",
    "Jit enables an easy way to optimize your code. The training was significantly faster than all other methods, including the explicit jitted derivatives version (7.1s vs 1.3s). The standard autograd training was slower than the standard explicit derivatives version (14.7s vs 7.1s). So it was surprising to see how autograd combined with jit is faster than any other method. This provides an even bigger reason to use all Jax's tools together (jit, autograd and vmap)."
   ]
  }
 ],
 "metadata": {
  "kernelspec": {
   "display_name": "Python 3.9.13 ('flax')",
   "language": "python",
   "name": "python3"
  },
  "language_info": {
   "codemirror_mode": {
    "name": "ipython",
    "version": 3
   },
   "file_extension": ".py",
   "mimetype": "text/x-python",
   "name": "python",
   "nbconvert_exporter": "python",
   "pygments_lexer": "ipython3",
   "version": "3.9.13"
  },
  "orig_nbformat": 4,
  "vscode": {
   "interpreter": {
    "hash": "0a8d1f2580cdfde5c5829808ec6fccc81a351d243fb8b1925f7928e44ccf575b"
   }
  }
 },
 "nbformat": 4,
 "nbformat_minor": 2
}
