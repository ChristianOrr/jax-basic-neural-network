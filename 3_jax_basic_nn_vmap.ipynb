{
 "cells": [
  {
   "cell_type": "markdown",
   "metadata": {},
   "source": [
    "# Simple Jax (vmap) NN from Scratch\n",
    "\n",
    "This notebook demonstrates vmap usage applied to the jax_basic_nn notebook. vmap conveniently converts functions designed to process a single example to process a batch without changing any of the original functions code. The original functions were already vectorized before, so it wasnt necessary in this case, but it can be powerful when working with more complicated networks.\n"
   ]
  },
  {
   "cell_type": "code",
   "execution_count": 171,
   "metadata": {},
   "outputs": [],
   "source": [
    "import os\n",
    "import numpy as np\n",
    "import pandas as pd\n",
    "import matplotlib.pyplot as plt\n",
    "import jax.numpy as jnp\n",
    "from jax import random\n",
    "from jax import nn\n",
    "from jax import vmap\n",
    "from keras.utils import data_utils"
   ]
  },
  {
   "cell_type": "markdown",
   "metadata": {},
   "source": [
    "Check if the training data exists. If not, automatically download it."
   ]
  },
  {
   "cell_type": "code",
   "execution_count": 172,
   "metadata": {},
   "outputs": [],
   "source": [
    "data_dir = os.path.abspath(\"./digit-recognizer\")\n",
    "os.makedirs(data_dir, exist_ok=True)\n",
    "train_data_path = f\"{data_dir}/train.csv\"\n",
    "train_data_url = \"https://huggingface.co/datasets/ChristianOrr/mnist/resolve/main/train.csv\"\n",
    "\n",
    "if not os.path.exists(train_data_path):\n",
    "    print(\"Downloading training data...\")\n",
    "    data_utils.get_file(train_data_path, train_data_url)\n",
    "\n",
    "data_df = pd.read_csv('./digit-recognizer/train.csv')"
   ]
  },
  {
   "cell_type": "code",
   "execution_count": 173,
   "metadata": {},
   "outputs": [],
   "source": [
    "np.random.shuffle(data_df.values)\n",
    "m, n = data_df.shape\n",
    "Y = jnp.array(data_df[\"label\"])\n",
    "data_df = data_df.drop(\"label\", axis=1)\n",
    "X = jnp.array(data_df)\n",
    "\n",
    "\n",
    "X_train = X[1000:]\n",
    "X_train = X_train / 255.\n",
    "Y_train = Y[1000:]\n",
    "\n",
    "X_val = X[:1000]\n",
    "X_val = X_val / 255.\n",
    "Y_val = Y[:1000]"
   ]
  },
  {
   "cell_type": "markdown",
   "metadata": {},
   "source": [
    "Our NN will have a simple two-layer architecture. Input layer $A^{[0]}$ will have 784 units corresponding to the 784 pixels in each 28x28 input image. A hidden layer $A^{[1]}$ will have 10 units with ReLU activation, and finally our output layer $A^{[2]}$ will have 10 units corresponding to the ten digit classes with softmax activation.\n",
    "\n",
    "\n",
    "**Forward propagation**\n",
    "\n",
    "Input Layer:    \n",
    "$$X = A^{[0]}$$\n",
    "\n",
    "First Hidden Layer:\n",
    "$$Z^{[1]} = W^{[1]} X + b^{[1]}$$\n",
    "$$A^{[1]} = g_{\\text{ReLU}}(Z^{[1]})$$\n",
    "\n",
    "Second Hidden Layer:\n",
    "$$Z^{[2]} = W^{[2]} A^{[1]} + b^{[2]}$$\n",
    "$$A^{[2]} = g_{\\text{softmax}}(Z^{[2]})$$\n",
    "\n",
    "**Backward propagation**\n",
    "\n",
    "Loss Function (Categorical Cross Entropy):  \n",
    "$$L(y, a^{[2]}) = -\\sum_{j = 1}^{C}y_{j} \\cdot\\ log(a^{[2]})$$ \n",
    "C is the number of classes, which is 10 in this case. \n",
    "\n",
    "Cost Function:\n",
    "$$J(W, b) = -\\frac{1}{m} \\sum_{i = 1}^{m} L(y^{i}, a^{[2](i)})$$ \n",
    "$$J(W, b) = -\\frac{1}{m} \\sum_{i = 1}^{m} \\sum_{j = 1}^{C}y^{i}_{j}\\cdot\\log(a^{[2](i)})$$ \n",
    "The cost function is the average of the losses over all the samples.\n",
    "\n",
    "Derivatives:    \n",
    "For detailed derivation of $dZ^{[2]}$ see: [derivation-of-categorical-cross-entropy-loss](https://towardsdatascience.com/derivative-of-the-softmax-function-and-the-categorical-cross-entropy-loss-ffceefc081d1)    \n",
    "For more details on the rest of the derivations see: [backpropagation-intuition](https://www.youtube.com/watch?v=yXcQ4B-YSjQ&list=PLkDaE6sCZn6Ec-XTbcX1uRg2_u4xOEky0&index=34&ab_channel=DeepLearningAI)\n",
    "$$dZ^{[2]} = A^{[2]} - Y$$\n",
    "$$dW^{[2]} = \\frac{1}{m} dZ^{[2]} A^{[1]T}$$\n",
    "$$dB^{[2]} = \\frac{1}{m} \\sum_{i = 1}^{m} {dZ^{[2]}}$$\n",
    "$$dZ^{[1]} = W^{[2]T} dZ^{[2]} .* g^{[1]\\prime} (z^{[1]})$$\n",
    "$$dW^{[1]} = \\frac{1}{m} dZ^{[1]} A^{[0]T}$$\n",
    "$$dB^{[1]} = \\frac{1}{m} \\sum_{i = 1}^{m} {dZ^{[1]}}$$\n",
    "\n",
    "**Gradient Descent (parameter updates)**\n",
    "\n",
    "$$W^{[2]} := W^{[2]} - \\alpha dW^{[2]}$$\n",
    "$$b^{[2]} := b^{[2]} - \\alpha db^{[2]}$$\n",
    "$$W^{[1]} := W^{[1]} - \\alpha dW^{[1]}$$\n",
    "$$b^{[1]} := b^{[1]} - \\alpha db^{[1]}$$\n",
    "\n",
    "**Vars and shapes**\n",
    "\n",
    "Forward prop\n",
    "\n",
    "- $A^{[0]} = X$: 784 x m\n",
    "- $Z^{[1]} \\sim A^{[1]}$: 10 x m\n",
    "- $W^{[1]}$: 10 x 784 (as $W^{[1]} A^{[0]} \\sim Z^{[1]}$)\n",
    "- $B^{[1]}$: 10 x 1\n",
    "- $Z^{[2]} \\sim A^{[2]}$: 10 x m\n",
    "- $W^{[1]}$: 10 x 10 (as $W^{[2]} A^{[1]} \\sim Z^{[2]}$)\n",
    "- $B^{[2]}$: 10 x 1\n",
    "\n",
    "Backprop\n",
    "\n",
    "- $dZ^{[2]}$: 10 x m ($~A^{[2]}$)\n",
    "- $dW^{[2]}$: 10 x 10\n",
    "- $dB^{[2]}$: 10 x 1\n",
    "- $dZ^{[1]}$: 10 x m ($~A^{[1]}$)\n",
    "- $dW^{[1]}$: 10 x 10\n",
    "- $dB^{[1]}$: 10 x 1"
   ]
  },
  {
   "cell_type": "code",
   "execution_count": 174,
   "metadata": {},
   "outputs": [],
   "source": [
    "def init_params():\n",
    "    key = random.PRNGKey(42)\n",
    "    key, *subkey = random.split(key, 5)\n",
    "    W1 = random.uniform(subkey[0], (10, 784), jnp.float32, -0.5, 0.5)\n",
    "    b1 = random.uniform(subkey[1], (10,), jnp.float32, -0.5, 0.5)\n",
    "    W2 = random.uniform(subkey[2], (10, 10), jnp.float32, -0.5, 0.5)\n",
    "    b2 = random.uniform(subkey[3], (10,), jnp.float32, -0.5, 0.5)\n",
    "    return W1, b1, W2, b2\n",
    "\n",
    "def ReLU(Z):\n",
    "    return jnp.maximum(Z, 0)\n",
    "\n",
    "def softmax(Z):\n",
    "    A = jnp.exp(Z) / sum(jnp.exp(Z))\n",
    "    return A   \n",
    "\n",
    "def forward(W1, b1, W2, b2, x):\n",
    "    # single example forward pass\n",
    "    z1 = W1.dot(x) + b1\n",
    "    a1 = ReLU(z1)\n",
    "    z2 = W2.dot(a1) + b2\n",
    "    a2 = softmax(z2)\n",
    "    return z1, a1, z2, a2\n"
   ]
  },
  {
   "cell_type": "markdown",
   "metadata": {},
   "source": [
    "The forward pass on a single example:"
   ]
  },
  {
   "cell_type": "code",
   "execution_count": 175,
   "metadata": {},
   "outputs": [
    {
     "name": "stdout",
     "output_type": "stream",
     "text": [
      "Predictions: [0.00286982 0.08058164 0.04906153 0.2134403  0.02629469 0.01044182\n",
      " 0.07386433 0.11316939 0.25112593 0.17915054]\n",
      "Predictions shape: (10,)\n"
     ]
    }
   ],
   "source": [
    "single_example = X_train[0]\n",
    "W1, b1, W2, b2 = init_params()\n",
    "_, _, _, preds = forward(W1, b1, W2, b2, single_example)\n",
    "print(f\"Predictions: {preds}\")\n",
    "print(f\"Predictions shape: {preds.shape}\")"
   ]
  },
  {
   "cell_type": "markdown",
   "metadata": {},
   "source": [
    "The forward pass function is then converted to a vectorized function with the batch dimension added to index 0."
   ]
  },
  {
   "cell_type": "code",
   "execution_count": 176,
   "metadata": {},
   "outputs": [],
   "source": [
    "batched_forward = vmap(forward, in_axes=(None, None, None, None, 0))"
   ]
  },
  {
   "cell_type": "markdown",
   "metadata": {},
   "source": [
    "vmap forward pass function inferencing a batch of data:"
   ]
  },
  {
   "cell_type": "code",
   "execution_count": 177,
   "metadata": {},
   "outputs": [
    {
     "name": "stdout",
     "output_type": "stream",
     "text": [
      "Predictions: [[0.00286505 0.08054692 0.04903826 0.21344669 0.02629639 0.01042962\n",
      "  0.07381347 0.11320313 0.25126523 0.1790952 ]\n",
      " [0.01434074 0.11218907 0.02713755 0.11450128 0.01197401 0.06198742\n",
      "  0.3319997  0.00577655 0.12728146 0.1928122 ]\n",
      " [0.00866232 0.16782624 0.06137933 0.12333167 0.00613823 0.00790481\n",
      "  0.01294925 0.1965233  0.01287689 0.402408  ]\n",
      " [0.00224681 0.13298076 0.02585589 0.13354686 0.00634344 0.01669846\n",
      "  0.29361272 0.0054402  0.11147139 0.27180347]]\n",
      "Predictions shape: (4, 10)\n"
     ]
    }
   ],
   "source": [
    "batch_example = X_train[0:4]\n",
    "W1, b1, W2, b2 = init_params()\n",
    "_, _, _, preds = batched_forward(W1, b1, W2, b2, batch_example)\n",
    "print(f\"Predictions: {preds}\")\n",
    "print(f\"Predictions shape: {preds.shape}\")"
   ]
  },
  {
   "cell_type": "markdown",
   "metadata": {},
   "source": [
    "Backward prop function has been altered to accomodate the batch being on axis 0"
   ]
  },
  {
   "cell_type": "code",
   "execution_count": 178,
   "metadata": {},
   "outputs": [],
   "source": [
    "def ReLU_deriv(Z):\n",
    "    return Z > 0\n",
    "\n",
    "def one_hot(x, k, dtype=jnp.float32):\n",
    "    \"\"\"Create a one-hot encoding of x of size k.\"\"\"\n",
    "    return jnp.array(x[:, None] == jnp.arange(k), dtype)\n",
    "\n",
    "def backward_prop(Z1, A1, Z2, A2, W1, W2, X, Y):\n",
    "    one_hot_Y = one_hot(Y, 10)\n",
    "    dZ2 = A2 - one_hot_Y\n",
    "    dW2 = 1 / m * dZ2.T.dot(A1)\n",
    "    db2 = 1 / m * jnp.sum(dZ2)\n",
    "    dZ1 = W2.dot(dZ2.T).T * ReLU_deriv(Z1)\n",
    "    dW1 = 1 / m * dZ1.T.dot(X)\n",
    "    db1 = 1 / m * jnp.sum(dZ1)\n",
    "    return dW1, db1, dW2, db2\n",
    "\n",
    "def update_params(W1, b1, W2, b2, dW1, db1, dW2, db2, alpha):\n",
    "    W1 = W1 - alpha * dW1\n",
    "    b1 = b1 - alpha * db1    \n",
    "    W2 = W2 - alpha * dW2  \n",
    "    b2 = b2 - alpha * db2    \n",
    "    return W1, b1, W2, b2\n"
   ]
  },
  {
   "cell_type": "code",
   "execution_count": 179,
   "metadata": {},
   "outputs": [],
   "source": [
    "def get_predictions(A2):\n",
    "    return jnp.argmax(A2, axis=1)\n",
    "\n",
    "def get_accuracy(predictions, Y):\n",
    "    print(predictions, Y)\n",
    "    return jnp.mean(predictions == Y)\n",
    "\n",
    "def gradient_descent(X, Y, alpha, iterations):\n",
    "    W1, b1, W2, b2 = init_params()\n",
    "    for i in range(iterations):\n",
    "        Z1, A1, Z2, A2 = batched_forward(W1, b1, W2, b2, X)\n",
    "        dW1, db1, dW2, db2 = backward_prop(Z1, A1, Z2, A2, W1, W2, X, Y)\n",
    "        W1, b1, W2, b2 = update_params(W1, b1, W2, b2, dW1, db1, dW2, db2, alpha)\n",
    "        if i % 10 == 0:\n",
    "            print(\"Iteration: \", i)\n",
    "            predictions = get_predictions(A2)\n",
    "            print(get_accuracy(predictions, Y))\n",
    "    return W1, b1, W2, b2"
   ]
  },
  {
   "cell_type": "code",
   "execution_count": 180,
   "metadata": {},
   "outputs": [
    {
     "name": "stdout",
     "output_type": "stream",
     "text": [
      "Iteration:  0\n",
      "[8 6 9 ... 6 6 3] [7 0 2 ... 8 8 1]\n",
      "0.10958536\n",
      "Iteration:  10\n",
      "[7 2 7 ... 8 2 3] [7 0 2 ... 8 8 1]\n",
      "0.22117072\n",
      "Iteration:  20\n",
      "[7 0 7 ... 8 2 5] [7 0 2 ... 8 8 1]\n",
      "0.30014634\n",
      "Iteration:  30\n",
      "[7 0 9 ... 8 2 5] [7 0 2 ... 8 8 1]\n",
      "0.373\n",
      "Iteration:  40\n",
      "[7 0 9 ... 8 2 1] [7 0 2 ... 8 8 1]\n",
      "0.43426827\n",
      "Iteration:  50\n",
      "[7 0 9 ... 2 2 1] [7 0 2 ... 8 8 1]\n",
      "0.47087803\n",
      "Iteration:  60\n",
      "[7 0 9 ... 2 2 1] [7 0 2 ... 8 8 1]\n",
      "0.49802437\n",
      "Iteration:  70\n",
      "[7 0 9 ... 2 2 1] [7 0 2 ... 8 8 1]\n",
      "0.52034146\n",
      "Iteration:  80\n",
      "[7 0 9 ... 2 2 1] [7 0 2 ... 8 8 1]\n",
      "0.53907317\n",
      "Iteration:  90\n",
      "[7 0 6 ... 8 2 1] [7 0 2 ... 8 8 1]\n",
      "0.557878\n",
      "Iteration:  100\n",
      "[7 0 6 ... 8 8 1] [7 0 2 ... 8 8 1]\n",
      "0.5761463\n",
      "Iteration:  110\n",
      "[7 0 6 ... 8 8 1] [7 0 2 ... 8 8 1]\n",
      "0.5935854\n",
      "Iteration:  120\n",
      "[7 0 6 ... 8 8 1] [7 0 2 ... 8 8 1]\n",
      "0.61317074\n",
      "Iteration:  130\n",
      "[7 0 6 ... 8 8 1] [7 0 2 ... 8 8 1]\n",
      "0.63314635\n",
      "Iteration:  140\n",
      "[7 0 6 ... 8 8 1] [7 0 2 ... 8 8 1]\n",
      "0.65002435\n",
      "Iteration:  150\n",
      "[7 0 6 ... 8 8 1] [7 0 2 ... 8 8 1]\n",
      "0.6670244\n",
      "Iteration:  160\n",
      "[7 0 6 ... 8 8 1] [7 0 2 ... 8 8 1]\n",
      "0.68060976\n",
      "Iteration:  170\n",
      "[7 0 9 ... 8 8 1] [7 0 2 ... 8 8 1]\n",
      "0.692878\n",
      "Iteration:  180\n",
      "[7 0 9 ... 8 8 1] [7 0 2 ... 8 8 1]\n",
      "0.7045122\n",
      "Iteration:  190\n",
      "[7 0 9 ... 8 8 1] [7 0 2 ... 8 8 1]\n",
      "0.71502435\n",
      "Iteration:  200\n",
      "[7 0 9 ... 8 8 1] [7 0 2 ... 8 8 1]\n",
      "0.72460973\n",
      "Iteration:  210\n",
      "[7 0 9 ... 8 8 1] [7 0 2 ... 8 8 1]\n",
      "0.73336583\n",
      "Iteration:  220\n",
      "[7 0 9 ... 8 8 1] [7 0 2 ... 8 8 1]\n",
      "0.7408292\n",
      "Iteration:  230\n",
      "[7 0 9 ... 8 8 1] [7 0 2 ... 8 8 1]\n",
      "0.74799997\n",
      "Iteration:  240\n",
      "[7 0 9 ... 8 8 1] [7 0 2 ... 8 8 1]\n",
      "0.75504875\n",
      "Iteration:  250\n",
      "[7 0 9 ... 8 8 1] [7 0 2 ... 8 8 1]\n",
      "0.7618049\n",
      "Iteration:  260\n",
      "[7 0 9 ... 8 8 1] [7 0 2 ... 8 8 1]\n",
      "0.7682439\n",
      "Iteration:  270\n",
      "[7 0 9 ... 8 8 1] [7 0 2 ... 8 8 1]\n",
      "0.77239025\n",
      "Iteration:  280\n",
      "[7 0 9 ... 8 8 1] [7 0 2 ... 8 8 1]\n",
      "0.77763414\n",
      "Iteration:  290\n",
      "[7 0 9 ... 8 8 1] [7 0 2 ... 8 8 1]\n",
      "0.7816829\n",
      "Iteration:  300\n",
      "[7 0 9 ... 8 8 1] [7 0 2 ... 8 8 1]\n",
      "0.7858536\n",
      "Iteration:  310\n",
      "[7 0 9 ... 8 8 1] [7 0 2 ... 8 8 1]\n",
      "0.7908536\n",
      "Iteration:  320\n",
      "[7 0 9 ... 8 8 1] [7 0 2 ... 8 8 1]\n",
      "0.79499996\n",
      "Iteration:  330\n",
      "[7 0 9 ... 8 8 1] [7 0 2 ... 8 8 1]\n",
      "0.7987317\n",
      "Iteration:  340\n",
      "[7 0 9 ... 8 8 1] [7 0 2 ... 8 8 1]\n",
      "0.8019756\n",
      "Iteration:  350\n",
      "[7 0 9 ... 8 8 1] [7 0 2 ... 8 8 1]\n",
      "0.80507314\n",
      "Iteration:  360\n",
      "[7 0 9 ... 8 8 1] [7 0 2 ... 8 8 1]\n",
      "0.80809754\n",
      "Iteration:  370\n",
      "[7 0 9 ... 8 8 1] [7 0 2 ... 8 8 1]\n",
      "0.8109268\n",
      "Iteration:  380\n",
      "[7 0 9 ... 8 8 1] [7 0 2 ... 8 8 1]\n",
      "0.81348777\n",
      "Iteration:  390\n",
      "[7 0 9 ... 8 8 1] [7 0 2 ... 8 8 1]\n",
      "0.81651217\n",
      "Iteration:  400\n",
      "[7 0 9 ... 8 8 1] [7 0 2 ... 8 8 1]\n",
      "0.8184634\n",
      "Iteration:  410\n",
      "[7 0 9 ... 8 8 1] [7 0 2 ... 8 8 1]\n",
      "0.8209756\n",
      "Iteration:  420\n",
      "[7 0 9 ... 8 8 1] [7 0 2 ... 8 8 1]\n",
      "0.8236097\n",
      "Iteration:  430\n",
      "[7 0 9 ... 8 8 1] [7 0 2 ... 8 8 1]\n",
      "0.8256341\n",
      "Iteration:  440\n",
      "[7 0 9 ... 8 8 1] [7 0 2 ... 8 8 1]\n",
      "0.82765853\n",
      "Iteration:  450\n",
      "[7 0 9 ... 8 8 1] [7 0 2 ... 8 8 1]\n",
      "0.8291707\n",
      "Iteration:  460\n",
      "[7 0 9 ... 8 8 1] [7 0 2 ... 8 8 1]\n",
      "0.8309268\n",
      "Iteration:  470\n",
      "[7 0 9 ... 8 8 1] [7 0 2 ... 8 8 1]\n",
      "0.8327073\n",
      "Iteration:  480\n",
      "[7 0 9 ... 8 8 1] [7 0 2 ... 8 8 1]\n",
      "0.8342195\n",
      "Iteration:  490\n",
      "[7 0 9 ... 8 8 1] [7 0 2 ... 8 8 1]\n",
      "0.8359756\n"
     ]
    }
   ],
   "source": [
    "W1, b1, W2, b2 = gradient_descent(X_train, Y_train, 0.10, 500)"
   ]
  },
  {
   "cell_type": "code",
   "execution_count": 181,
   "metadata": {},
   "outputs": [],
   "source": [
    "def make_predictions(X, W1, b1, W2, b2):\n",
    "    _, _, _, A2 = batched_forward(W1, b1, W2, b2, X)\n",
    "    predictions = get_predictions(A2)\n",
    "    return predictions\n",
    "\n",
    "def test_prediction(index, W1, b1, W2, b2):\n",
    "    current_image = X_train[None, index]\n",
    "    prediction = make_predictions(X_train[None, index], W1, b1, W2, b2)\n",
    "    label = Y_train[index]\n",
    "    print(\"Prediction: \", prediction)\n",
    "    print(\"Label: \", label)\n",
    "    \n",
    "    current_image = current_image.reshape((28, 28)) * 255\n",
    "    plt.gray()\n",
    "    plt.imshow(current_image, interpolation='nearest')\n",
    "    plt.show()"
   ]
  },
  {
   "cell_type": "code",
   "execution_count": 182,
   "metadata": {},
   "outputs": [
    {
     "name": "stdout",
     "output_type": "stream",
     "text": [
      "Prediction:  [7]\n",
      "Label:  7\n"
     ]
    },
    {
     "data": {
      "image/png": "[encoded data removed]",
      "text/plain": [
       "<Figure size 432x288 with 1 Axes>"
      ]
     },
     "metadata": {
      "needs_background": "light"
     },
     "output_type": "display_data"
    },
    {
     "name": "stdout",
     "output_type": "stream",
     "text": [
      "Prediction:  [0]\n",
      "Label:  0\n"
     ]
    },
    {
     "data": {
      "image/png": "[encoded data removed]",
      "text/plain": [
       "<Figure size 432x288 with 1 Axes>"
      ]
     },
     "metadata": {
      "needs_background": "light"
     },
     "output_type": "display_data"
    },
    {
     "name": "stdout",
     "output_type": "stream",
     "text": [
      "Prediction:  [9]\n",
      "Label:  2\n"
     ]
    },
    {
     "data": {
      "image/png": "[encoded data removed]",
      "text/plain": [
       "<Figure size 432x288 with 1 Axes>"
      ]
     },
     "metadata": {
      "needs_background": "light"
     },
     "output_type": "display_data"
    },
    {
     "name": "stdout",
     "output_type": "stream",
     "text": [
      "Prediction:  [9]\n",
      "Label:  4\n"
     ]
    },
    {
     "data": {
      "image/png": "[encoded data removed]",
      "text/plain": [
       "<Figure size 432x288 with 1 Axes>"
      ]
     },
     "metadata": {
      "needs_background": "light"
     },
     "output_type": "display_data"
    }
   ],
   "source": [
    "test_prediction(0, W1, b1, W2, b2)\n",
    "test_prediction(1, W1, b1, W2, b2)\n",
    "test_prediction(2, W1, b1, W2, b2)\n",
    "test_prediction(3, W1, b1, W2, b2)"
   ]
  },
  {
   "cell_type": "code",
   "execution_count": 183,
   "metadata": {},
   "outputs": [
    {
     "name": "stdout",
     "output_type": "stream",
     "text": [
      "[7 3 4 4 6 9 4 2 0 0 2 5 5 8 3 8 1 5 1 2 9 8 4 9 4 4 5 3 4 1 9 6 8 0 1 5 0\n",
      " 3 9 1 3 5 0 4 0 3 8 2 2 1 6 9 7 6 8 1 6 9 6 8 3 1 0 1 7 5 7 7 1 6 3 1 2 0\n",
      " 3 2 5 3 0 2 0 2 5 1 8 1 8 4 0 0 3 3 8 1 6 1 6 9 3 0 5 9 9 1 1 0 9 1 9 9 3\n",
      " 1 5 1 5 7 8 1 6 9 5 1 5 2 2 4 0 3 6 6 2 4 9 6 2 2 4 2 9 8 0 4 3 2 0 6 0 7\n",
      " 8 1 0 1 6 1 6 4 1 2 4 6 7 1 7 1 8 4 9 2 2 4 5 5 8 9 9 3 0 5 4 6 2 5 4 2 2\n",
      " 1 0 7 4 8 4 9 9 4 5 4 1 3 9 2 8 2 8 2 7 1 0 4 4 2 0 4 0 9 5 8 8 3 4 7 7 0\n",
      " 1 3 8 4 7 6 6 8 5 4 2 8 2 0 7 7 4 5 0 3 1 8 3 6 5 7 7 4 1 6 8 1 1 9 7 1 9\n",
      " 0 7 4 7 9 9 1 8 9 1 8 2 7 6 9 2 0 3 0 7 9 7 5 7 4 2 1 8 3 3 0 3 3 9 5 7 1\n",
      " 1 9 9 9 8 9 7 8 2 7 8 3 3 7 7 7 7 5 6 6 0 0 5 5 2 2 8 9 4 5 7 9 2 9 9 1 1\n",
      " 7 8 7 4 3 9 9 2 3 9 4 8 8 0 0 2 4 3 1 3 3 9 5 6 8 4 7 4 7 7 3 0 0 3 8 5 9\n",
      " 0 9 4 7 4 8 3 2 0 6 3 2 1 6 1 0 9 4 7 3 6 4 1 3 7 7 4 4 3 4 5 3 8 0 6 1 8\n",
      " 7 1 1 0 1 4 7 7 0 9 6 9 9 0 1 9 8 6 1 7 0 1 6 1 9 2 7 5 6 4 6 3 6 0 6 2 0\n",
      " 1 9 3 3 7 1 7 8 7 8 0 8 8 1 6 6 2 9 4 2 1 5 3 8 7 3 9 7 6 4 8 1 1 4 1 2 9\n",
      " 0 2 7 6 1 1 6 6 5 4 1 3 1 0 5 9 8 7 8 9 2 0 4 8 4 6 5 7 6 5 3 5 5 4 2 8 5\n",
      " 0 0 9 6 1 1 1 4 9 9 5 1 2 1 1 7 8 4 6 9 3 7 1 5 9 1 2 6 1 3 3 5 8 3 3 5 3\n",
      " 0 8 9 7 1 7 8 8 9 8 1 4 6 7 2 8 8 3 5 4 1 1 9 3 5 2 5 6 7 6 2 8 2 6 6 7 6\n",
      " 6 6 4 3 8 5 1 5 7 6 4 4 7 7 0 0 6 1 7 0 2 0 7 1 7 2 7 1 9 2 0 2 7 7 1 3 0\n",
      " 5 2 3 0 1 7 3 6 4 8 4 5 4 9 3 3 0 2 1 8 4 0 9 1 6 0 6 2 3 7 1 7 7 2 4 5 7\n",
      " 6 8 9 8 4 9 6 2 9 2 5 1 8 0 1 1 3 1 5 0 4 0 7 4 4 0 8 1 5 0 7 7 4 5 3 8 9\n",
      " 3 8 6 0 8 7 4 0 7 2 2 8 3 7 5 5 2 2 7 2 1 1 0 7 3 3 1 3 1 6 0 5 9 1 3 7 2\n",
      " 0 0 7 1 2 1 0 6 8 5 6 6 9 1 7 2 0 0 0 6 6 9 7 8 5 1 0 8 5 9 2 6 1 5 8 8 1\n",
      " 7 9 2 7 1 2 4 5 8 5 5 9 3 6 3 4 6 6 8 7 1 4 0 1 8 4 6 6 2 7 8 6 1 6 8 8 2\n",
      " 2 4 3 5 0 7 9 3 6 2 7 7 0 6 3 5 7 6 4 9 2 2 8 7 3 3 3 9 5 6 9 7 1 0 8 9 4\n",
      " 4 4 0 5 8 0 5 5 8 4 5 8 0 9 6 0 1 9 0 6 2 6 9 6 3 8 7 1 7 2 9 5 3 3 5 2 1\n",
      " 2 0 7 9 3 7 3 6 1 4 9 1 9 9 3 7 6 2 4 2 5 7 2 9 8 0 4 8 7 7 2 0 5 1 4 8 1\n",
      " 3 1 7 7 6 1 5 7 4 5 7 1 0 6 1 4 5 9 0 1 0 3 0 7 2 1 5 3 5 6 9 8 2 2 7 7 5\n",
      " 1 9 6 8 3 6 1 1 2 9 0 1 1 7 9 6 2 6 7 7 0 7 4 0 9 1 9 5 0 5 6 0 9 9 0 9 1\n",
      " 0] [7 3 2 5 6 5 4 2 0 0 2 5 5 8 3 8 1 5 1 2 9 2 4 2 4 4 5 3 4 1 3 6 8 0 1 5 0\n",
      " 3 9 1 3 5 0 4 0 3 8 2 2 8 6 9 7 6 8 1 6 9 6 8 8 1 0 1 7 8 7 9 1 6 3 1 3 0\n",
      " 3 2 5 3 0 3 0 2 5 7 8 1 8 6 0 0 9 3 8 1 2 7 6 9 0 0 5 9 4 1 1 0 3 1 9 9 3\n",
      " 1 5 1 8 7 8 1 6 4 5 1 5 0 2 4 0 3 6 6 2 4 9 6 2 2 4 2 9 8 0 4 3 7 0 6 0 7\n",
      " 8 1 0 9 2 1 5 4 1 2 4 6 7 1 7 1 8 8 5 2 2 4 5 3 8 0 9 0 0 5 4 6 2 5 2 2 2\n",
      " 1 0 7 4 8 6 9 8 4 5 9 1 5 9 3 8 2 5 2 7 1 0 4 4 2 0 4 0 9 3 8 8 3 9 7 7 0\n",
      " 1 3 8 4 9 2 4 2 5 4 2 1 8 0 9 7 4 5 0 3 1 8 3 6 5 7 7 4 9 6 8 1 1 9 7 1 9\n",
      " 0 7 4 4 2 9 1 1 9 1 3 3 7 6 9 2 0 3 0 7 9 7 5 7 4 2 1 8 5 3 0 7 8 9 5 7 1\n",
      " 1 9 5 9 8 8 7 8 2 0 2 3 3 7 7 7 7 5 6 6 0 6 0 5 2 2 2 9 2 5 7 9 2 4 3 1 1\n",
      " 7 8 7 4 3 9 9 8 3 9 4 8 8 5 0 6 4 3 1 3 3 4 5 6 8 4 7 9 7 7 2 0 0 3 8 5 9\n",
      " 0 9 4 7 4 8 3 2 0 6 3 2 1 6 1 0 9 4 9 3 6 4 9 3 7 5 4 4 3 4 5 3 8 0 6 1 8\n",
      " 7 1 1 5 1 4 7 7 0 9 6 9 9 0 1 3 8 6 1 7 0 1 3 1 9 2 7 7 6 4 6 3 1 0 6 2 0\n",
      " 1 7 3 3 7 1 7 8 7 8 0 8 8 1 6 6 2 9 4 2 1 3 3 8 7 3 9 7 2 4 5 1 1 4 1 2 9\n",
      " 0 2 7 6 1 1 4 6 0 4 1 5 1 0 8 9 0 7 8 9 2 0 4 8 4 6 5 7 6 8 3 5 5 9 9 8 5\n",
      " 0 0 9 6 1 1 1 4 9 9 6 8 2 1 1 7 8 6 6 9 1 7 1 5 4 1 2 6 6 3 3 5 8 3 3 6 3\n",
      " 5 2 9 7 1 7 5 8 4 8 1 4 6 7 2 8 8 3 3 4 1 1 9 2 5 2 5 6 2 6 2 5 2 6 6 7 6\n",
      " 6 6 4 3 8 5 1 5 7 6 4 5 7 7 0 0 6 1 7 0 2 0 7 1 7 2 7 6 9 2 0 5 7 7 8 3 0\n",
      " 8 2 3 0 1 7 5 6 4 8 4 5 4 9 3 3 0 2 1 8 4 5 9 1 6 0 6 2 3 7 1 7 8 2 4 5 7\n",
      " 6 8 8 8 4 9 6 8 9 0 5 1 8 0 8 1 3 1 5 0 9 0 7 4 4 0 8 1 3 0 7 7 4 3 2 9 9\n",
      " 3 3 6 0 5 9 9 0 7 6 2 8 3 7 5 5 2 7 7 2 7 8 0 7 3 3 1 3 1 6 0 5 9 1 3 7 2\n",
      " 0 0 7 1 2 1 0 6 8 3 6 6 9 1 7 2 0 0 0 6 6 9 7 2 5 1 0 8 5 9 2 5 1 5 8 8 1\n",
      " 3 9 2 7 1 2 4 5 2 5 5 9 3 6 3 4 6 2 8 7 1 4 0 1 8 4 6 6 2 7 8 6 1 6 8 8 2\n",
      " 2 4 3 5 0 7 9 3 6 2 7 7 0 6 3 5 7 6 4 4 2 2 8 9 2 9 3 9 5 6 4 5 1 0 8 9 4\n",
      " 4 4 0 9 8 0 8 5 8 4 5 8 0 9 6 0 5 4 0 6 2 6 9 6 3 8 7 1 7 3 2 5 3 3 5 2 1\n",
      " 2 8 7 9 3 7 5 6 1 9 9 1 9 9 5 7 6 6 4 6 5 7 2 9 2 0 4 8 7 7 5 0 5 1 4 8 1\n",
      " 8 1 7 7 6 1 8 7 9 3 7 1 0 6 1 3 5 9 0 1 0 3 0 7 2 1 5 3 5 6 9 8 2 2 7 7 5\n",
      " 1 9 8 8 2 6 1 1 2 9 0 1 1 7 9 6 2 6 7 7 0 2 4 0 9 1 9 5 0 5 6 0 9 9 0 4 1\n",
      " 0]\n"
     ]
    },
    {
     "data": {
      "text/plain": [
       "DeviceArray(0.832, dtype=float32)"
      ]
     },
     "execution_count": 183,
     "metadata": {},
     "output_type": "execute_result"
    }
   ],
   "source": [
    "val_predictions = make_predictions(X_val, W1, b1, W2, b2)\n",
    "get_accuracy(val_predictions, Y_val)"
   ]
  },
  {
   "cell_type": "markdown",
   "metadata": {},
   "source": [
    "Accuracy is almost identical to the numpy implementation. "
   ]
  },
  {
   "cell_type": "markdown",
   "metadata": {},
   "source": [
    "### Conclusion\n",
    "\n",
    "vmap offers a powerful option for turning single example functions into batched functions without having to redo the functions from scratch."
   ]
  }
 ],
 "metadata": {
  "kernelspec": {
   "display_name": "Python 3.9.13 ('flax')",
   "language": "python",
   "name": "python3"
  },
  "language_info": {
   "codemirror_mode": {
    "name": "ipython",
    "version": 3
   },
   "file_extension": ".py",
   "mimetype": "text/x-python",
   "name": "python",
   "nbconvert_exporter": "python",
   "pygments_lexer": "ipython3",
   "version": "3.9.13"
  },
  "orig_nbformat": 4,
  "vscode": {
   "interpreter": {
    "hash": "0a8d1f2580cdfde5c5829808ec6fccc81a351d243fb8b1925f7928e44ccf575b"
   }
  }
 },
 "nbformat": 4,
 "nbformat_minor": 2
}
