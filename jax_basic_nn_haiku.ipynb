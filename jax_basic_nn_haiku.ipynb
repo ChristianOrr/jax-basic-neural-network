{
 "cells": [
  {
   "cell_type": "markdown",
   "metadata": {},
   "source": [
    "# Simple Jax (haiku) NN from Scratch\n",
    "\n",
    "Haiku is a deep learning library designed for Jax. It provides a set of tools that make defining models and handling initialization and paramater updates much easier. In this notebook we show how to use Haiku to train a simple neural network.\n"
   ]
  },
  {
   "cell_type": "code",
   "execution_count": 11,
   "metadata": {},
   "outputs": [],
   "source": [
    "import numpy as np\n",
    "import pandas as pd\n",
    "import matplotlib.pyplot as plt\n",
    "import jax.numpy as jnp\n",
    "import haiku as hk\n",
    "import jax\n",
    "from jax import random\n",
    "from jax import nn\n",
    "from jax import vmap\n",
    "from jax import grad"
   ]
  },
  {
   "cell_type": "code",
   "execution_count": 2,
   "metadata": {},
   "outputs": [],
   "source": [
    "data_df = pd.read_csv('./digit-recognizer/train.csv')"
   ]
  },
  {
   "cell_type": "code",
   "execution_count": 3,
   "metadata": {},
   "outputs": [],
   "source": [
    "np.random.shuffle(data_df.values)\n",
    "m, n = data_df.shape\n",
    "Y = jnp.array(data_df[\"label\"])\n",
    "data_df = data_df.drop(\"label\", axis=1)\n",
    "X = jnp.array(data_df)\n",
    "\n",
    "\n",
    "X_train = X[1000:]\n",
    "X_train = X_train / 255.\n",
    "Y_train = Y[1000:]\n",
    "\n",
    "X_val = X[:1000]\n",
    "X_val = X_val / 255.\n",
    "Y_val = Y[:1000]"
   ]
  },
  {
   "cell_type": "markdown",
   "metadata": {},
   "source": [
    "Our NN will have a simple two-layer architecture. Input layer $A^{[0]}$ will have 784 units corresponding to the 784 pixels in each 28x28 input image. A hidden layer $A^{[1]}$ will have 10 units with ReLU activation, and finally our output layer $A^{[2]}$ will have 10 units corresponding to the ten digit classes with softmax activation.\n",
    "\n",
    "\n",
    "**Forward propagation**\n",
    "\n",
    "Input Layer:    \n",
    "$$X = A^{[0]}$$\n",
    "\n",
    "First Hidden Layer:\n",
    "$$Z^{[1]} = W^{[1]} X + b^{[1]}$$\n",
    "$$A^{[1]} = g_{\\text{ReLU}}(Z^{[1]})$$\n",
    "\n",
    "Second Hidden Layer:\n",
    "$$Z^{[2]} = W^{[2]} A^{[1]} + b^{[2]}$$\n",
    "$$A^{[2]} = g_{\\text{softmax}}(Z^{[2]})$$\n",
    "\n",
    "**Backward propagation**\n",
    "\n",
    "Loss Function (Categorical Cross Entropy):  \n",
    "$$L(y, a^{[2]}) = -\\sum_{j = 1}^{C}y_{j} \\cdot\\ log(a^{[2]})$$ \n",
    "C is the number of classes, which is 10 in this case. \n",
    "\n",
    "Cost Function:\n",
    "$$J(W, b) = -\\frac{1}{m} \\sum_{i = 1}^{m} L(y^{i}, a^{[2](i)})$$ \n",
    "$$J(W, b) = -\\frac{1}{m} \\sum_{i = 1}^{m} \\sum_{j = 1}^{C}y^{i}_{j}\\cdot\\log(a^{[2](i)})$$ \n",
    "The cost function is the average of the losses over all the samples.\n",
    "\n",
    "Derivatives:    \n",
    "For detailed derivation of $dZ^{[2]}$ see: [derivation-of-categorical-cross-entropy-loss](https://towardsdatascience.com/derivative-of-the-softmax-function-and-the-categorical-cross-entropy-loss-ffceefc081d1)    \n",
    "For more details on the rest of the derivations see: [backpropagation-intuition](https://www.youtube.com/watch?v=yXcQ4B-YSjQ&list=PLkDaE6sCZn6Ec-XTbcX1uRg2_u4xOEky0&index=34&ab_channel=DeepLearningAI)\n",
    "$$dZ^{[2]} = A^{[2]} - Y$$\n",
    "$$dW^{[2]} = \\frac{1}{m} dZ^{[2]} A^{[1]T}$$\n",
    "$$dB^{[2]} = \\frac{1}{m} \\sum_{i = 1}^{m} {dZ^{[2]}}$$\n",
    "$$dZ^{[1]} = W^{[2]T} dZ^{[2]} .* g^{[1]\\prime} (z^{[1]})$$\n",
    "$$dW^{[1]} = \\frac{1}{m} dZ^{[1]} A^{[0]T}$$\n",
    "$$dB^{[1]} = \\frac{1}{m} \\sum_{i = 1}^{m} {dZ^{[1]}}$$\n",
    "\n",
    "**Gradient Descent (parameter updates)**\n",
    "\n",
    "$$W^{[2]} := W^{[2]} - \\alpha dW^{[2]}$$\n",
    "$$b^{[2]} := b^{[2]} - \\alpha db^{[2]}$$\n",
    "$$W^{[1]} := W^{[1]} - \\alpha dW^{[1]}$$\n",
    "$$b^{[1]} := b^{[1]} - \\alpha db^{[1]}$$\n",
    "\n",
    "**Vars and shapes**\n",
    "\n",
    "Forward prop\n",
    "\n",
    "- $A^{[0]} = X$: 784 x m\n",
    "- $Z^{[1]} \\sim A^{[1]}$: 10 x m\n",
    "- $W^{[1]}$: 10 x 784 (as $W^{[1]} A^{[0]} \\sim Z^{[1]}$)\n",
    "- $B^{[1]}$: 10 x 1\n",
    "- $Z^{[2]} \\sim A^{[2]}$: 10 x m\n",
    "- $W^{[1]}$: 10 x 10 (as $W^{[2]} A^{[1]} \\sim Z^{[2]}$)\n",
    "- $B^{[2]}$: 10 x 1\n",
    "\n",
    "Backprop\n",
    "\n",
    "- $dZ^{[2]}$: 10 x m ($~A^{[2]}$)\n",
    "- $dW^{[2]}$: 10 x 10\n",
    "- $dB^{[2]}$: 10 x 1\n",
    "- $dZ^{[1]}$: 10 x m ($~A^{[1]}$)\n",
    "- $dW^{[1]}$: 10 x 10\n",
    "- $dB^{[1]}$: 10 x 1"
   ]
  },
  {
   "cell_type": "markdown",
   "metadata": {},
   "source": [
    "The layers and activation functions can now be defined using Haiku's functions. No need to explicitly specify the weights and biases of each layer."
   ]
  },
  {
   "cell_type": "code",
   "execution_count": 100,
   "metadata": {},
   "outputs": [],
   "source": [
    "def _forward_fn(x):\n",
    "    mlp = hk.Sequential([\n",
    "        hk.Linear(10), jax.nn.relu,\n",
    "        hk.Linear(10), jax.nn.softmax\n",
    "    ])\n",
    "    return mlp(x)"
   ]
  },
  {
   "cell_type": "markdown",
   "metadata": {},
   "source": [
    "The Haiku model above is an object, not a pure function, which is required for Jax's. So the model is first transformed using the hk.transform method."
   ]
  },
  {
   "cell_type": "code",
   "execution_count": 101,
   "metadata": {},
   "outputs": [],
   "source": [
    "forward_fn = hk.transform(_forward_fn)"
   ]
  },
  {
   "cell_type": "markdown",
   "metadata": {},
   "source": [
    "The models layers shown below, are the same as used in previous notebooks."
   ]
  },
  {
   "cell_type": "code",
   "execution_count": 102,
   "metadata": {},
   "outputs": [
    {
     "name": "stdout",
     "output_type": "stream",
     "text": [
      "linear\n",
      "Weights : (784, 10), Biases : (10,)\n",
      "\n",
      "linear_1\n",
      "Weights : (10, 10), Biases : (10,)\n",
      "\n"
     ]
    }
   ],
   "source": [
    "dummy_x = X_train[:5]\n",
    "rng_key = random.PRNGKey(64)\n",
    "\n",
    "initial_params = forward_fn.init(rng=rng_key, x=dummy_x)\n",
    "\n",
    "for layer_name, weights in initial_params.items():\n",
    "    print(layer_name)\n",
    "    print(\"Weights : {}, Biases : {}\\n\".format(initial_params[layer_name][\"w\"].shape, initial_params[layer_name][\"b\"].shape))"
   ]
  },
  {
   "cell_type": "markdown",
   "metadata": {},
   "source": [
    "The model can process a batch of any size."
   ]
  },
  {
   "cell_type": "code",
   "execution_count": 103,
   "metadata": {},
   "outputs": [
    {
     "name": "stdout",
     "output_type": "stream",
     "text": [
      "[[0.128051   0.08334645 0.1371376  0.11183916 0.08015057 0.09683434\n",
      "  0.08505183 0.09501389 0.09942932 0.08314574]\n",
      " [0.11674449 0.05540307 0.14186898 0.09364638 0.0625442  0.08272201\n",
      "  0.05157936 0.14554046 0.15974481 0.09020625]\n",
      " [0.09376369 0.09093273 0.11680041 0.12771602 0.09921065 0.12666576\n",
      "  0.08326413 0.09241117 0.0874539  0.08178152]\n",
      " [0.0983962  0.07797649 0.15492453 0.1244545  0.06791054 0.11238939\n",
      "  0.06410503 0.0958218  0.10446892 0.09955262]\n",
      " [0.10721549 0.09586134 0.1157705  0.10063749 0.08447137 0.09433784\n",
      "  0.09176547 0.10286564 0.10602225 0.10105269]]\n"
     ]
    }
   ],
   "source": [
    "preds = forward_fn.apply(initial_params, rng_key, X_train[:5])\n",
    "print(preds)"
   ]
  },
  {
   "cell_type": "markdown",
   "metadata": {},
   "source": [
    "The forward pass performed in the loss function now needs the .apply method. The explicit weights, biases and gradients have been replaced by params and grads in the update_params function. This saves a lot of code on more complex models."
   ]
  },
  {
   "cell_type": "code",
   "execution_count": 104,
   "metadata": {},
   "outputs": [],
   "source": [
    "def one_hot(x, k, dtype=jnp.float32):\n",
    "    \"\"\"Create a one-hot encoding of x of size k.\"\"\"\n",
    "    return jnp.array(x[:, None] == jnp.arange(k), dtype)\n",
    "\n",
    "def loss_fn(params, X, Y):\n",
    "    A2 = forward_fn.apply(params, rng_key, X)\n",
    "    one_hot_Y = one_hot(Y, 10)\n",
    "    loss = -jnp.sum(one_hot_Y * jnp.log(A2)) / m\n",
    "    return loss\n",
    "\n",
    "\n",
    "def update_rule(param, update):\n",
    "    return param - 0.1 * update\n",
    "\n",
    "def update_params(params, alpha, X, Y):\n",
    "    grads = grad(loss_fn, argnums=0)(params, X, Y)\n",
    "    params = jax.tree_util.tree_map(update_rule, params, grads)\n",
    "    return params\n"
   ]
  },
  {
   "cell_type": "markdown",
   "metadata": {},
   "source": [
    "The initialization function has been removed since Haiku handles the initialization using the .init method."
   ]
  },
  {
   "cell_type": "code",
   "execution_count": 106,
   "metadata": {},
   "outputs": [],
   "source": [
    "def get_predictions(A2):\n",
    "    return jnp.argmax(A2, axis=1)\n",
    "\n",
    "def get_accuracy(predictions, Y):\n",
    "    print(predictions, Y)\n",
    "    return jnp.mean(predictions == Y)\n",
    "\n",
    "def gradient_descent(X, Y, alpha, iterations):\n",
    "    rng = jax.random.PRNGKey(42)\n",
    "    params = forward_fn.init(rng=rng, x=X)\n",
    "    for i in range(iterations):\n",
    "        params = update_params(params, alpha, X, Y)\n",
    "        if i % 10 == 0:\n",
    "            print(\"Iteration: \", i)\n",
    "            A2 = forward_fn.apply(params, rng, X)\n",
    "            predictions = get_predictions(A2)\n",
    "            print(get_accuracy(predictions, Y))\n",
    "    return params"
   ]
  },
  {
   "cell_type": "code",
   "execution_count": 107,
   "metadata": {},
   "outputs": [
    {
     "name": "stdout",
     "output_type": "stream",
     "text": [
      "Iteration:  0\n",
      "[1 1 3 ... 1 1 5] [0 0 0 ... 1 8 6]\n",
      "0.16109756\n",
      "Iteration:  10\n",
      "[0 8 0 ... 1 1 1] [0 0 0 ... 1 8 6]\n",
      "0.36163414\n",
      "Iteration:  20\n",
      "[0 0 0 ... 1 3 6] [0 0 0 ... 1 8 6]\n",
      "0.60007316\n",
      "Iteration:  30\n",
      "[0 0 0 ... 1 3 6] [0 0 0 ... 1 8 6]\n",
      "0.6927317\n",
      "Iteration:  40\n",
      "[0 0 0 ... 1 3 6] [0 0 0 ... 1 8 6]\n",
      "0.72697556\n",
      "Iteration:  50\n",
      "[0 0 0 ... 1 3 6] [0 0 0 ... 1 8 6]\n",
      "0.7529512\n",
      "Iteration:  60\n",
      "[0 0 0 ... 1 3 6] [0 0 0 ... 1 8 6]\n",
      "0.7769268\n",
      "Iteration:  70\n",
      "[0 0 0 ... 1 3 6] [0 0 0 ... 1 8 6]\n",
      "0.79580486\n",
      "Iteration:  80\n",
      "[0 0 0 ... 1 3 6] [0 0 0 ... 1 8 6]\n",
      "0.8119268\n",
      "Iteration:  90\n",
      "[0 0 0 ... 1 3 6] [0 0 0 ... 1 8 6]\n",
      "0.82373166\n",
      "Iteration:  100\n",
      "[0 0 0 ... 1 3 6] [0 0 0 ... 1 8 6]\n",
      "0.83385366\n",
      "Iteration:  110\n",
      "[0 0 0 ... 1 3 6] [0 0 0 ... 1 8 6]\n",
      "0.841878\n",
      "Iteration:  120\n",
      "[0 0 0 ... 1 3 6] [0 0 0 ... 1 8 6]\n",
      "0.8484878\n",
      "Iteration:  130\n",
      "[0 0 0 ... 1 3 6] [0 0 0 ... 1 8 6]\n",
      "0.85499996\n",
      "Iteration:  140\n",
      "[0 0 0 ... 1 3 6] [0 0 0 ... 1 8 6]\n",
      "0.85975605\n",
      "Iteration:  150\n",
      "[0 0 0 ... 1 3 6] [0 0 0 ... 1 8 6]\n",
      "0.8639024\n",
      "Iteration:  160\n",
      "[0 0 0 ... 1 3 6] [0 0 0 ... 1 8 6]\n",
      "0.86758536\n",
      "Iteration:  170\n",
      "[0 0 0 ... 1 3 6] [0 0 0 ... 1 8 6]\n",
      "0.8705122\n",
      "Iteration:  180\n",
      "[0 0 0 ... 1 3 6] [0 0 0 ... 1 8 6]\n",
      "0.873878\n",
      "Iteration:  190\n",
      "[0 0 0 ... 1 3 6] [0 0 0 ... 1 8 6]\n",
      "0.8768048\n",
      "Iteration:  200\n",
      "[0 0 0 ... 1 3 6] [0 0 0 ... 1 8 6]\n",
      "0.87973166\n",
      "Iteration:  210\n",
      "[0 0 0 ... 1 3 6] [0 0 0 ... 1 8 6]\n",
      "0.88275605\n",
      "Iteration:  220\n",
      "[0 0 0 ... 1 3 6] [0 0 0 ... 1 8 6]\n",
      "0.88460976\n",
      "Iteration:  230\n",
      "[0 0 0 ... 1 3 6] [0 0 0 ... 1 8 6]\n",
      "0.8863171\n",
      "Iteration:  240\n",
      "[0 0 0 ... 1 3 6] [0 0 0 ... 1 8 6]\n",
      "0.8879756\n",
      "Iteration:  250\n",
      "[0 0 0 ... 1 3 6] [0 0 0 ... 1 8 6]\n",
      "0.8894878\n",
      "Iteration:  260\n",
      "[0 0 0 ... 1 3 6] [0 0 0 ... 1 8 6]\n",
      "0.89107317\n",
      "Iteration:  270\n",
      "[0 0 0 ... 1 3 6] [0 0 0 ... 1 8 6]\n",
      "0.89251214\n",
      "Iteration:  280\n",
      "[0 0 0 ... 1 3 6] [0 0 0 ... 1 8 6]\n",
      "0.89373165\n",
      "Iteration:  290\n",
      "[0 0 0 ... 1 3 6] [0 0 0 ... 1 8 6]\n",
      "0.8951463\n",
      "Iteration:  300\n",
      "[0 0 0 ... 1 3 6] [0 0 0 ... 1 8 6]\n",
      "0.89631706\n",
      "Iteration:  310\n",
      "[0 0 0 ... 1 3 6] [0 0 0 ... 1 8 6]\n",
      "0.89731705\n",
      "Iteration:  320\n",
      "[0 0 0 ... 1 3 6] [0 0 0 ... 1 8 6]\n",
      "0.8982683\n",
      "Iteration:  330\n",
      "[0 0 0 ... 1 3 6] [0 0 0 ... 1 8 6]\n",
      "0.8991463\n",
      "Iteration:  340\n",
      "[0 0 0 ... 1 3 6] [0 0 0 ... 1 8 6]\n",
      "0.90004873\n",
      "Iteration:  350\n",
      "[0 0 0 ... 1 3 6] [0 0 0 ... 1 8 6]\n",
      "0.9008049\n",
      "Iteration:  360\n",
      "[0 0 0 ... 1 3 6] [0 0 0 ... 1 8 6]\n",
      "0.90151215\n",
      "Iteration:  370\n",
      "[0 0 0 ... 1 3 6] [0 0 0 ... 1 8 6]\n",
      "0.90190244\n",
      "Iteration:  380\n",
      "[0 0 0 ... 1 3 6] [0 0 0 ... 1 8 6]\n",
      "0.90263414\n",
      "Iteration:  390\n",
      "[0 0 0 ... 1 3 6] [0 0 0 ... 1 8 6]\n",
      "0.9035122\n",
      "Iteration:  400\n",
      "[0 0 0 ... 1 3 6] [0 0 0 ... 1 8 6]\n",
      "0.9042439\n",
      "Iteration:  410\n",
      "[0 0 0 ... 1 3 6] [0 0 0 ... 1 8 6]\n",
      "0.9047073\n",
      "Iteration:  420\n",
      "[0 0 0 ... 1 3 6] [0 0 0 ... 1 8 6]\n",
      "0.90553653\n",
      "Iteration:  430\n",
      "[0 0 0 ... 1 3 6] [0 0 0 ... 1 8 6]\n",
      "0.9061219\n",
      "Iteration:  440\n",
      "[0 0 0 ... 1 3 6] [0 0 0 ... 1 8 6]\n",
      "0.9067805\n",
      "Iteration:  450\n",
      "[0 0 0 ... 1 3 6] [0 0 0 ... 1 8 6]\n",
      "0.90729266\n",
      "Iteration:  460\n",
      "[0 0 0 ... 1 3 6] [0 0 0 ... 1 8 6]\n",
      "0.90787804\n",
      "Iteration:  470\n",
      "[0 0 0 ... 1 3 6] [0 0 0 ... 1 8 6]\n",
      "0.90846336\n",
      "Iteration:  480\n",
      "[0 0 0 ... 1 3 6] [0 0 0 ... 1 8 6]\n",
      "0.90904874\n",
      "Iteration:  490\n",
      "[0 0 0 ... 1 3 6] [0 0 0 ... 1 8 6]\n",
      "0.909439\n"
     ]
    }
   ],
   "source": [
    "params = gradient_descent(X_train, Y_train, 0.10, 500)"
   ]
  },
  {
   "cell_type": "code",
   "execution_count": 96,
   "metadata": {},
   "outputs": [],
   "source": [
    "def make_predictions(X, W1, b1, W2, b2):\n",
    "    A2 = batched_forward(W1, b1, W2, b2, X)\n",
    "    predictions = get_predictions(A2)\n",
    "    return predictions\n",
    "\n",
    "def test_prediction(index, W1, b1, W2, b2):\n",
    "    current_image = X_train[None, index]\n",
    "    prediction = make_predictions(X_train[None, index], W1, b1, W2, b2)\n",
    "    label = Y_train[index]\n",
    "    print(\"Prediction: \", prediction)\n",
    "    print(\"Label: \", label)\n",
    "    \n",
    "    current_image = current_image.reshape((28, 28)) * 255\n",
    "    plt.gray()\n",
    "    plt.imshow(current_image, interpolation='nearest')\n",
    "    plt.show()"
   ]
  },
  {
   "cell_type": "code",
   "execution_count": 97,
   "metadata": {},
   "outputs": [
    {
     "name": "stdout",
     "output_type": "stream",
     "text": [
      "Prediction:  [2]\n",
      "Label:  2\n"
     ]
    },
    {
     "data": {
      "image/png": "[encoded data removed]",
      "text/plain": [
       "<Figure size 432x288 with 1 Axes>"
      ]
     },
     "metadata": {
      "needs_background": "light"
     },
     "output_type": "display_data"
    },
    {
     "name": "stdout",
     "output_type": "stream",
     "text": [
      "Prediction:  [0]\n",
      "Label:  0\n"
     ]
    },
    {
     "data": {
      "image/png": "[encoded data removed]",
      "text/plain": [
       "<Figure size 432x288 with 1 Axes>"
      ]
     },
     "metadata": {
      "needs_background": "light"
     },
     "output_type": "display_data"
    },
    {
     "name": "stdout",
     "output_type": "stream",
     "text": [
      "Prediction:  [8]\n",
      "Label:  8\n"
     ]
    },
    {
     "data": {
      "image/png": "[encoded data removed]",
      "text/plain": [
       "<Figure size 432x288 with 1 Axes>"
      ]
     },
     "metadata": {
      "needs_background": "light"
     },
     "output_type": "display_data"
    },
    {
     "name": "stdout",
     "output_type": "stream",
     "text": [
      "Prediction:  [1]\n",
      "Label:  1\n"
     ]
    },
    {
     "data": {
      "image/png": "[encoded data removed]",
      "text/plain": [
       "<Figure size 432x288 with 1 Axes>"
      ]
     },
     "metadata": {
      "needs_background": "light"
     },
     "output_type": "display_data"
    }
   ],
   "source": [
    "test_prediction(0, W1, b1, W2, b2)\n",
    "test_prediction(1, W1, b1, W2, b2)\n",
    "test_prediction(2, W1, b1, W2, b2)\n",
    "test_prediction(3, W1, b1, W2, b2)"
   ]
  },
  {
   "cell_type": "code",
   "execution_count": 98,
   "metadata": {},
   "outputs": [
    {
     "name": "stdout",
     "output_type": "stream",
     "text": [
      "[3 6 8 8 3 4 5 7 1 9 5 4 5 2 1 7 0 4 1 7 0 8 9 9 4 9 1 7 7 5 2 7 9 0 2 3 6\n",
      " 7 9 6 9 3 9 4 7 9 6 6 6 4 2 7 4 4 1 6 0 6 7 7 1 1 7 1 4 1 6 2 9 3 6 2 2 0\n",
      " 2 6 7 3 1 0 6 5 3 1 3 3 6 3 9 2 2 1 2 6 1 0 1 9 7 5 1 9 9 4 8 7 6 2 0 6 3\n",
      " 2 2 6 3 8 7 5 0 6 5 4 5 1 1 0 1 9 5 6 4 5 5 8 1 4 9 0 2 2 3 8 1 7 7 2 4 2\n",
      " 1 3 8 6 3 7 9 4 7 9 5 7 9 7 0 0 0 7 9 4 1 7 2 4 8 8 8 0 3 7 9 8 5 8 9 6 5\n",
      " 8 1 5 3 4 1 4 2 7 0 6 3 0 5 7 6 7 3 7 9 1 2 7 2 1 0 1 1 9 7 7 1 2 3 8 8 4\n",
      " 2 4 8 4 0 2 8 4 3 1 9 4 4 6 6 6 0 6 6 9 7 7 9 7 9 7 4 7 3 7 6 4 2 0 7 8 8\n",
      " 6 7 5 1 2 7 5 8 0 2 2 6 8 8 6 0 3 3 2 0 6 3 9 1 1 3 2 8 3 9 3 0 5 9 0 1 3\n",
      " 7 6 4 8 6 5 5 3 7 0 8 2 9 1 1 0 4 8 2 6 0 7 0 1 8 9 1 4 7 9 7 9 4 7 2 6 0\n",
      " 2 5 7 3 6 6 2 1 3 2 3 6 8 0 0 1 8 4 1 9 1 8 1 0 6 2 5 7 4 0 0 0 1 1 6 1 4\n",
      " 7 7 3 0 1 0 4 3 0 7 6 5 9 2 7 8 9 0 6 1 8 6 0 9 8 0 1 8 9 6 3 8 4 1 0 2 6\n",
      " 5 6 7 7 8 4 1 4 3 7 9 0 3 0 8 3 3 1 3 9 3 4 2 1 0 1 0 6 6 2 3 7 7 7 6 7 0\n",
      " 5 4 7 4 1 2 4 2 7 1 7 9 7 1 5 0 1 1 7 2 7 1 4 2 6 4 5 5 7 5 3 1 7 4 8 6 0\n",
      " 5 3 0 3 9 4 3 6 2 9 6 1 6 4 5 0 9 8 9 4 7 6 1 3 0 9 1 1 8 2 2 7 6 8 3 4 3\n",
      " 9 1 2 0 0 6 6 3 4 0 7 3 4 4 3 4 3 2 3 2 6 5 1 4 4 7 4 7 4 1 6 8 3 4 7 2 0\n",
      " 1 1 1 8 8 6 3 4 9 0 7 6 8 6 4 8 7 2 1 3 2 5 8 9 0 4 8 6 2 2 9 5 1 6 6 3 6\n",
      " 8 3 3 7 5 5 7 8 3 5 5 0 8 3 2 1 7 6 2 2 6 4 6 6 5 0 7 5 0 4 9 7 9 1 9 0 0\n",
      " 0 2 5 6 4 7 6 2 1 3 5 0 5 1 4 5 1 7 9 2 8 1 4 6 4 4 2 6 0 0 4 8 9 1 4 3 9\n",
      " 9 7 8 5 2 7 2 1 5 7 5 1 0 6 4 6 9 8 5 5 1 8 0 6 8 0 8 5 0 5 4 1 3 3 3 4 7\n",
      " 4 5 6 8 6 7 9 8 7 8 8 2 9 8 3 3 1 2 6 7 3 5 7 3 2 0 4 4 1 4 7 1 4 1 0 3 1\n",
      " 5 3 5 2 7 2 2 2 2 0 8 6 3 9 4 8 0 5 0 8 1 5 2 2 1 2 2 7 2 9 3 6 0 7 2 5 9\n",
      " 0 7 9 7 0 7 1 9 7 5 1 7 1 2 6 1 1 5 9 2 3 6 2 3 9 9 0 7 5 3 3 4 3 0 3 1 7\n",
      " 3 3 1 0 0 8 4 2 2 8 0 1 9 9 9 2 8 5 0 3 0 5 8 9 5 0 0 4 3 4 6 1 7 0 0 0 1\n",
      " 0 1 9 4 3 8 3 9 7 8 3 5 1 7 9 4 1 9 6 2 3 6 1 6 2 9 5 0 9 9 1 2 0 6 0 8 9\n",
      " 0 4 2 2 6 6 4 7 0 5 1 6 5 1 0 1 0 3 2 6 4 2 6 3 6 1 0 6 1 4 8 3 2 6 6 6 2\n",
      " 8 5 7 2 4 7 5 5 1 0 6 1 7 4 0 6 5 1 5 5 1 7 2 1 4 4 9 4 3 6 5 7 2 3 9 5 5\n",
      " 0 4 7 3 8 0 5 8 7 2 5 7 1 5 6 8 0 7 3 9 3 8 3 1 0 0 8 1 9 6 6 1 9 1 7 1 9\n",
      " 8] [3 6 8 8 3 4 3 7 1 7 6 4 5 2 1 7 0 4 1 7 0 5 9 9 4 9 1 7 7 5 2 7 9 0 2 3 6\n",
      " 7 9 6 4 3 4 4 7 9 6 6 6 4 2 5 4 4 1 6 0 6 7 7 1 1 8 1 7 1 6 2 9 8 6 2 3 0\n",
      " 4 2 7 3 1 0 6 5 2 1 5 3 6 3 9 2 2 1 2 2 1 0 1 9 7 5 1 9 7 4 0 5 6 2 0 3 3\n",
      " 1 2 6 3 8 7 5 0 6 5 7 6 1 1 5 1 7 5 6 4 5 5 8 1 4 9 0 2 2 3 8 1 7 9 2 4 9\n",
      " 1 3 8 6 2 7 4 4 7 4 5 7 9 7 0 0 0 7 9 9 1 7 3 4 8 8 8 0 3 7 9 8 3 8 9 2 5\n",
      " 8 1 5 5 2 1 4 2 7 0 6 2 0 5 7 6 7 3 5 4 1 2 5 9 1 0 1 5 4 7 7 1 2 3 3 8 4\n",
      " 2 4 8 4 0 2 8 4 3 1 9 4 4 6 2 6 0 6 6 9 7 3 9 7 9 7 4 7 5 7 6 4 2 0 7 8 8\n",
      " 6 2 5 1 2 7 5 8 0 2 2 6 8 5 6 0 3 3 5 0 6 3 9 1 1 3 2 8 2 9 9 0 7 9 0 1 3\n",
      " 7 6 4 8 6 0 0 3 7 0 8 2 9 2 1 5 4 1 2 6 0 9 0 1 4 9 1 4 7 9 7 9 4 7 2 6 0\n",
      " 2 5 7 3 6 6 2 1 3 2 3 6 2 0 0 1 0 4 1 9 1 8 1 0 6 2 1 9 4 6 0 0 1 1 6 4 4\n",
      " 7 7 3 0 1 0 4 3 5 7 6 5 9 2 7 8 9 0 6 2 8 6 0 9 8 0 1 8 9 0 3 8 4 1 0 3 6\n",
      " 5 6 7 7 8 4 1 4 3 7 9 0 3 0 8 3 8 1 3 9 3 4 2 1 0 1 0 6 6 2 3 7 7 7 6 7 5\n",
      " 5 4 7 4 7 2 4 7 7 1 2 4 7 1 6 0 1 8 2 2 7 7 4 2 6 4 5 5 7 5 3 1 7 4 8 6 0\n",
      " 5 3 0 5 9 4 3 6 2 7 6 1 6 4 5 0 9 8 9 4 7 8 1 2 0 9 1 1 8 2 2 7 2 8 3 4 3\n",
      " 9 1 2 0 0 6 6 3 4 0 7 3 4 4 2 9 3 2 3 2 6 5 1 4 4 7 4 7 4 1 6 8 3 4 7 2 0\n",
      " 1 1 1 8 8 6 3 4 4 0 7 6 8 6 4 8 7 2 1 6 2 5 1 7 0 4 4 4 2 2 9 5 1 6 6 3 5\n",
      " 8 3 0 7 5 5 7 8 3 5 5 0 5 3 2 1 7 6 2 6 2 4 6 6 5 0 7 5 0 4 4 7 9 1 9 5 0\n",
      " 0 2 5 6 4 7 6 2 1 3 5 0 5 7 4 5 1 7 8 2 8 1 4 6 9 4 5 6 0 0 4 8 7 1 4 3 9\n",
      " 8 7 8 5 2 7 2 1 5 8 5 1 0 6 4 6 9 8 0 5 1 8 0 6 8 0 5 5 3 5 4 1 3 3 3 9 7\n",
      " 4 5 1 8 6 7 9 2 9 8 8 2 9 8 3 3 1 2 8 7 3 5 9 1 2 0 5 4 1 4 7 1 4 1 0 3 1\n",
      " 5 9 5 6 7 2 8 2 2 0 8 6 3 9 4 8 0 5 0 8 1 5 7 8 8 2 2 7 0 9 3 6 0 5 2 1 9\n",
      " 0 7 8 7 0 7 1 9 7 5 1 7 1 0 6 1 1 5 0 2 3 6 2 8 9 9 0 7 5 3 3 9 5 0 2 1 7\n",
      " 3 3 1 9 0 8 4 2 2 8 0 1 9 9 9 2 8 5 0 3 0 5 8 9 5 0 0 4 3 4 6 1 7 4 0 0 1\n",
      " 0 1 7 4 3 8 3 9 7 8 3 8 1 7 5 4 1 7 6 2 3 6 1 6 2 9 0 0 9 9 1 2 0 6 0 8 9\n",
      " 0 1 9 4 6 6 9 7 0 5 4 6 3 1 0 1 0 3 2 6 9 2 4 3 6 1 0 3 1 4 2 9 2 6 6 6 2\n",
      " 8 5 7 2 4 7 5 5 1 0 6 1 7 4 0 6 5 1 5 8 1 7 9 1 4 4 9 4 3 6 1 7 2 3 9 5 5\n",
      " 0 4 7 3 8 0 5 8 7 2 5 7 1 2 6 5 0 7 3 9 3 4 5 1 8 0 8 1 9 6 6 1 7 1 7 1 9\n",
      " 8]\n"
     ]
    },
    {
     "data": {
      "text/plain": [
       "DeviceArray(0.83900005, dtype=float32)"
      ]
     },
     "execution_count": 98,
     "metadata": {},
     "output_type": "execute_result"
    }
   ],
   "source": [
    "val_predictions = make_predictions(X_val, W1, b1, W2, b2)\n",
    "get_accuracy(val_predictions, Y_val)"
   ]
  },
  {
   "cell_type": "markdown",
   "metadata": {},
   "source": [
    "No loss in accuracy during training or inferencing compared to other methods."
   ]
  },
  {
   "cell_type": "markdown",
   "metadata": {},
   "source": [
    "### Conclusion\n",
    "\n",
    "Haiku provides powerful tools that make defining model architecture and intialization simple. As shown in this notebook, this saves a lot of time and complexity in the code."
   ]
  }
 ],
 "metadata": {
  "kernelspec": {
   "display_name": "Python 3.8.10 ('jax0.3')",
   "language": "python",
   "name": "python3"
  },
  "language_info": {
   "codemirror_mode": {
    "name": "ipython",
    "version": 3
   },
   "file_extension": ".py",
   "mimetype": "text/x-python",
   "name": "python",
   "nbconvert_exporter": "python",
   "pygments_lexer": "ipython3",
   "version": "3.8.10"
  },
  "orig_nbformat": 4,
  "vscode": {
   "interpreter": {
    "hash": "9b55b4f1ed0ab49d1b0af7b4581ff82338a5e4e950fefc3b23f0187ed730cfd3"
   }
  }
 },
 "nbformat": 4,
 "nbformat_minor": 2
}
